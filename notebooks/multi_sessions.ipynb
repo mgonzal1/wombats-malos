{
 "cells": [
  {
   "cell_type": "markdown",
   "metadata": {},
   "source": [
    "# Notebook for multiple sessions"
   ]
  },
  {
   "cell_type": "code",
   "execution_count": 1,
   "metadata": {},
   "outputs": [],
   "source": [
    "import numpy as np\n",
    "import pandas as pd\n",
    "\n",
    "from pathlib import Path\n",
    "from matplotlib import pyplot as plt\n",
    "import ipywidgets as widgets\n",
    "from ipywidgets import interact, interactive, fixed, interact_manual\n",
    "from sklearn.model_selection import cross_val_score"
   ]
  },
  {
   "cell_type": "code",
   "execution_count": 2,
   "metadata": {},
   "outputs": [],
   "source": [
    "from importlib import reload\n",
    "\n",
    "from wombats import utils\n",
    "from wombats import metrics\n",
    "from wombats import models\n",
    "\n",
    "# if changes to the files run this to reload the moduls\n",
    "utils = reload(utils)\n",
    "metrics = reload(metrics)\n",
    "models = reload(models)"
   ]
  },
  {
   "cell_type": "code",
   "execution_count": 3,
   "metadata": {},
   "outputs": [],
   "source": [
    "data_file = Path('../data/steinmetz/steinmetz_all.npy')\n",
    "data_folder = Path('../data/steinmetz/')\n",
    "if not data_file.exists():\n",
    "    data = utils.load_steinmentz()\n",
    "    data_folder.mkdir(parents=True)\n",
    "    data_file.touch()\n",
    "    np.save(data_file, data)\n",
    "else:\n",
    "    data = np.load(data_file, allow_pickle=True)"
   ]
  },
  {
   "cell_type": "code",
   "execution_count": 4,
   "metadata": {},
   "outputs": [],
   "source": [
    "n_sessions = len(data)"
   ]
  },
  {
   "cell_type": "code",
   "execution_count": 5,
   "metadata": {},
   "outputs": [],
   "source": [
    "#@title Representative session\n",
    "#@markdown Let's see which session has more neurons in the areas that we are going to use and how many neurons it has.\n",
    "\n",
    "brain_groups = [[\"VISa\", \"VISam\", \"VISl\", \"VISp\", \"VISpm\", \"VISrl\"], # visual cortex\n",
    "                  [\"MOp\", \"MOs\"],\n",
    "                  ]\n",
    "regions = [\"visual\", \"motor\"]\n",
    "\n",
    "def count_neurons_per_brain_area():\n",
    "    neurons_in_session = []\n",
    "    for i in range (0,n_sessions):\n",
    "        session = data[i]\n",
    "        brain_areas = session['brain_area']\n",
    "\n",
    "        neurons_in_area = []\n",
    "        for group in brain_groups:\n",
    "            count = 0\n",
    "            for area in group:\n",
    "                count += np.count_nonzero(brain_areas == area)\n",
    "            neurons_in_area.append(count)\n",
    "        neurons_in_session.append(neurons_in_area)\n",
    "    return neurons_in_session\n",
    "\n",
    "def plot_areas_sessions(sessions, neurons_in_session):\n",
    "    fig, ax = plt.subplots(figsize=(18, 5))\n",
    "    neurons_in_session = np.asarray(neurons_in_session).T\n",
    "    im = ax.imshow(neurons_in_session)\n",
    "    ax.set_xticks(np.arange(len(sessions)))\n",
    "    ax.set_yticks(np.arange(len(regions)))\n",
    "    ax.set_yticklabels(regions)\n",
    "    ax.set_xticklabels(sessions)\n",
    "    \n",
    "    for i in range(len(regions)):\n",
    "        for j in range(len(sessions)):\n",
    "            text = ax.text(j, i, str(neurons_in_session[i,j]),\n",
    "                           ha=\"center\", va=\"center\", color=\"w\")\n",
    "    ax.set_title(\"Number of neurons per brain area\")\n",
    "    fig.tight_layout()\n",
    "    plt.show()\n",
    "    \n",
    "    \n",
    "def get_representative_sessions(min_visual=1, min_motor=1):\n",
    "    representative_sessions = []\n",
    "    new_neurons = []\n",
    "    neurons_in_session = count_neurons_per_brain_area()\n",
    "    \n",
    "    for session, n_neurons in enumerate(neurons_in_session):\n",
    "        if(n_neurons[0] > min_visual and n_neurons[1] > min_motor):\n",
    "            representative_sessions.append(session)\n",
    "            new_neurons.append(n_neurons)\n",
    "    plot_areas_sessions(representative_sessions, new_neurons)\n",
    "    \n",
    "    return representative_sessions\n"
   ]
  },
  {
   "cell_type": "code",
   "execution_count": 6,
   "metadata": {},
   "outputs": [
    {
     "data": {
      "image/png": "[encoded data removed]",
      "text/plain": [
       "<Figure size 1296x360 with 1 Axes>"
      ]
     },
     "metadata": {
      "needs_background": "light"
     },
     "output_type": "display_data"
    }
   ],
   "source": [
    "idx_session  = get_representative_sessions(20, 20)\n",
    "# Get subset of selected sessions:\n",
    "data = data[idx_session]"
   ]
  },
  {
   "cell_type": "code",
   "execution_count": 7,
   "metadata": {},
   "outputs": [],
   "source": [
    "# DEFAULTS\n",
    "N_XVAL = 10 # cross validation\n",
    "ANALYSIS_TIME_WINDOW =  np.array([0,0.5]) # time window to analize\n",
    "DOWNSAMPLING_FACTOR  = 'all'  # 'all'-> implies that the analisis time window is compressed to 1\n",
    "TRIAL_RANGE = np.array([-0.5, 2])\n",
    "SAMP_RATE = 0.01\n",
    "\n",
    "\n",
    "N_SESSIONS = len(data)\n",
    "EXCLUDE_PRE = abs(ANALYSIS_TIME_WINDOW[0]-TRIAL_RANGE[0])\n",
    "EXCLUDE_POST  = abs(ANALYSIS_TIME_WINDOW[1]-TRIAL_RANGE[1])\n"
   ]
  },
  {
   "cell_type": "code",
   "execution_count": 8,
   "metadata": {},
   "outputs": [
    {
     "name": "stdout",
     "output_type": "stream",
     "text": [
      "14\n"
     ]
    }
   ],
   "source": [
    "print(N_SESSIONS)"
   ]
  },
  {
   "cell_type": "code",
   "execution_count": 12,
   "metadata": {},
   "outputs": [],
   "source": [
    "\n",
    "def stim_to_a1(session_data, region=\"visual\"):\n",
    "    # Get data\n",
    "    region_dat = utils.get_region_data(session_data, region=region, data_type='fr')\n",
    "    stim = session_data['stims']\n",
    "    n_region_neurons = region_dat.shape[0]\n",
    "    n_analysis_time_bins = region_dat.shape[2]\n",
    "    \n",
    "    if n_analysis_time_bins==1:\n",
    "        region_dat = region_dat.squeeze().T  # reshapes from neurons x trial x 1 bin, to trials x neurons\n",
    "        # Model Linear Regression\n",
    "        encoder, enc_coefs, enc_model = models.train_linear_encoder(stim, region_dat)\n",
    "        A1 = enc_coefs\n",
    "        region_dat_hat = encoder(stim)\n",
    "    \n",
    "        enc_perf = np.zeros((n_region_neurons,N_XVAL))\n",
    "        for neuron in range(n_region_neurons):\n",
    "            # PARA ANALIZAR LA IMPORTANCIA DE CADA NEURONA\n",
    "            enc_perf[neuron] = cross_val_score(enc_model, stim, region_dat[:,neuron], cv=N_XVAL, scoring='explained_variance')\n",
    "    else:\n",
    "        # need to implement a method for time window iteration\n",
    "        raise NotImplementedError\n",
    "    return A1, enc_perf\n",
    "\n",
    "\n",
    "#ToDo: define if we neeed this function    \n",
    "def performance_per_neuron(neurons, neurons_hat, enc_perf):\n",
    "    #MSE and R2 per unit\n",
    "    encoding_scores = pd.DataFrame(columns = ['r2', 'xval_r2', 'mse', 'nrmse'])\n",
    "    encoding_scores['r2'] = metrics.r2(neurons.T,neurons_hat.T)\n",
    "    encoding_scores['mse'] = metrics.mse(neurons.T,neurons_hat.T)\n",
    "    encoding_scores['nrmse'] = metrics.nrmse(neurons.T,neurons_hat.T)\n",
    "    encoding_scores['xval_r2'] = np.median(enc_perf,axis=1)\n",
    "\n",
    "    return encoding_scores.mean()"
   ]
  },
  {
   "cell_type": "code",
   "execution_count": null,
   "metadata": {},
   "outputs": [],
   "source": [
    "def "
   ]
  },
  {
   "cell_type": "code",
   "execution_count": 13,
   "metadata": {},
   "outputs": [],
   "source": [
    "\n",
    "data_set = [None] * N_SESSIONS\n",
    "A1={i:[] for i in range(N_SESSIONS)}\n",
    "encoding_perf={i:[] for i in range(N_SESSIONS)}\n",
    "\n",
    "for session in range(N_SESSIONS):\n",
    "    data_set[session] = utils.filter_no_go_choice(data[session])\n",
    "    data_set[session]['fr'] = utils.spikes_to_fr(data_set[session]['spks'], \n",
    "                                    samp_rate=SAMP_RATE, \n",
    "                                    downsampling_factor=DOWNSAMPLING_FACTOR, \n",
    "                                    exclude_pre=EXCLUDE_PRE, \n",
    "                                    exclude_post=EXCLUDE_POST,\n",
    "                                   )\n",
    "    train_set, val_set = utils.split_validation_set(data_set[session])    \n",
    "    A1[session], encoding_perf[session] = stim_to_a1(train_set, \"visual\")\n",
    "    \n"
   ]
  },
  {
   "cell_type": "code",
   "execution_count": 29,
   "metadata": {},
   "outputs": [
    {
     "name": "stdout",
     "output_type": "stream",
     "text": [
      "-0.06373095649278113\n"
     ]
    }
   ],
   "source": [
    " #Variance\n",
    "variance = [encoding_perf[session].mean() for session in range(N_SESSIONS)]\n",
    "\n",
    "print(np.mean(variance))"
   ]
  },
  {
   "cell_type": "code",
   "execution_count": null,
   "metadata": {},
   "outputs": [],
   "source": []
  }
 ],
 "metadata": {
  "file_extension": ".py",
  "kernelspec": {
   "display_name": "Python 3",
   "language": "python",
   "name": "python3"
  },
  "language_info": {
   "codemirror_mode": {
    "name": "ipython",
    "version": 3
   },
   "file_extension": ".py",
   "mimetype": "text/x-python",
   "name": "python",
   "nbconvert_exporter": "python",
   "pygments_lexer": "ipython3",
   "version": "3.8.5"
  },
  "mimetype": "text/x-python",
  "name": "python",
  "npconvert_exporter": "python",
  "pygments_lexer": "ipython3",
  "version": 3
 },
 "nbformat": 4,
 "nbformat_minor": 4
}
