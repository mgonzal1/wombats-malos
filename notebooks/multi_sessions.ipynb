{
 "cells": [
  {
   "cell_type": "markdown",
   "metadata": {},
   "source": [
    "# Notebook for multiple sessions"
   ]
  },
  {
   "cell_type": "code",
   "execution_count": 22,
   "metadata": {},
   "outputs": [],
   "source": [
    "import numpy as np\n",
    "import pandas as pd\n",
    "\n",
    "from pathlib import Path\n",
    "from matplotlib import pyplot as plt\n",
    "import ipywidgets as widgets\n",
    "from ipywidgets import interact, interactive, fixed, interact_manual\n",
    "from sklearn.model_selection import cross_val_score"
   ]
  },
  {
   "cell_type": "code",
   "execution_count": 23,
   "metadata": {},
   "outputs": [
    {
     "ename": "ModuleNotFoundError",
     "evalue": "No module named 'wombats'",
     "output_type": "error",
     "traceback": [
      "\u001b[1;31m---------------------------------------------------------------------------\u001b[0m",
      "\u001b[1;31mModuleNotFoundError\u001b[0m                       Traceback (most recent call last)",
      "\u001b[1;32m<ipython-input-2-b869fd59a9bf>\u001b[0m in \u001b[0;36m<module>\u001b[1;34m\u001b[0m\n\u001b[0;32m      1\u001b[0m \u001b[1;32mfrom\u001b[0m \u001b[0mimportlib\u001b[0m \u001b[1;32mimport\u001b[0m \u001b[0mreload\u001b[0m\u001b[1;33m\u001b[0m\u001b[1;33m\u001b[0m\u001b[0m\n\u001b[0;32m      2\u001b[0m \u001b[1;33m\u001b[0m\u001b[0m\n\u001b[1;32m----> 3\u001b[1;33m \u001b[1;32mfrom\u001b[0m \u001b[0mwombats\u001b[0m \u001b[1;32mimport\u001b[0m \u001b[0mutils\u001b[0m\u001b[1;33m\u001b[0m\u001b[1;33m\u001b[0m\u001b[0m\n\u001b[0m\u001b[0;32m      4\u001b[0m \u001b[1;32mfrom\u001b[0m \u001b[0mwombats\u001b[0m \u001b[1;32mimport\u001b[0m \u001b[0mmetrics\u001b[0m\u001b[1;33m\u001b[0m\u001b[1;33m\u001b[0m\u001b[0m\n\u001b[0;32m      5\u001b[0m \u001b[1;32mfrom\u001b[0m \u001b[0mwombats\u001b[0m \u001b[1;32mimport\u001b[0m \u001b[0mmodels\u001b[0m\u001b[1;33m\u001b[0m\u001b[1;33m\u001b[0m\u001b[0m\n",
      "\u001b[1;31mModuleNotFoundError\u001b[0m: No module named 'wombats'"
     ]
    }
   ],
   "source": [
    "from importlib import reload\n",
    "\n",
    "from wombats import utils\n",
    "from wombats import metrics\n",
    "from wombats import models\n",
    "import random\n",
    "# if changes to the files run this to reload the moduls\n",
    "utils = reload(utils)\n",
    "metrics = reload(metrics)\n",
    "models = reload(models)"
   ]
  },
  {
   "cell_type": "code",
<<<<<<< HEAD
   "execution_count": 24,
=======
   "execution_count": null,
>>>>>>> origin/master
   "metadata": {},
   "outputs": [],
   "source": [
    "data_file = Path('../data/steinmetz/steinmetz_all.npy')\n",
    "data_folder = Path('../data/steinmetz/')\n",
    "if not data_file.exists():\n",
    "    data = utils.load_steinmentz()\n",
    "    data_folder.mkdir(parents=True)\n",
    "    data_file.touch()\n",
    "    np.save(data_file, data)\n",
    "else:\n",
    "    data = np.load(data_file, allow_pickle=True)"
   ]
  },
  {
   "cell_type": "code",
<<<<<<< HEAD
   "execution_count": 5,
=======
   "execution_count": null,
>>>>>>> origin/master
   "metadata": {},
   "outputs": [],
   "source": [
    "n_sessions = len(data)"
   ]
  },
  {
   "cell_type": "code",
<<<<<<< HEAD
   "execution_count": 25,
=======
   "execution_count": null,
>>>>>>> origin/master
   "metadata": {},
   "outputs": [],
   "source": [
    "#@title Representative session\n",
    "#@markdown Let's see which session has more neurons in the areas that we are going to use and how many neurons it has.\n",
    "\n",
    "brain_groups = [[\"VISa\", \"VISam\", \"VISl\", \"VISp\", \"VISpm\", \"VISrl\"], # visual cortex\n",
    "                  [\"MOp\", \"MOs\"],\n",
    "                  ]\n",
    "regions = [\"visual\", \"motor\"]\n",
    "\n",
    "def count_neurons_per_brain_area():\n",
    "    neurons_in_session = []\n",
    "    for i in range (0,n_sessions):\n",
    "        session = data[i]\n",
    "        brain_areas = session['brain_area']\n",
    "\n",
    "        neurons_in_area = []\n",
    "        for group in brain_groups:\n",
    "            count = 0\n",
    "            for area in group:\n",
    "                count += np.count_nonzero(brain_areas == area)\n",
    "            neurons_in_area.append(count)\n",
    "        neurons_in_session.append(neurons_in_area)\n",
    "    return neurons_in_session\n",
    "\n",
    "def plot_areas_sessions(sessions, neurons_in_session):\n",
    "    fig, ax = plt.subplots(figsize=(18, 5))\n",
    "    neurons_in_session = np.asarray(neurons_in_session).T\n",
    "    im = ax.imshow(neurons_in_session)\n",
    "    ax.set_xticks(np.arange(len(sessions)))\n",
    "    ax.set_yticks(np.arange(len(regions)))\n",
    "    ax.set_yticklabels(regions)\n",
    "    ax.set_xticklabels(sessions)\n",
    "    \n",
    "    for i in range(len(regions)):\n",
    "        for j in range(len(sessions)):\n",
    "            text = ax.text(j, i, str(neurons_in_session[i,j]),\n",
    "                           ha=\"center\", va=\"center\", color=\"w\")\n",
    "    ax.set_title(\"Number of neurons per brain area\")\n",
    "    fig.tight_layout()\n",
    "    plt.show()\n",
    "    \n",
    "    \n",
    "def get_representative_sessions(min_visual=1, min_motor=1):\n",
    "    representative_sessions = []\n",
    "    new_neurons = []\n",
    "    neurons_in_session = count_neurons_per_brain_area()\n",
    "    \n",
    "    for session, n_neurons in enumerate(neurons_in_session):\n",
    "        if(n_neurons[0] > min_visual and n_neurons[1] > min_motor):\n",
    "            representative_sessions.append(session)\n",
    "            new_neurons.append(n_neurons)\n",
    "    plot_areas_sessions(representative_sessions, new_neurons)\n",
    "    \n",
    "    return representative_sessions\n"
   ]
  },
  {
   "cell_type": "code",
   "execution_count": 26,
   "metadata": {},
   "outputs": [
    {
     "data": {
      "image/png": "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\n",
      "text/plain": [
       "<Figure size 1296x360 with 1 Axes>"
      ]
     },
     "metadata": {
      "needs_background": "light"
     },
     "output_type": "display_data"
    }
   ],
   "source": [
    "idx_session  = get_representative_sessions(20, 20)\n",
    "# Get subset of selected sessions:\n",
    "data = data[idx_session]"
   ]
  },
  {
   "cell_type": "code",
   "execution_count": 27,
   "metadata": {},
   "outputs": [],
   "source": [
    "# DEFAULTS\n",
    "N_XVAL = 10 # cross validation\n",
    "DOWNSAMPLING_FACTOR  = 'all'  # 'all'-> implies that the analisis time window is compressed to 1\n",
    "TRIAL_RANGE = np.array([-0.5, 2])\n",
    "SAMP_RATE = 0.01\n",
    "\n",
    "N_SESSIONS = len(data)\n"
   ]
  },
  {
   "cell_type": "code",
   "execution_count": 28,
   "metadata": {},
   "outputs": [
    {
     "name": "stdout",
     "output_type": "stream",
     "text": [
      "14\n"
     ]
    }
   ],
   "source": [
    "print(N_SESSIONS)"
   ]
  },
  {
   "cell_type": "markdown",
   "metadata": {},
   "source": [
    "## Functions to get coefficients"
   ]
  },
  {
   "cell_type": "code",
   "execution_count": 32,
   "metadata": {},
   "outputs": [],
   "source": [
    "## TODO: alternatives for these functions.\n",
    "# take out obtaining performance and the prediction?\n",
    "\n",
    "def get_a1(stim, region_dat):\n",
    "    \n",
    "    n_region_neurons = region_dat.shape[0]\n",
    "    n_analysis_time_bins = region_dat.shape[2]\n",
    "    \n",
    "    if n_analysis_time_bins==1:\n",
    "        region_dat = region_dat.squeeze().T  # reshapes from neurons x trial x 1 bin, to trials x neurons\n",
    "        \n",
    "        # Model Linear Regression\n",
    "        encoder, encoder_coefs, encoder_model = models.train_linear_encoder(stim, region_dat)\n",
    "        A1 = encoder_coefs\n",
    "        \n",
    "        # get training data prediction\n",
    "        region_dat_hat = encoder(stim)  \n",
    "    \n",
    "        # get performance\n",
    "        encoder_perf = get_xval_perf(model=encoder_model, input_data=stim, output_data=region_dat, scoring='explained_variance')\n",
    "    else:\n",
    "        # need to implement a method for time window iteration\n",
    "        raise NotImplementedError\n",
    "    \n",
    "    return A1, encoder_perf, region_dat_hat\n",
    "\n",
    "\n",
    "def get_a2(region1_dat, region2_dat):\n",
    "    \"\"\"\n",
    "    :param region1_dat: generated output from a1\n",
    "    \"\"\"\n",
    "    \n",
    "    # Get data\n",
    "    #region2_dat = utils.get_region_data(train_set, region=region2, data_type='fr') \n",
    "    n_region2_neurons = region2_dat.shape[0]\n",
    "    n_analysis_time_bins = region2_dat.shape[2]\n",
    "    \n",
    "    if n_analysis_time_bins==1:\n",
    "        region2_dat = region2_dat.squeeze().T  # reshapes from neurons x trial x 1 bin, to trials x neurons\n",
    "        \n",
    "        # Model Linear Regression\n",
    "        transition, transition_coefs, transition_model = models.train_linear_transition(region1_dat, region2_dat)\n",
    "        A2 = transition_coefs\n",
    "        \n",
    "        # get training data prediction\n",
    "        region2_dat_hat = transition(region1_dat)\n",
    "\n",
    "        # get performance\n",
    "        transition_perf = get_xval_perf(model=transition_model, input_data=region1_dat, output_data=region2_dat, scoring='explained_variance')  \n",
    "\n",
    "    else:\n",
    "        # need to implement a method for time window iteration\n",
    "        raise NotImplementedError\n",
    "    \n",
    "    return A2, transition_perf, region2_dat_hat\n",
    "\n",
    "\n",
    "def get_a3(region_dat, output_dat):\n",
    "    n_region_neurons = region_dat.shape[0]\n",
    "    n_analysis_time_bins = region_dat.shape[2]\n",
    "    \n",
    "    if n_analysis_time_bins==1:\n",
    "        region_dat = region_dat.squeeze().T  # reshapes from neurons x trial x 1 bin, to trials x neurons\n",
    "        \n",
    "        # Model Linear Regression\n",
    "        decoder, decoder_coefs, decoder_model = models.train_logistic_decoder(region_dat, output)\n",
    "        A3 = decoder_coefs\n",
    "        \n",
    "        # get prediction\n",
    "        region_dat_hat = decoder(region_dat)\n",
    "    \n",
    "        # get performance\n",
    "        decoder_perf = get_xval_perf(model=decoder_model, input_data=region_dat, output_data=output_dat, scoring='balanced_accuracy')\n",
    "    else:\n",
    "        # need to implement a method for time window iteration\n",
    "        raise NotImplementedError\n",
    "    \n",
    "    return A3, decoder_perf, region_dat_hat\n",
    "\n",
    "def get_full_model_output(stim, A1, A2, A3, output_type='bool'):\n",
    "    linear_output = stim @ A1 @ A2 @ A3\n",
    "    \n",
    "    if output_type=='prob':\n",
    "        output = utils.sigmoid(linear_output).flatten()\n",
    "    elif output_type == 'bool':\n",
    "        output = (linear_output>0).flatten()\n",
    "        \n",
    "    return output\n"
   ]
  },
  {
   "cell_type": "code",
   "execution_count": 30,
   "metadata": {},
   "outputs": [],
   "source": [
    "def get_xval_perf(model, input_data, output_data, n_xval=N_XVAL, scoring='explained_variance'):\n",
    "    \n",
    "    if output_data.ndim==1:\n",
    "        output_data = output_data[:, np.newaxis]\n",
    "\n",
    "    n_outputs = output_data.shape[1]\n",
    "    \n",
    "    perf = np.zeros((n_outputs, n_xval))\n",
    "    for output_idx in range(n_outputs):\n",
    "        perf[output_idx] = cross_val_score(model, input_data, output_data[:, output_idx], cv=n_xval, scoring=scoring)\n",
    "        \n",
    "    return perf\n",
    "\n",
    "def regression_performance_by_neuron(data, data_hat, xval_perf):\n",
    "    #MSE and R2 per unit\n",
    "    scores = pd.DataFrame(columns = ['r2', 'xval_r2', 'mse', 'nrmse'])\n",
    "    scores['r2'] = metrics.r2(data.T, data_hat.T)\n",
    "    scores['mse'] = metrics.mse(data.T, data_hat.T)\n",
    "    scores['nrmse'] = metrics.nrmse(data.T, data_hat.T)\n",
    "    scores['xval_r2'] = np.median(xval_perf,axis=1)\n",
    "\n",
    "    return scores.mean()\n",
    "\n",
    "# TODO: full model metrics\n",
    "# (1) against animal choice \n",
    "# (2) against correct choice\n",
    "\n"
   ]
  },
  {
   "cell_type": "code",
   "execution_count": 36,
   "metadata": {},
   "outputs": [
    {
     "name": "stdout",
     "output_type": "stream",
     "text": [
      "CPU times: user 37.8 s, sys: 359 ms, total: 38.1 s\n",
      "Wall time: 3.85 s\n"
     ]
    }
   ],
   "source": [
    "%%time \n",
    "\n",
    "region1 = 'visual'\n",
    "region2 = 'motor'\n",
    "data_type = 'fr'\n",
    "analysis_time_window =  np.array([0,0.5]) # time window to analizee\n",
    "\n",
    "\n",
    "exclude_pre = abs(analysis_time_window[0]-TRIAL_RANGE[0])\n",
    "exclude_post  = abs(analysis_time_window[1]-TRIAL_RANGE[1])\n",
    "\n",
    "data_set = [None] * N_SESSIONS\n",
    "\n",
    "A1 = {i:[] for i in range(N_SESSIONS)}\n",
    "encoder_perf = {i:[] for i in range(N_SESSIONS)}\n",
    "\n",
    "A2 = {i:[] for i in range(N_SESSIONS)}\n",
    "transition_perf = {i:[] for i in range(N_SESSIONS)}\n",
    "\n",
    "A3 = {i:[] for i in range(N_SESSIONS)}\n",
    "decoder_perf = {i:[] for i in range(N_SESSIONS)}\n",
    "\n",
    "full_model_scores = {i:[] for i in range(N_SESSIONS)}\n",
    "full_model_val_scores = {i:[] for i in range(N_SESSIONS)}\n",
    "\n",
    "for session in range(N_SESSIONS):\n",
    "#     print(session)\n",
    "    data_set[session] = utils.filter_no_go_choice(data[session])\n",
    "    data_set[session]['fr'] = utils.spikes_to_fr(data_set[session]['spks'], \n",
    "                                    samp_rate=SAMP_RATE, \n",
    "                                    downsampling_factor=DOWNSAMPLING_FACTOR, \n",
    "                                    exclude_pre=exclude_pre, \n",
    "                                    exclude_post=exclude_post,\n",
    "                                   )\n",
    "    \n",
    "    \n",
    "    train_set, val_set = utils.split_validation_set(data_set[session])    \n",
    "    \n",
    "    stim = train_set['stims']\n",
    "    region1_data = utils.get_region_data(train_set, region=region1, data_type=data_type) \n",
    "    region2_data = utils.get_region_data(train_set, region=region2, data_type=data_type) \n",
    "    output = train_set['response']>0\n",
    "    \n",
    "    A1[session], encoder_perf[session], encoder_output  = get_a1(stim, region1_data)\n",
    "    A2[session], transition_perf[session], transition_output  = get_a2(encoder_output, region2_data)  ## input is encoder output\n",
    "    A3[session], decoder_perf[session], decoder_output  = get_a3(region2_data, output)\n",
    "    \n",
    "    ## up to above is correct\n",
    "    ## change full model ouput to give subjectiver performance (subject choice == model output) \n",
    "    ## objective performance (correct output / contrast == model output)\n",
    "    ## store subject performance (correct output / contrast == subject choice)\n",
    "    \n",
    "    ## full model score should store the above.\n",
    "    full_model_output = get_full_model_output(stim, A1[session], A2[session], A3[session], output_type='prob')\n",
    "    \n",
    "    ## validation set\n",
    "    stim_val = val_set['stims']\n",
    "    output_val = val_set['response']>0\n",
    "\n",
    "    break\n",
    "        "
   ]
  },
  {
   "cell_type": "code",
   "execution_count": 46,
   "metadata": {},
   "outputs": [
    {
     "data": {
      "image/png": "iVBORw0KGgoAAAANSUhEUgAAAXQAAAD4CAYAAAD8Zh1EAAAAOXRFWHRTb2Z0d2FyZQBNYXRwbG90bGliIHZlcnNpb24zLjMuMSwgaHR0cHM6Ly9tYXRwbG90bGliLm9yZy/d3fzzAAAACXBIWXMAAAsTAAALEwEAmpwYAAATjElEQVR4nO3df5DcdX3H8ee7wTjKRTRGTwq0oUyqjQ1MvSsBaeudVptgbdoZmIKZaKiQYcY4dQY7puOMP8ZxBuvQqbVoJsEM2qHeTCvVlEQptbmi/BoSBgiRguFHbRIaijjgoSMNvvvH7sGy2bv97mX3dvPh+ZjZuf1+v5/vd1/57t7rvve972YjM5EkHf9+qd8BJEndYaFLUiEsdEkqhIUuSYWw0CWpECf064GXLFmSS5cundO6zzzzDCeeeGJ3A3XBoOaCwc1mrs6YqzMl5tqzZ88Tmfm6lgszsy+3kZGRnKtdu3bNed1eGtRcmYObzVydMVdnSswF7M4ZetVTLpJUCAtdkgphoUtSISx0SSqEhS5JhWh72WJEbAP+EHg8M3+zxfIAPg+cD/wUWJ+Zd3U7qDQflm7aAcAVK46wvn7/0Svf3c9IAJy+aQfJC7kCeGQAcg3q/jrzE9/m6Z8/93yuV718Afd+alW/Y/V8f1U5Qr8WmG1PrAaW1W8bgC8deyxp/k1/s1WdP1+my7xR1uf306Dur+kyb/T0z5/jzE98u0+JauZjf7Ut9My8GXhyliFrgK/WL5G8HXh1RJzcrYDSS91M/8G1//F1a81l3m5+SSIr/H/oEbEUuGGGUy43AFdm5vfq098BPpqZu1uM3UDtKJ7h4eGRiYmJOYWemppiaGhoTuv20qDmgsHNNki59h586vn7w6+Awz97YdmKU07qQ6Iac3Wm9Fzj4+N7MnO01bJuvPU/Wsxr+VMiM7cAWwBGR0dzbGxsTg84OTnJXNftpUHNBYObbZByrW/41feKFUe4au8L3x6Prh3rQ6Iac3XmpZyrG1e5HABOa5g+FTjUhe1KovUR02zzX+pe9fIFHc0vSTcKfTvwvqg5B3gqMx/rwnaleTXT1Qb9vmrjkSvffVR5D8JVLoO6v+791KqjynsQrnKZj/1V5bLFrwFjwJKIOAB8AngZQGZuBnZSu2RxP7XLFi/pWjppnk1/c01OTvb11/NmjwxorkHdX9PlPWi5er2/2hZ6Zl7cZnkCH+xaIknSnPhOUUkqhIUuSYWw0CWpEBa6JBXCQpekQljoklQIC12SCmGhS1IhLHRJKoSFLkmFsNAlqRAWuiQVwkKXpEJY6JJUCAtdkgphoUtSISx0SSqEhS5JhbDQJakQFrokFcJCl6RCWOiSVAgLXZIKYaFLUiEsdEkqhIUuSYWw0CWpEBa6JBXCQpekQljoklQIC119sXbrbSzdtIO9B59i6aYdrN16W78jSce9SoUeEasi4oGI2B8Rm1osPyki/iUi7omIfRFxSfejqhRrt97GLQ89+aJ5tzz0pKUuHaO2hR4RC4CrgdXAcuDiiFjeNOyDwPcz8yxgDLgqIhZ2OasK0Vzm7eZLqqbKEfrZwP7MfDgznwUmgDVNYxJYFBEBDAFPAke6mlSSNKvIzNkHRFwArMrMS+vT64CVmbmxYcwiYDvwJmAR8KeZuaPFtjYAGwCGh4dHJiYm5hR6amqKoaGhOa3bS4OaCwYr296DTz1/f/gVcPhnLyxbccpJfUh0tEHaX43M1ZkSc42Pj+/JzNFWy06osH60mNf8U+APgLuBtwNnADdFxHcz8+kXrZS5BdgCMDo6mmNjYxUe/miTk5PMdd1eGtRcMFjZtjacQ79ixRGu2lt7GZ53xmI+NHZuP6M9b5D2VyNzdeallqvKKZcDwGkN06cCh5rGXAJcnzX7gUeoHa1LR7nusnM574zFL5p33hmLue6ywShz6XhV5Qj9TmBZRJwOHAQuAt7bNOaHwDuA70bEMPBG4OFuBlVZpst7cnKSR9eO9TeMVIi2hZ6ZRyJiI3AjsADYlpn7IuLy+vLNwKeBayNiL7VTNB/NzCd6mFuS1KTKETqZuRPY2TRvc8P9Q8C7uhtNktQJ3ykqSYWw0CWpEBa6JBXCQpekQljoklQIC12SCmGhS1IhLHRJKoSFLkmFsNAlqRAWuiQVwkKXpEJY6JJUCAtdkgphoUtSISx0SSqEhS5JhbDQJakQFrokFcJCl6RCWOiSVAgLXZIKYaFLUiEsdEkqhIUuSYWw0CWpEBa6JBXCQpekQljoklQIC12SClGp0CNiVUQ8EBH7I2LTDGPGIuLuiNgXEf/R3ZiSpHZOaDcgIhYAVwPvBA4Ad0bE9sz8fsOYVwNfBFZl5g8j4vU9yitJmkGVI/Szgf2Z+XBmPgtMAGuaxrwXuD4zfwiQmY93N6YkqZ3IzNkHRFxA7cj70vr0OmBlZm5sGPM3wMuANwOLgM9n5ldbbGsDsAFgeHh4ZGJiYk6hp6amGBoamtO6vTSouWBws5mrM+bqTIm5xsfH92TmaMuFmTnrDbgQuKZheh3whaYxfwfcDpwILAF+APz6bNsdGRnJudq1a9ec1+2lQc2VObjZzNUZc3WmxFzA7pyhV9ueQ6d23vy0hulTgUMtxjyRmc8Az0TEzcBZwINVfuJIko5dlXPodwLLIuL0iFgIXARsbxrzTeB3I+KEiHglsBK4v7tRJUmzaXuEnplHImIjcCOwANiWmfsi4vL68s2ZeX9EfBu4F/gFtVM09/UyuCTpxaqcciEzdwI7m+Ztbpr+HPC57kWTJHXCd4pKUiEsdEkqhIUuSYWw0CWpEBa6JBXCQpekQljoklQIC12SCmGhS1IhLHRJKoSFLkmFsNAlqRAWuiQVwkKXpEJY6JJUCAtdkgphoUtSISx0SSqEhS5JhbDQJakQFrokFcJCl6RCWOiSVAgLXZIKYaFLUiEsdEkqhIUuSYWw0CWpEBa6JBXCQpekQljoklSISoUeEasi4oGI2B8Rm2YZ99sR8VxEXNC9iJKkKtoWekQsAK4GVgPLgYsjYvkM4z4L3NjtkJKk9qocoZ8N7M/MhzPzWWACWNNi3IeArwOPdzGfJKmiyMzZB9ROn6zKzEvr0+uAlZm5sWHMKcA/AG8HvgzckJn/1GJbG4ANAMPDwyMTExNzCj01NcXQ0NCc1u2lQc0Fg5vNXJ0xV2dKzDU+Pr4nM0dbLszMWW/AhcA1DdPrgC80jflH4Jz6/WuBC9ptd2RkJOdq165dc163lwY1V+bgZjNXZ8zVmRJzAbtzhl49ocIPhAPAaQ3TpwKHmsaMAhMRAbAEOD8ijmTmNypsX5LUBVUK/U5gWUScDhwELgLe2zggM0+fvh8R11I75fKN7sWUJLXTttAz80hEbKR29coCYFtm7ouIy+vLN/c4oySpgipH6GTmTmBn07yWRZ6Z6489liSpU75TVJIKYaFLUiEsdEkqhIUuSYWw0CWpEBa6JBXCQpekQljoklQIC12SCmGhS1IhLHRJKoSFLkmFsNAlqRAWuiQVwkKXpEJY6JJUCAtdkgphoUtSISx0SSqEhS5JhbDQJakQFrokFcJCl6RCWOiSVAgLXZIKYaFLUiEsdEkqhIUuSYWw0CWpEBa6JBWiUqFHxKqIeCAi9kfEphbL10bEvfXbrRFxVvejSpJm07bQI2IBcDWwGlgOXBwRy5uGPQK8LTPPBD4NbOl2UEnS7KocoZ8N7M/MhzPzWWACWNM4IDNvzcwf1ydvB07tbkxJUjuRmbMPiLgAWJWZl9an1wErM3PjDOM/ArxpenzTsg3ABoDh4eGRiYmJOYWemppiaGhoTuv20qDmgsHNZq7OmKszJeYaHx/fk5mjLRdm5qw34ELgmobpdcAXZhg7DtwPvLbddkdGRnKudu3aNed1e2lQc2UObjZzdcZcnSkxF7A7Z+jVEyr8QDgAnNYwfSpwqHlQRJwJXAOszswfVf1pI0nqjirn0O8ElkXE6RGxELgI2N44ICJ+BbgeWJeZD3Y/piSpnbZH6Jl5JCI2AjcCC4BtmbkvIi6vL98MfBx4LfDFiAA4kjOd45Ek9USVUy5k5k5gZ9O8zQ33LwWO+iOoJGn++E5RSSqEhS5JhbDQJakQFrokFcJCl6RCWOiSVAgLXZIKYaFLUiEsdEkqhIUuSYWw0CWpEBa6JBXCQpekQljoklQIC12SCmGhS1IhLHRJKoSFLkmFsNAlqRAWuiQVwkKXpEJY6JJUCAtdkgphoRdu7dbbWLppB3sPPsXSTTtYu/W2fkcCYOVnbnpRrpWfuanfkaTjnoVesLVbb+OWh5580bxbHnqy76W+8jM3cfgnz75o3uGfPGupS8fIQi9Yc5m3mz9fmsu83XxJ1VjoklQIC12SCmGhF+y8MxZ3NH++DC9a2NF8SdVY6AW77rJzjyrv885YzHWXndunRDV3fOydR5X38KKF3PGxd/YpkVSGE/odQL01Xd6Tk5M8unasv2EaTJf3oOWSjmeVCj0iVgGfBxYA12TmlU3Lo778fOCnwPrMvKvLWVm6aQcAV6w4wvr6/UevfHe3H6Zjg5oLBjubpO5qe8olIhYAVwOrgeXAxRGxvGnYamBZ/bYB+FKXcz5fTFXnz5dBzTVbhkHIJqn7qpxDPxvYn5kPZ+azwASwpmnMGuCrWXM78OqIOLnLWSVJs4jMnH1AxAXAqsy8tD69DliZmRsbxtwAXJmZ36tPfwf4aGbubtrWBmpH8AwPD49MTExUDrr34FPP3x9+BRz+2QvLVpxyUuXtdNug5oLBzjZtamqKoaGhfsc4irk6Y67OHEuu8fHxPZk52mpZlXPo0WJe80+BKmPIzC3AFoDR0dEcGxur8PA16xtOE1yx4ghX7X0hej//qDaouWCws02bnJykk9fBfDFXZ8zVmV7lqnLK5QBwWsP0qcChOYyRJPVQlUK/E1gWEadHxELgImB705jtwPui5hzgqcx8rJtBZ7oyo99XbAxqrtkyDEI2Sd3X9pRLZh6JiI3AjdQuW9yWmfsi4vL68s3ATmqXLO6ndtniJb0IO11Eg3bt8qDmgsHOJqm7Kl2Hnpk7qZV247zNDfcT+GB3o0mSOuFb/yWpEBa6JBXCQpekQljoklSItu8U7dkDR/wv8F9zXH0J8EQX43TLoOaCwc1mrs6YqzMl5vrVzHxdqwV9K/RjERG7Z3rraz8Nai4Y3Gzm6oy5OvNSy+UpF0kqhIUuSYU4Xgt9S78DzGBQc8HgZjNXZ8zVmZdUruPyHLok6WjH6xG6JKmJhS5JhRjYQo+ICyNiX0T8IiJmvLwnIlZFxAMRsT8iNjXMXxwRN0XED+pfX9OlXG23GxFvjIi7G25PR8SH68s+GREHG5adP1+56uMejYi99cfe3en6vcgVEadFxK6IuL/+nP95w7Ku7q+ZXi8NyyMi/ra+/N6IeEvVdXuca209z70RcWtEnNWwrOVzOk+5xiLiqYbn5+NV1+1xrr9oyHRfRDwXEYvry3q5v7ZFxOMRcd8My3v7+srMgbwBvwG8EZgERmcYswB4CPg1YCFwD7C8vuyvgE31+5uAz3YpV0fbrWf8H2pvBgD4JPCRHuyvSrmAR4Elx/rv6mYu4GTgLfX7i4AHG57Hru2v2V4vDWPOB75F7VO4zgHuqLpuj3O9FXhN/f7q6VyzPafzlGsMuGEu6/YyV9P49wD/3uv9Vd/27wFvAe6bYXlPX18De4Semfdn5gNths32AdZrgK/U738F+OMuRet0u+8AHsrMub4rtqpj/ff2bX9l5mOZeVf9/k+A+4FTuvT4jY7lA8+rrNuzXJl5a2b+uD55O7VPBeu1Y/k393V/NbkY+FqXHntWmXkz8OQsQ3r6+hrYQq/oFOC/G6YP8EIRDGf9U5PqX1/fpcfsdLsXcfSLaWP9161t3Tq10UGuBP41IvZE7UO7O12/V7kAiIilwG8BdzTM7tb+mu310m5MlXV7mavRB6gd5U2b6Tmdr1znRsQ9EfGtiHhzh+v2MhcR8UpgFfD1htm92l9V9PT1VekDLnolIv4NeEOLRR/LzG9W2USLecd8HeZsuTrczkLgj4C/bJj9JeDT1HJ+GrgK+LN5zHVeZh6KiNcDN0XEf9aPKuasi/triNo33ocz8+n67Dnvr1YP0WJe1Q8878lrrc1jHj0wYpxaof9Ow+yuP6cd5LqL2unEqfrfN74BLKu4bi9zTXsPcEtmNh4192p/VdHT11dfCz0zf/8YNzHbh1MfjoiTM/Ox+q80j3cjV0R0st3VwF2Zebhh28/fj4itwA3zmSszD9W/Ph4R/0ztV72b6fP+ioiXUSvz6zLz+oZtz3l/tXAsH3i+sMK6vcxFRJwJXAOszswfTc+f5Tntea6GH7xk5s6I+GJELKmybi9zNTjqN+Qe7q8qevr6Ot5Pucz2AdbbgffX778fqHLEX0Un2z3q3F291Kb9CdDyr+G9yBURJ0bEoun7wLsaHr9v+ysiAvgycH9m/nXTsm7ur2P5wPMq6/YsV0T8CnA9sC4zH2yYP9tzOh+53lB//oiIs6l1yo+qrNvLXPU8JwFvo+E11+P9VUVvX1+9+EtvN27UvnkPAD8HDgM31uf/MrCzYdz51K6KeIjaqZrp+a8FvgP8oP51cZdytdxui1yvpPbCPqlp/b8H9gL31p+wk+crF7W/oN9Tv+0blP1F7fRB1vfJ3fXb+b3YX61eL8DlwOX1+wFcXV++l4YrrGZ6rXVpP7XLdQ3w44b9s7vdczpPuTbWH/cean+sfesg7K/69Hpgomm9Xu+vrwGPAf9Hrb8+MJ+vL9/6L0mFON5PuUiS6ix0SSqEhS5JhbDQJakQFrokFcJCl6RCWOiSVIj/B8FxffWQHSj8AAAAAElFTkSuQmCC\n",
      "text/plain": [
       "<Figure size 432x288 with 1 Axes>"
      ]
     },
     "metadata": {
      "needs_background": "light"
     },
     "output_type": "display_data"
    }
   ],
   "source": [
    "plt.scatter(stim[:,1]-stim[:,2],full_model_output)\n",
    "plt.grid()"
   ]
  },
  {
   "cell_type": "code",
   "execution_count": 57,
   "metadata": {},
   "outputs": [
    {
     "data": {
      "text/plain": [
       "0.9999901395960847"
      ]
     },
     "execution_count": 57,
     "metadata": {},
     "output_type": "execute_result"
    }
   ],
   "source": [
    "full_model_output[np.sign(stim[:,1]-stim[:,2])==0].mean()"
   ]
  },
  {
   "cell_type": "code",
   "execution_count": 58,
   "metadata": {},
   "outputs": [
    {
     "data": {
      "text/plain": [
       "0.3"
      ]
     },
     "execution_count": 58,
     "metadata": {},
     "output_type": "execute_result"
    }
   ],
   "source": [
    "output[np.sign(stim[:,1]-stim[:,2])==0].mean()"
   ]
  },
  {
   "cell_type": "code",
   "execution_count": 60,
   "metadata": {},
   "outputs": [
    {
     "data": {
      "text/plain": [
       "0.5079365079365079"
      ]
     },
     "execution_count": 60,
     "metadata": {},
     "output_type": "execute_result"
    }
   ],
   "source": [
    "output.mean()"
   ]
  },
  {
   "cell_type": "markdown",
   "metadata": {},
   "source": [
    "We noted a model bias in session 0 for the model to output left(1) when the difference in contrast is zero. However, the subject responds left at a 30% when input is zero."
   ]
  },
  {
   "cell_type": "code",
   "execution_count": 53,
   "metadata": {},
   "outputs": [
    {
     "data": {
      "text/plain": [
       "dict_keys(['spks', 'wheel', 'pupil', 'response', 'response_time', 'bin_size', 'stim_onset', 'contrast_right', 'contrast_left', 'brain_area', 'feedback_time', 'feedback_type', 'gocue', 'mouse_name', 'date_exp', 'trough_to_peak', 'active_trials', 'contrast_left_passive', 'contrast_right_passive', 'spks_passive', 'pupil_passive', 'wheel_passive', 'prev_reward', 'ccf', 'ccf_axes', 'cellid_orig', 'reaction_time', 'face', 'face_passive', 'licks', 'licks_passive'])"
      ]
     },
     "execution_count": 53,
     "metadata": {},
     "output_type": "execute_result"
    }
   ],
   "source": [
    "data[2].keys()"
   ]
  },
  {
   "cell_type": "code",
   "execution_count": 75,
   "metadata": {},
   "outputs": [],
   "source": [
    "new_encoder_output, pert_neu = A1_pert(encoder_output, 10)"
   ]
  },
  {
   "cell_type": "code",
   "execution_count": 76,
   "metadata": {},
   "outputs": [
    {
     "name": "stdout",
     "output_type": "stream",
     "text": [
      "[60, 62, 165, 73, 18, 162, 21, 36, 105, 108]\n"
     ]
    }
   ],
   "source": [
    "print(pert_neu)"
   ]
  },
  {
   "cell_type": "code",
   "execution_count": 77,
   "metadata": {},
   "outputs": [
    {
     "data": {
      "text/plain": [
       "array([0., 0., 0., 0., 0., 0., 0., 0., 0., 0., 0., 0., 0., 0., 0., 0., 0.,\n",
       "       0., 0., 0., 0., 0., 0., 0., 0., 0., 0., 0., 0., 0., 0., 0., 0., 0.,\n",
       "       0., 0., 0., 0., 0., 0., 0., 0., 0., 0., 0., 0., 0., 0., 0., 0., 0.,\n",
       "       0., 0., 0., 0., 0., 0., 0., 0., 0., 0., 0., 0., 0., 0., 0., 0., 0.,\n",
       "       0., 0., 0., 0., 0., 0., 0., 0., 0., 0., 0., 0., 0., 0., 0., 0., 0.,\n",
       "       0., 0., 0., 0., 0., 0., 0., 0., 0., 0., 0., 0., 0., 0., 0., 0., 0.,\n",
       "       0., 0., 0., 0., 0., 0., 0., 0., 0., 0., 0., 0., 0., 0., 0., 0., 0.,\n",
       "       0., 0., 0., 0., 0., 0., 0.])"
      ]
     },
     "execution_count": 77,
     "metadata": {},
     "output_type": "execute_result"
    }
   ],
   "source": [
    "new_encoder_output[:,60]"
   ]
  },
  {
   "cell_type": "code",
   "execution_count": 31,
   "metadata": {
    "collapsed": true,
    "jupyter": {
     "outputs_hidden": true
    }
   },
   "outputs": [
    {
     "data": {
      "text/plain": [
       "array([[1.  , 1.  , 0.  ],\n",
       "       [1.  , 0.  , 0.5 ],\n",
       "       [1.  , 1.  , 0.5 ],\n",
       "       [1.  , 0.5 , 1.  ],\n",
       "       [1.  , 0.  , 0.  ],\n",
       "       [1.  , 0.  , 0.  ],\n",
       "       [1.  , 0.  , 0.  ],\n",
       "       [1.  , 1.  , 0.5 ],\n",
       "       [1.  , 0.5 , 0.  ],\n",
       "       [1.  , 0.5 , 0.25],\n",
       "       [1.  , 1.  , 0.  ],\n",
       "       [1.  , 0.5 , 0.  ],\n",
       "       [1.  , 0.  , 1.  ],\n",
       "       [1.  , 1.  , 1.  ],\n",
       "       [1.  , 0.  , 0.  ],\n",
       "       [1.  , 0.  , 0.  ],\n",
       "       [1.  , 0.  , 0.  ],\n",
       "       [1.  , 0.5 , 0.  ],\n",
       "       [1.  , 0.  , 0.  ],\n",
       "       [1.  , 0.5 , 0.25],\n",
       "       [1.  , 0.25, 1.  ],\n",
       "       [1.  , 1.  , 0.5 ],\n",
       "       [1.  , 0.5 , 0.  ],\n",
       "       [1.  , 0.  , 0.  ],\n",
       "       [1.  , 0.  , 0.25],\n",
       "       [1.  , 0.5 , 1.  ],\n",
       "       [1.  , 0.25, 0.  ],\n",
       "       [1.  , 1.  , 0.25],\n",
       "       [1.  , 0.  , 0.5 ],\n",
       "       [1.  , 0.  , 1.  ],\n",
       "       [1.  , 0.  , 0.  ],\n",
       "       [1.  , 0.  , 0.5 ],\n",
       "       [1.  , 0.  , 1.  ],\n",
       "       [1.  , 0.5 , 0.  ],\n",
       "       [1.  , 0.25, 0.25],\n",
       "       [1.  , 0.5 , 0.  ],\n",
       "       [1.  , 0.  , 1.  ],\n",
       "       [1.  , 0.  , 0.  ],\n",
       "       [1.  , 1.  , 0.25],\n",
       "       [1.  , 0.5 , 0.5 ],\n",
       "       [1.  , 0.5 , 0.5 ],\n",
       "       [1.  , 0.  , 0.25],\n",
       "       [1.  , 0.  , 1.  ],\n",
       "       [1.  , 0.  , 0.5 ],\n",
       "       [1.  , 0.5 , 0.5 ],\n",
       "       [1.  , 0.25, 1.  ],\n",
       "       [1.  , 0.  , 1.  ],\n",
       "       [1.  , 0.  , 0.5 ],\n",
       "       [1.  , 1.  , 0.  ],\n",
       "       [1.  , 0.  , 0.5 ],\n",
       "       [1.  , 0.25, 0.25],\n",
       "       [1.  , 0.  , 1.  ],\n",
       "       [1.  , 1.  , 0.  ],\n",
       "       [1.  , 0.  , 0.25],\n",
       "       [1.  , 1.  , 0.25],\n",
       "       [1.  , 0.5 , 1.  ],\n",
       "       [1.  , 0.  , 1.  ],\n",
       "       [1.  , 1.  , 0.  ],\n",
       "       [1.  , 1.  , 1.  ],\n",
       "       [1.  , 0.  , 0.25],\n",
       "       [1.  , 0.  , 0.5 ],\n",
       "       [1.  , 0.25, 1.  ],\n",
       "       [1.  , 0.25, 1.  ],\n",
       "       [1.  , 0.  , 1.  ],\n",
       "       [1.  , 1.  , 0.25],\n",
       "       [1.  , 0.5 , 0.  ],\n",
       "       [1.  , 0.  , 0.5 ],\n",
       "       [1.  , 0.5 , 0.  ],\n",
       "       [1.  , 0.25, 0.5 ],\n",
       "       [1.  , 0.5 , 0.  ],\n",
       "       [1.  , 1.  , 0.  ],\n",
       "       [1.  , 0.  , 1.  ],\n",
       "       [1.  , 0.25, 1.  ],\n",
       "       [1.  , 0.25, 1.  ],\n",
       "       [1.  , 1.  , 0.  ],\n",
       "       [1.  , 0.  , 1.  ],\n",
       "       [1.  , 0.  , 1.  ],\n",
       "       [1.  , 0.  , 1.  ],\n",
       "       [1.  , 0.  , 1.  ],\n",
       "       [1.  , 0.25, 1.  ],\n",
       "       [1.  , 0.5 , 0.25],\n",
       "       [1.  , 0.5 , 0.  ],\n",
       "       [1.  , 0.5 , 0.  ],\n",
       "       [1.  , 0.  , 1.  ],\n",
       "       [1.  , 1.  , 0.5 ],\n",
       "       [1.  , 0.25, 0.5 ],\n",
       "       [1.  , 0.  , 0.5 ],\n",
       "       [1.  , 0.25, 1.  ],\n",
       "       [1.  , 1.  , 0.  ],\n",
       "       [1.  , 0.  , 0.25],\n",
       "       [1.  , 0.  , 0.5 ],\n",
       "       [1.  , 0.  , 0.5 ],\n",
       "       [1.  , 0.5 , 0.25],\n",
       "       [1.  , 0.  , 0.5 ],\n",
       "       [1.  , 0.  , 0.5 ],\n",
       "       [1.  , 0.25, 0.5 ],\n",
       "       [1.  , 0.5 , 0.  ],\n",
       "       [1.  , 0.5 , 0.5 ],\n",
       "       [1.  , 1.  , 0.  ],\n",
       "       [1.  , 1.  , 0.  ],\n",
       "       [1.  , 0.  , 0.  ],\n",
       "       [1.  , 1.  , 1.  ],\n",
       "       [1.  , 0.5 , 0.  ],\n",
       "       [1.  , 0.  , 0.5 ],\n",
       "       [1.  , 1.  , 0.  ],\n",
       "       [1.  , 0.  , 1.  ],\n",
       "       [1.  , 0.5 , 0.25],\n",
       "       [1.  , 1.  , 0.  ],\n",
       "       [1.  , 1.  , 0.25],\n",
       "       [1.  , 0.25, 1.  ],\n",
       "       [1.  , 0.5 , 0.25],\n",
       "       [1.  , 1.  , 0.  ],\n",
       "       [1.  , 0.  , 0.5 ],\n",
       "       [1.  , 1.  , 0.  ],\n",
       "       [1.  , 0.  , 0.5 ],\n",
       "       [1.  , 0.25, 1.  ],\n",
       "       [1.  , 0.5 , 0.25],\n",
       "       [1.  , 1.  , 0.  ],\n",
       "       [1.  , 1.  , 0.5 ],\n",
       "       [1.  , 1.  , 0.25],\n",
       "       [1.  , 0.25, 0.  ],\n",
       "       [1.  , 0.25, 1.  ],\n",
       "       [1.  , 0.25, 1.  ],\n",
       "       [1.  , 0.25, 1.  ],\n",
       "       [1.  , 0.25, 1.  ],\n",
       "       [1.  , 0.25, 1.  ]])"
      ]
     },
     "execution_count": 31,
     "metadata": {},
     "output_type": "execute_result"
    }
   ],
   "source": [
    "stim # columna 1 no importa. Columna 2 y 3 contraste,"
   ]
  },
  {
   "cell_type": "code",
   "execution_count": 21,
   "metadata": {},
   "outputs": [
    {
     "data": {
      "text/plain": [
       "array([[-0.02364648, -0.34645026, -0.19626273, ...,  0.08014788,\n",
       "        -0.01459022, -0.02657762],\n",
       "       [ 0.02129328,  0.05625523,  0.02480889, ..., -0.00446165,\n",
       "         0.        , -0.05538559],\n",
       "       [-0.1595742 ,  0.38423209,  0.31343135, ..., -0.74435528,\n",
       "        -0.2324751 ,  0.09542615],\n",
       "       ...,\n",
       "       [ 0.        ,  0.        ,  0.        , ...,  0.        ,\n",
       "         0.        ,  0.        ],\n",
       "       [ 0.03840297,  0.        ,  0.05387747, ..., -0.09689126,\n",
       "        -0.01677844,  0.01414237],\n",
       "       [ 0.00636282,  0.06527715,  0.00889748, ..., -0.28528214,\n",
       "         0.        ,  0.07493322]])"
      ]
     },
     "execution_count": 21,
     "metadata": {},
     "output_type": "execute_result"
    }
   ],
   "source": [
    "from sklearn.linear_model import LinearRegression\n",
    "transition_model =  LinearRegression(fit_intercept=False)\n",
    "\n",
    "get_xval_perf(model=transition_model, input_data=encoder_output, output_data=region2_data.squeeze().T, scoring='explained_variance')"
   ]
  },
  {
   "cell_type": "code",
   "execution_count": 22,
   "metadata": {},
   "outputs": [],
   "source": [
    "models = reload(models)\n",
    "decoder, decoder_coefs, decoder_model = models.train_logistic_decoder(region2_data.squeeze().T, output)\n",
    "\n",
    "input_data = region2_data.squeeze().T\n",
    "output_data = output\n",
    "\n",
    "n_xval=10\n",
    "scoring = 'balanced_accuracy'\n",
    "model = decoder_model\n",
    "\n",
    "if output_data.ndim==1:\n",
    "    output_data = output_data[:, np.newaxis]\n",
    "       \n",
    "n_outputs = output_data.shape[1]\n",
    "\n",
    "perf = np.zeros((n_outputs, n_xval))\n",
    "for output_idx in range(n_outputs):\n",
    "    perf[output_idx] = cross_val_score(model, input_data, output_data[:, output_idx], cv=n_xval, scoring=scoring)\n"
   ]
  },
  {
   "cell_type": "code",
   "execution_count": 101,
   "metadata": {},
   "outputs": [
    {
     "data": {
      "text/plain": [
       "array([[0.92857143, 1.        , 0.91666667, 0.92857143, 0.91666667,\n",
       "        1.        , 0.91666667, 0.91666667, 1.        , 0.91666667]])"
      ]
     },
     "execution_count": 101,
     "metadata": {},
     "output_type": "execute_result"
    }
   ],
   "source": [
    "perf"
   ]
  },
  {
   "cell_type": "code",
   "execution_count": 52,
   "metadata": {},
   "outputs": [
    {
     "data": {
      "text/plain": [
       "(126, 113)"
      ]
     },
     "execution_count": 52,
     "metadata": {},
     "output_type": "execute_result"
    }
   ],
   "source": [
    "output_data.shape"
   ]
  },
  {
   "cell_type": "code",
   "execution_count": 14,
   "metadata": {},
   "outputs": [],
   "source": [
    "data_set = [None] * N_SESSIONS\n",
    "\n",
    "session=0\n",
    "data_set[session] = utils.filter_no_go_choice(data[session])\n",
    "data_set[session]['fr'] = utils.spikes_to_fr(data_set[session]['spks'], \n",
    "                                samp_rate=SAMP_RATE, \n",
    "                                downsampling_factor=DOWNSAMPLING_FACTOR, \n",
    "                                exclude_pre=EXCLUDE_PRE, \n",
    "                                exclude_post=EXCLUDE_POST,\n",
    "                               )\n",
    "\n",
    "train_set, val_set = utils.split_validation_set(data_set[session])    "
   ]
  },
  {
   "cell_type": "code",
   "execution_count": 17,
   "metadata": {},
   "outputs": [
    {
     "data": {
      "text/plain": [
       "array([ 1., -1.,  1.,  1.,  1., -1., -1.,  1.,  1.,  1.,  1.,  1., -1.,\n",
       "       -1., -1.,  1.,  1.,  1.,  1.,  1., -1., -1.,  1., -1., -1., -1.,\n",
       "        1.,  1., -1., -1., -1., -1., -1.,  1., -1.,  1., -1., -1.,  1.,\n",
       "        1., -1., -1., -1., -1., -1., -1., -1., -1.,  1., -1., -1., -1.,\n",
       "        1., -1.,  1., -1., -1.,  1., -1., -1., -1.,  1., -1., -1.,  1.,\n",
       "        1., -1.,  1.,  1.,  1.,  1., -1.,  1., -1.,  1., -1., -1., -1.,\n",
       "       -1., -1.,  1.,  1.,  1., -1.,  1., -1., -1., -1.,  1., -1., -1.,\n",
       "       -1.,  1., -1., -1.,  1.,  1.,  1.,  1.,  1., -1., -1.,  1., -1.,\n",
       "        1., -1.,  1.,  1.,  1., -1.,  1.,  1.,  1.,  1., -1., -1.,  1.,\n",
       "        1.,  1.,  1.,  1.,  1.,  1.,  1.,  1.,  1.])"
      ]
     },
     "execution_count": 17,
     "metadata": {},
     "output_type": "execute_result"
    }
   ],
   "source": [
    "train_set['response']"
   ]
  },
  {
   "cell_type": "code",
   "execution_count": null,
   "metadata": {},
   "outputs": [],
   "source": [
    "## perturbaciones en A1: encoder to 0. to afectar la performance de A2"
   ]
  }
 ],
 "metadata": {
  "file_extension": ".py",
  "kernelspec": {
   "display_name": "Python 3",
   "language": "python",
   "name": "python3"
  },
  "language_info": {
   "codemirror_mode": {
    "name": "ipython",
    "version": 3
   },
   "file_extension": ".py",
   "mimetype": "text/x-python",
   "name": "python",
   "nbconvert_exporter": "python",
   "pygments_lexer": "ipython3",
   "version": "3.7.4"
  },
  "mimetype": "text/x-python",
  "name": "python",
  "npconvert_exporter": "python",
  "pygments_lexer": "ipython3",
  "version": 3,
  "widgets": {
   "application/vnd.jupyter.widget-state+json": {
    "state": {},
    "version_major": 2,
    "version_minor": 0
   }
  }
 },
 "nbformat": 4,
 "nbformat_minor": 4
}
