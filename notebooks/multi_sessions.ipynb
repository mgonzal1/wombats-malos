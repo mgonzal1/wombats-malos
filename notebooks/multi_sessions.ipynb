{
 "cells": [
  {
   "cell_type": "markdown",
   "metadata": {},
   "source": [
    "# Notebook for multiple sessions"
   ]
  },
  {
   "cell_type": "code",
   "execution_count": 24,
   "metadata": {},
   "outputs": [],
   "source": [
    "import numpy as np\n",
    "import pandas as pd\n",
    "\n",
    "from pathlib import Path\n",
    "from matplotlib import pyplot as plt\n",
    "import ipywidgets as widgets\n",
    "from ipywidgets import interact, interactive, fixed, interact_manual\n",
    "from sklearn.model_selection import cross_val_score"
   ]
  },
  {
   "cell_type": "code",
   "execution_count": 2,
   "metadata": {},
   "outputs": [],
   "source": [
    "from importlib import reload\n",
    "\n",
    "from wombats import utils\n",
    "from wombats import metrics\n",
    "from wombats import models\n",
    "\n",
    "# if changes to the files run this to reload the moduls\n",
    "utils = reload(utils)\n",
    "metrics = reload(metrics)\n",
    "models = reload(models)"
   ]
  },
  {
   "cell_type": "code",
   "execution_count": 3,
   "metadata": {},
   "outputs": [],
   "source": [
    "data_file = Path('../data/steinmetz/steinmetz_all.npy')\n",
    "data_folder = Path('../data/steinmetz/')\n",
    "if not data_file.exists():\n",
    "    data = utils.load_steinmentz()\n",
    "    data_folder.mkdir(parents=True)\n",
    "    data_file.touch()\n",
    "    np.save(data_file, data)\n",
    "else:\n",
    "    data = np.load(data_file, allow_pickle=True)"
   ]
  },
  {
   "cell_type": "code",
   "execution_count": 4,
   "metadata": {},
   "outputs": [],
   "source": [
    "n_sessions = len(data)"
   ]
  },
  {
   "cell_type": "code",
   "execution_count": 5,
   "metadata": {},
   "outputs": [],
   "source": [
    "#@title Representative session\n",
    "#@markdown Let's see which session has more neurons in the areas that we are going to use and how many neurons it has.\n",
    "\n",
    "brain_groups = [[\"VISa\", \"VISam\", \"VISl\", \"VISp\", \"VISpm\", \"VISrl\"], # visual cortex\n",
    "                  [\"CL\", \"LD\", \"LGd\", \"LH\", \"LP\", \"MD\", \"MG\", \"PO\", \"POL\", \"PT\", \"RT\", \"SPF\", \"TH\", \"VAL\", \"VPL\", \"VPM\"], # thalamus\n",
    "                  ]\n",
    "regions = [\"visual\", \"motor\"]\n",
    "\n",
    "def count_neurons_per_brain_area():\n",
    "    neurons_in_session = []\n",
    "    for i in range (0,n_sessions):\n",
    "        session = data[i]\n",
    "        brain_areas = session['brain_area']\n",
    "\n",
    "        neurons_in_area = []\n",
    "        for group in brain_groups:\n",
    "            count = 0\n",
    "            for area in group:\n",
    "                count += np.count_nonzero(brain_areas == area)\n",
    "            neurons_in_area.append(count)\n",
    "        neurons_in_session.append(neurons_in_area)\n",
    "    return neurons_in_session\n",
    "\n",
    "def plot_areas_sessions(sessions, neurons_in_session):\n",
    "    fig, ax = plt.subplots(figsize=(18, 5))\n",
    "    neurons_in_session = np.asarray(neurons_in_session).T\n",
    "    im = ax.imshow(neurons_in_session)\n",
    "    ax.set_xticks(np.arange(len(sessions)))\n",
    "    ax.set_yticks(np.arange(len(regions)))\n",
    "    ax.set_yticklabels(regions)\n",
    "    ax.set_xticklabels(sessions)\n",
    "    \n",
    "    for i in range(len(regions)):\n",
    "        for j in range(len(sessions)):\n",
    "            text = ax.text(j, i, str(neurons_in_session[i,j]),\n",
    "                           ha=\"center\", va=\"center\", color=\"w\")\n",
    "    ax.set_title(\"Number of neurons per brain area\")\n",
    "    fig.tight_layout()\n",
    "    plt.show()\n",
    "    \n",
    "    \n",
    "def get_representative_sessions(min_visual=1, min_motor=1):\n",
    "    representative_sessions = []\n",
    "    new_neurons = []\n",
    "    neurons_in_session = count_neurons_per_brain_area()\n",
    "    \n",
    "    for session, n_neurons in enumerate(neurons_in_session):\n",
    "        if(n_neurons[0] > min_visual and n_neurons[1] > min_motor):\n",
    "            representative_sessions.append(session)\n",
    "            new_neurons.append(n_neurons)\n",
    "    plot_areas_sessions(representative_sessions, new_neurons)\n",
    "    \n",
    "    return representative_sessions\n"
   ]
  },
  {
   "cell_type": "code",
   "execution_count": 6,
   "metadata": {},
   "outputs": [
    {
     "data": {
      "image/png": "[encoded data removed]",
      "text/plain": [
       "<Figure size 1296x360 with 1 Axes>"
      ]
     },
     "metadata": {
      "needs_background": "light"
     },
     "output_type": "display_data"
    }
   ],
   "source": [
    "idx_session  = get_representative_sessions(1, 1)\n",
    "# Get subset of selected sessions:\n",
    "data = data[idx_session]"
   ]
  },
  {
   "cell_type": "code",
   "execution_count": 7,
   "metadata": {},
   "outputs": [],
   "source": [
    "n_xval = 10\n",
    "analysis_time_window = np.array([0,0.5]) # time window to analize\n",
    "downsampling_factor = 'all'  # 'all'-> implies that the analisis time window is compressed to 1\n",
    "trial_time = np.array([-0.5, 2])\n",
    "samp_rate = 0.01\n",
    "\n",
    "\n",
    "n_sessions = len(data)\n",
    "exclude_pre = abs(analysis_time_window[0]-trial_time[0])\n",
    "exclude_post = abs(analysis_time_window[1]-trial_time[1])\n",
    "n_sessions = len(data)"
   ]
  },
  {
   "cell_type": "code",
   "execution_count": 8,
   "metadata": {},
   "outputs": [
    {
     "name": "stdout",
     "output_type": "stream",
     "text": [
      "15\n"
     ]
    }
   ],
   "source": [
    "print(len(data))"
   ]
  },
  {
   "cell_type": "code",
   "execution_count": 26,
   "metadata": {},
   "outputs": [],
   "source": [
    "def visual_to_a1(n_set):\n",
    "    # Get data\n",
    "    visual_dat = utils.get_region_data(n_set, region='visual', data_type='fr')\n",
    "    stim = n_set['stims']\n",
    "    n_visual_neurons = visual_dat.shape[0]\n",
    "    n_analysis_time_bins = visual_dat.shape[2]\n",
    "    \n",
    "    if n_analysis_time_bins==1:\n",
    "        visual_dat = visual_dat.squeeze().T  # reshapes from neurons x trial x 1 bin, to trials x neurons\n",
    "        # Model Linear Regression\n",
    "        encoder, enc_coefs, enc_model = models.train_linear_encoder(stim, visual_dat)\n",
    "        A1 = enc_coefs\n",
    "        visual_dat_hat = encoder(stim)\n",
    "    \n",
    "        enc_perf = np.zeros((n_visual_neurons,n_xval))\n",
    "        for neuron in range(n_visual_neurons):\n",
    "            enc_perf[neuron] = cross_val_score(enc_model, stim, visual_dat[:,neuron], cv=n_xval, scoring='explained_variance')\n",
    "        print(performance_per_neuron(visual_dat, visual_dat_hat, enc_perf))\n",
    "    else:\n",
    "        # need to implement a method for time window iteration\n",
    "        raise NotImplementedError\n",
    "    return A1\n",
    "\n",
    "def performance_per_neuron(neurons, neurons_hat, enc_perf):\n",
    "    #MSE and R2 per unit\n",
    "    encoding_scores = pd.DataFrame(columns = ['r2', 'xval_r2', 'mse', 'nrmse'])\n",
    "    encoding_scores['r2'] = metrics.r2(neurons.T,neurons_hat.T)\n",
    "    encoding_scores['mse'] = metrics.mse(neurons.T,neurons_hat.T)\n",
    "    encoding_scores['nrmse'] = metrics.nrmse(neurons.T,neurons_hat.T)\n",
    "    encoding_scores['xval_r2'] = np.median(enc_perf,axis=1)\n",
    "\n",
    "    return encoding_scores.mean()"
   ]
  },
  {
   "cell_type": "code",
   "execution_count": 27,
   "metadata": {},
   "outputs": [
    {
     "name": "stderr",
     "output_type": "stream",
     "text": [
      "/Users/mgonzal1/Documents/WS/wombats-malos/wombats/metrics.py:18: RuntimeWarning: invalid value encountered in true_divide\n",
      "  return 1 - ((y - y_hat) ** 2).sum(axis=1) / ((y - y_bar) ** 2).sum(axis=1)\n",
      "/Users/mgonzal1/Documents/WS/wombats-malos/wombats/metrics.py:64: RuntimeWarning: invalid value encountered in true_divide\n",
      "  return rmse(y, y_hat) / np.mean(y, axis=1)\n"
     ]
    },
    {
     "name": "stdout",
     "output_type": "stream",
     "text": [
      "r2         0.064463\n",
      "xval_r2    0.046813\n",
      "mse        9.386191\n",
      "nrmse      2.274047\n",
      "dtype: float64\n",
      "r2         0.036852\n",
      "xval_r2   -0.011825\n",
      "mse        6.452746\n",
      "nrmse      1.681041\n",
      "dtype: float64\n"
     ]
    },
    {
     "name": "stderr",
     "output_type": "stream",
     "text": [
      "/Users/mgonzal1/Documents/WS/wombats-malos/wombats/metrics.py:18: RuntimeWarning: invalid value encountered in true_divide\n",
      "  return 1 - ((y - y_hat) ** 2).sum(axis=1) / ((y - y_bar) ** 2).sum(axis=1)\n",
      "/Users/mgonzal1/Documents/WS/wombats-malos/wombats/metrics.py:64: RuntimeWarning: invalid value encountered in true_divide\n",
      "  return rmse(y, y_hat) / np.mean(y, axis=1)\n"
     ]
    },
    {
     "name": "stdout",
     "output_type": "stream",
     "text": [
      "r2         0.079580\n",
      "xval_r2    0.097445\n",
      "mse        2.609689\n",
      "nrmse      1.588458\n",
      "dtype: float64\n",
      "r2         0.076324\n",
      "xval_r2    0.060824\n",
      "mse        3.920287\n",
      "nrmse      1.612025\n",
      "dtype: float64\n"
     ]
    },
    {
     "name": "stderr",
     "output_type": "stream",
     "text": [
      "/Users/mgonzal1/Documents/WS/wombats-malos/wombats/metrics.py:18: RuntimeWarning: invalid value encountered in true_divide\n",
      "  return 1 - ((y - y_hat) ** 2).sum(axis=1) / ((y - y_bar) ** 2).sum(axis=1)\n",
      "/Users/mgonzal1/Documents/WS/wombats-malos/wombats/metrics.py:64: RuntimeWarning: invalid value encountered in true_divide\n",
      "  return rmse(y, y_hat) / np.mean(y, axis=1)\n"
     ]
    },
    {
     "name": "stdout",
     "output_type": "stream",
     "text": [
      "r2         0.031003\n",
      "xval_r2    0.029273\n",
      "mse        3.053653\n",
      "nrmse      2.245393\n",
      "dtype: float64\n"
     ]
    },
    {
     "name": "stderr",
     "output_type": "stream",
     "text": [
      "/Users/mgonzal1/Documents/WS/wombats-malos/wombats/metrics.py:18: RuntimeWarning: invalid value encountered in true_divide\n",
      "  return 1 - ((y - y_hat) ** 2).sum(axis=1) / ((y - y_bar) ** 2).sum(axis=1)\n",
      "/Users/mgonzal1/Documents/WS/wombats-malos/wombats/metrics.py:64: RuntimeWarning: invalid value encountered in true_divide\n",
      "  return rmse(y, y_hat) / np.mean(y, axis=1)\n"
     ]
    },
    {
     "name": "stdout",
     "output_type": "stream",
     "text": [
      "r2         0.087580\n",
      "xval_r2    0.084338\n",
      "mse        7.080022\n",
      "nrmse      2.011876\n",
      "dtype: float64\n"
     ]
    },
    {
     "name": "stderr",
     "output_type": "stream",
     "text": [
      "/Users/mgonzal1/Documents/WS/wombats-malos/wombats/metrics.py:18: RuntimeWarning: invalid value encountered in true_divide\n",
      "  return 1 - ((y - y_hat) ** 2).sum(axis=1) / ((y - y_bar) ** 2).sum(axis=1)\n",
      "/Users/mgonzal1/Documents/WS/wombats-malos/wombats/metrics.py:64: RuntimeWarning: invalid value encountered in true_divide\n",
      "  return rmse(y, y_hat) / np.mean(y, axis=1)\n"
     ]
    },
    {
     "name": "stdout",
     "output_type": "stream",
     "text": [
      "r2         0.043659\n",
      "xval_r2    0.072241\n",
      "mse        5.035209\n",
      "nrmse      1.958390\n",
      "dtype: float64\n",
      "r2         0.059919\n",
      "xval_r2    0.029470\n",
      "mse        5.689388\n",
      "nrmse      1.409024\n",
      "dtype: float64\n"
     ]
    },
    {
     "name": "stderr",
     "output_type": "stream",
     "text": [
      "/Users/mgonzal1/Documents/WS/wombats-malos/wombats/metrics.py:18: RuntimeWarning: invalid value encountered in true_divide\n",
      "  return 1 - ((y - y_hat) ** 2).sum(axis=1) / ((y - y_bar) ** 2).sum(axis=1)\n",
      "/Users/mgonzal1/Documents/WS/wombats-malos/wombats/metrics.py:64: RuntimeWarning: invalid value encountered in true_divide\n",
      "  return rmse(y, y_hat) / np.mean(y, axis=1)\n"
     ]
    },
    {
     "name": "stdout",
     "output_type": "stream",
     "text": [
      "r2         0.070175\n",
      "xval_r2    0.051529\n",
      "mse        4.584481\n",
      "nrmse      2.154999\n",
      "dtype: float64\n"
     ]
    },
    {
     "name": "stderr",
     "output_type": "stream",
     "text": [
      "/Users/mgonzal1/Documents/WS/wombats-malos/wombats/metrics.py:18: RuntimeWarning: invalid value encountered in true_divide\n",
      "  return 1 - ((y - y_hat) ** 2).sum(axis=1) / ((y - y_bar) ** 2).sum(axis=1)\n",
      "/Users/mgonzal1/Documents/WS/wombats-malos/wombats/metrics.py:64: RuntimeWarning: invalid value encountered in true_divide\n",
      "  return rmse(y, y_hat) / np.mean(y, axis=1)\n"
     ]
    },
    {
     "name": "stdout",
     "output_type": "stream",
     "text": [
      "r2         0.053122\n",
      "xval_r2    0.048611\n",
      "mse        6.412181\n",
      "nrmse      1.597145\n",
      "dtype: float64\n"
     ]
    },
    {
     "name": "stderr",
     "output_type": "stream",
     "text": [
      "/Users/mgonzal1/Documents/WS/wombats-malos/wombats/metrics.py:18: RuntimeWarning: invalid value encountered in true_divide\n",
      "  return 1 - ((y - y_hat) ** 2).sum(axis=1) / ((y - y_bar) ** 2).sum(axis=1)\n",
      "/Users/mgonzal1/Documents/WS/wombats-malos/wombats/metrics.py:64: RuntimeWarning: invalid value encountered in true_divide\n",
      "  return rmse(y, y_hat) / np.mean(y, axis=1)\n"
     ]
    },
    {
     "name": "stdout",
     "output_type": "stream",
     "text": [
      "r2          0.073243\n",
      "xval_r2     0.067072\n",
      "mse        18.443951\n",
      "nrmse       2.238435\n",
      "dtype: float64\n"
     ]
    },
    {
     "name": "stderr",
     "output_type": "stream",
     "text": [
      "/Users/mgonzal1/Documents/WS/wombats-malos/wombats/metrics.py:18: RuntimeWarning: invalid value encountered in true_divide\n",
      "  return 1 - ((y - y_hat) ** 2).sum(axis=1) / ((y - y_bar) ** 2).sum(axis=1)\n",
      "/Users/mgonzal1/Documents/WS/wombats-malos/wombats/metrics.py:64: RuntimeWarning: invalid value encountered in true_divide\n",
      "  return rmse(y, y_hat) / np.mean(y, axis=1)\n"
     ]
    },
    {
     "name": "stdout",
     "output_type": "stream",
     "text": [
      "r2         0.065281\n",
      "xval_r2    0.045301\n",
      "mse        6.157184\n",
      "nrmse      1.967990\n",
      "dtype: float64\n",
      "r2         0.045906\n",
      "xval_r2   -0.007790\n",
      "mse        3.716899\n",
      "nrmse      2.030196\n",
      "dtype: float64\n",
      "r2          0.047589\n",
      "xval_r2     0.003692\n",
      "mse        14.149680\n",
      "nrmse       1.883129\n",
      "dtype: float64\n",
      "r2          0.039549\n",
      "xval_r2     0.174552\n",
      "mse        10.442746\n",
      "nrmse       4.306226\n",
      "dtype: float64\n"
     ]
    },
    {
     "name": "stderr",
     "output_type": "stream",
     "text": [
      "/Users/mgonzal1/Documents/WS/wombats-malos/wombats/metrics.py:18: RuntimeWarning: invalid value encountered in true_divide\n",
      "  return 1 - ((y - y_hat) ** 2).sum(axis=1) / ((y - y_bar) ** 2).sum(axis=1)\n",
      "/Users/mgonzal1/Documents/WS/wombats-malos/wombats/metrics.py:64: RuntimeWarning: invalid value encountered in true_divide\n",
      "  return rmse(y, y_hat) / np.mean(y, axis=1)\n"
     ]
    }
   ],
   "source": [
    "\n",
    "data_set = [None] * n_sessions\n",
    " \n",
    "for session in range(n_sessions):\n",
    "    data_set[session] = utils.filter_no_go_choice(data[session])\n",
    "    data_set[session]['fr'] = utils.spikes_to_fr(data_set[session]['spks'], \n",
    "                                    samp_rate=samp_rate, \n",
    "                                    downsampling_factor=downsampling_factor, \n",
    "                                    exclude_pre=exclude_pre, \n",
    "                                    exclude_post=exclude_post,\n",
    "                                   )\n",
    "    #print(f\"fr shape {data_set[session]['fr'].shape}\")\n",
    "    #print(f\"spks shape {data_set[session]['spks'].shape}\")\n",
    "    train_set, val_set = utils.split_validation_set(data_set[session])    \n",
    "    visual_to_a1(train_set)\n"
   ]
  },
  {
   "cell_type": "code",
   "execution_count": null,
   "metadata": {},
   "outputs": [],
   "source": []
  }
 ],
 "metadata": {
  "file_extension": ".py",
  "kernelspec": {
   "display_name": "Python 3",
   "language": "python",
   "name": "python3"
  },
  "language_info": {
   "codemirror_mode": {
    "name": "ipython",
    "version": 3
   },
   "file_extension": ".py",
   "mimetype": "text/x-python",
   "name": "python",
   "nbconvert_exporter": "python",
   "pygments_lexer": "ipython3",
   "version": "3.8.5"
  },
  "mimetype": "text/x-python",
  "name": "python",
  "npconvert_exporter": "python",
  "pygments_lexer": "ipython3",
  "version": 3
 },
 "nbformat": 4,
 "nbformat_minor": 4
}
