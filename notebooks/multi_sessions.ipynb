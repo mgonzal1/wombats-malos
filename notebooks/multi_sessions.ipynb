{
 "cells": [
  {
   "cell_type": "markdown",
   "metadata": {},
   "source": [
    "# Notebook for multiple sessions"
   ]
  },
  {
   "cell_type": "code",
   "execution_count": 18,
   "metadata": {},
   "outputs": [],
   "source": [
    "import numpy as np\n",
    "import pandas as pd\n",
    "\n",
    "from pathlib import Path\n",
    "from matplotlib import pyplot as plt\n",
    "import ipywidgets as widgets\n",
    "from ipywidgets import interact, interactive, fixed, interact_manual\n",
    "from sklearn.model_selection import cross_val_score"
   ]
  },
  {
   "cell_type": "code",
   "execution_count": 2,
   "metadata": {},
   "outputs": [],
   "source": [
    "from importlib import reload\n",
    "\n",
    "from wombats import utils\n",
    "from wombats import metrics\n",
    "from wombats import models\n",
    "\n",
    "# if changes to the files run this to reload the moduls\n",
    "utils = reload(utils)\n",
    "metrics = reload(metrics)\n",
    "models = reload(models)"
   ]
  },
  {
   "cell_type": "code",
   "execution_count": 5,
   "metadata": {},
   "outputs": [],
   "source": [
    "data_file = Path('../data/steinmetz/steinmetz_all.npy')\n",
    "data_folder = Path('../data/steinmetz/')\n",
    "if not data_file.exists():\n",
    "    data = utils.load_steinmentz()\n",
    "    data_folder.mkdir(parents=True)\n",
    "    data_file.touch()\n",
    "    np.save(data_file, data)\n",
    "else:\n",
    "    data = np.load(data_file, allow_pickle=True)"
   ]
  },
  {
   "cell_type": "code",
   "execution_count": 6,
   "metadata": {},
   "outputs": [],
   "source": [
    "n_sessions = len(data)"
   ]
  },
  {
   "cell_type": "code",
   "execution_count": 8,
   "metadata": {},
   "outputs": [],
   "source": [
    "#@title Representative session\n",
    "#@markdown Let's see which session has more neurons in the areas that we are going to use and how many neurons it has.\n",
    "\n",
    "brain_groups = [[\"VISa\", \"VISam\", \"VISl\", \"VISp\", \"VISpm\", \"VISrl\"], # visual cortex\n",
    "                  [\"MOp\", \"MOs\"],\n",
    "                  ]\n",
    "regions = [\"visual\", \"motor\"]\n",
    "\n",
    "def count_neurons_per_brain_area():\n",
    "    neurons_in_session = []\n",
    "    for i in range (0,n_sessions):\n",
    "        session = data[i]\n",
    "        brain_areas = session['brain_area']\n",
    "\n",
    "        neurons_in_area = []\n",
    "        for group in brain_groups:\n",
    "            count = 0\n",
    "            for area in group:\n",
    "                count += np.count_nonzero(brain_areas == area)\n",
    "            neurons_in_area.append(count)\n",
    "        neurons_in_session.append(neurons_in_area)\n",
    "    return neurons_in_session\n",
    "\n",
    "def plot_areas_sessions(sessions, neurons_in_session):\n",
    "    fig, ax = plt.subplots(figsize=(18, 5))\n",
    "    neurons_in_session = np.asarray(neurons_in_session).T\n",
    "    im = ax.imshow(neurons_in_session)\n",
    "    ax.set_xticks(np.arange(len(sessions)))\n",
    "    ax.set_yticks(np.arange(len(regions)))\n",
    "    ax.set_yticklabels(regions)\n",
    "    ax.set_xticklabels(sessions)\n",
    "    \n",
    "    for i in range(len(regions)):\n",
    "        for j in range(len(sessions)):\n",
    "            text = ax.text(j, i, str(neurons_in_session[i,j]),\n",
    "                           ha=\"center\", va=\"center\", color=\"w\")\n",
    "    ax.set_title(\"Number of neurons per brain area\")\n",
    "    fig.tight_layout()\n",
    "    plt.show()\n",
    "     \n",
    "def get_representative_sessions(min_visual=1, min_motor=1):\n",
    "    representative_sessions = []\n",
    "    new_neurons = []\n",
    "    neurons_in_session = count_neurons_per_brain_area()\n",
    "    \n",
    "    for session, n_neurons in enumerate(neurons_in_session):\n",
    "        if(n_neurons[0] > min_visual and n_neurons[1] > min_motor):\n",
    "            representative_sessions.append(session)\n",
    "            new_neurons.append(n_neurons)\n",
    "    plot_areas_sessions(representative_sessions, new_neurons)\n",
    "    \n",
    "    return representative_sessions\n"
   ]
  },
  {
   "cell_type": "code",
   "execution_count": 9,
   "metadata": {},
   "outputs": [
    {
     "data": {
      "image/png": "[encoded data removed]",
      "text/plain": [
       "<Figure size 1296x360 with 1 Axes>"
      ]
     },
     "metadata": {
      "needs_background": "light"
     },
     "output_type": "display_data"
    }
   ],
   "source": [
    "idx_session  = get_representative_sessions(20, 20)\n",
    "# Get subset of selected sessions:\n",
    "data = data[idx_session]"
   ]
  },
  {
   "cell_type": "code",
   "execution_count": 10,
   "metadata": {},
   "outputs": [],
   "source": [
    "# DEFAULTS\n",
    "N_XVAL = 10 # cross validation\n",
    "DOWNSAMPLING_FACTOR  = 'all'  # 'all'-> implies that the analisis time window is compressed to 1\n",
    "TRIAL_RANGE = np.array([-0.5, 2])\n",
    "SAMP_RATE = 0.01\n",
    "\n",
    "N_SESSIONS = len(data)\n"
   ]
  },
  {
   "cell_type": "code",
   "execution_count": 11,
   "metadata": {},
   "outputs": [
    {
     "name": "stdout",
     "output_type": "stream",
     "text": [
      "14\n"
     ]
    }
   ],
   "source": [
    "print(N_SESSIONS)"
   ]
  },
  {
   "cell_type": "markdown",
   "metadata": {},
   "source": [
    "## Functions to get coefficients"
   ]
  },
  {
   "cell_type": "code",
   "execution_count": 20,
   "metadata": {},
   "outputs": [],
   "source": [
    "## TODO: alternatives for these functions.\n",
    "# take out obtaining performance and the prediction?\n",
    "\n",
    "def get_a1(stim, region_dat):\n",
    "    \n",
    "    n_region_neurons = region_dat.shape[0]\n",
    "    n_analysis_time_bins = region_dat.shape[2]\n",
    "    \n",
    "    if n_analysis_time_bins==1:\n",
    "        region_dat = region_dat.squeeze().T  # reshapes from neurons x trial x 1 bin, to trials x neurons\n",
    "        \n",
    "        # Model Linear Regression\n",
    "        encoder, encoder_coefs, encoder_model = models.train_linear_encoder(stim, region_dat)\n",
    "        A1 = encoder_coefs\n",
    "        \n",
    "        # get training data prediction\n",
    "        region_dat_hat = encoder(stim)  \n",
    "    \n",
    "        # get performance\n",
    "        encoder_perf = get_xval_perf(model=encoder_model, input_data=stim, output_data=region_dat, scoring='explained_variance')\n",
    "    else:\n",
    "        # need to implement a method for time window iteration\n",
    "        raise NotImplementedError\n",
    "    \n",
    "    return A1, encoder_perf, region_dat_hat\n",
    "\n",
    "def get_a2(region1_dat, region2_dat):\n",
    "    \"\"\"\n",
    "    :param region1_dat: generated output from a1\n",
    "    \"\"\"\n",
    "    \n",
    "    # Get data\n",
    "    #region2_dat = utils.get_region_data(train_set, region=region2, data_type='fr') \n",
    "    n_region2_neurons = region2_dat.shape[0]\n",
    "    n_analysis_time_bins = region2_dat.shape[2]\n",
    "    \n",
    "    if n_analysis_time_bins==1:\n",
    "        region2_dat = region2_dat.squeeze().T  # reshapes from neurons x trial x 1 bin, to trials x neurons\n",
    "        \n",
    "        # Model Linear Regression\n",
    "        transition, transition_coefs, transition_model = models.train_linear_transition(region1_dat, region2_dat)\n",
    "        A2 = transition_coefs\n",
    "        \n",
    "        # get training data prediction\n",
    "        region2_dat_hat = transition(region1_dat)\n",
    "\n",
    "        # get performance\n",
    "        transition_perf = get_xval_perf(model=transition_model, input_data=region1_dat, output_data=region2_dat, scoring='explained_variance')  \n",
    "\n",
    "    else:\n",
    "        # need to implement a method for time window iteration\n",
    "        raise NotImplementedError\n",
    "    \n",
    "    return A2, transition_perf, region2_dat_hat\n",
    "\n",
    "def get_a3(region_dat, output_data):\n",
    "    n_region_neurons = region_dat.shape[0]\n",
    "    n_analysis_time_bins = region_dat.shape[2]\n",
    "    \n",
    "    if n_analysis_time_bins==1:\n",
    "        region_dat = region_dat.squeeze().T  # reshapes from neurons x trial x 1 bin, to trials x neurons\n",
    "        \n",
    "        # Model Linear Regression\n",
    "        decoder, decoder_coefs, decoder_model = models.train_logistic_decoder(region_dat, output)\n",
    "        A3 = decoder_coefs\n",
    "        \n",
    "        # get prediction\n",
    "        region_dat_hat = decoder(region_dat)\n",
    "    \n",
    "        # get performance\n",
    "        decoder_perf = get_xval_perf(model=decoder_model, input_data=region_dat, \n",
    "                                     output_data=output_data, scoring='balanced_accuracy')\n",
    "    else:\n",
    "        # need to implement a method for time window iteration\n",
    "        raise NotImplementedError\n",
    "    \n",
    "    return A3, decoder_perf, region_dat_hat\n",
    "\n",
    "def get_full_model_output(stim, A1, A2, A3, output_type='bool'):\n",
    "    linear_output = stim @ A1 @ A2 @ A3\n",
    "    \n",
    "    if output_type=='prob':\n",
    "        output = utils.sigmoid(linear_output).flatten()\n",
    "    elif output_type == 'bool':\n",
    "        output = (linear_output>0).flatten()\n",
    "        \n",
    "    return output\n"
   ]
  },
  {
   "cell_type": "code",
   "execution_count": 13,
   "metadata": {
    "collapsed": true,
    "jupyter": {
     "outputs_hidden": true
    }
   },
   "outputs": [
    {
     "data": {
      "text/plain": [
       "[<matplotlib.lines.Line2D at 0x7fd2e08aad60>]"
      ]
     },
     "execution_count": 13,
     "metadata": {},
     "output_type": "execute_result"
    },
    {
     "data": {
      "image/png": "[encoded data removed]",
      "text/plain": [
       "<Figure size 432x288 with 1 Axes>"
      ]
     },
     "metadata": {
      "needs_background": "light"
     },
     "output_type": "display_data"
    }
   ],
   "source": [
    "x=np.linspace(-10,10,100)\n",
    "plt.plot(x, utils.sigmoid(x))"
   ]
  },
  {
   "cell_type": "markdown",
   "metadata": {},
   "source": [
    "## define performance metrics"
   ]
  },
  {
   "cell_type": "code",
   "execution_count": 15,
   "metadata": {},
   "outputs": [],
   "source": [
    "def get_xval_perf(model, input_data, output_data, n_xval=N_XVAL, scoring='explained_variance'):\n",
    "    \n",
    "    if output_data.ndim==1:\n",
    "        output_data = output_data[:, np.newaxis]\n",
    "\n",
    "    n_outputs = output_data.shape[1]\n",
    "    \n",
    "    perf = np.zeros((n_outputs, n_xval))\n",
    "    for output_idx in range(n_outputs):\n",
    "        perf[output_idx] = cross_val_score(model, input_data, output_data[:, output_idx], cv=n_xval, scoring=scoring)\n",
    "        \n",
    "    return perf\n",
    "\n",
    "def regression_performance_by_neuron(data, data_hat, xval_perf):\n",
    "    #MSE and R2 per unit\n",
    "    scores = pd.DataFrame(columns = ['r2', 'xval_r2', 'mse', 'nrmse'])\n",
    "    scores['r2'] = metrics.r2(data.T, data_hat.T)\n",
    "    scores['mse'] = metrics.mse(data.T, data_hat.T)\n",
    "    scores['nrmse'] = metrics.nrmse(data.T, data_hat.T)\n",
    "    scores['xval_r2'] = np.median(xval_perf,axis=1)\n",
    "\n",
    "    return scores.mean()\n",
    "\n",
    "def full_model_performance(model_output, subject_response, constrast_difference):\n",
    "    \"\"\"\n",
    "    :param model_output: bool array output of the full model\n",
    "    :param subject_response: bool array\n",
    "    :param correct_response: bool array\n",
    "    \n",
    "    returns: (1) accuracy of model vs subject (subjective performance)\n",
    "             (2) accuracy of model vs correct response (objective performance)\n",
    "             (3) accuracy of subject vs correct (subject performance) \n",
    "    \"\"\"\n",
    "    \n",
    "    out1 = np.mean(model_output==subject_response)\n",
    "    out2 = np.mean(model_output==correct_response)  ## spearman correlation, change c\n",
    "    out3 = np.mean(subject_response== (constrast_difference>0) )  \n",
    "    \n",
    "    out = np.array([out1, out2, out3])\n",
    "    \n",
    "    return out\n",
    "    "
   ]
  },
  {
   "cell_type": "code",
   "execution_count": 21,
   "metadata": {},
   "outputs": [
    {
     "name": "stdout",
     "output_type": "stream",
     "text": [
      "CPU times: user 41.3 s, sys: 583 ms, total: 41.8 s\n",
      "Wall time: 4.22 s\n"
     ]
    }
   ],
   "source": [
    "%%time \n",
    "\n",
    "region1 = 'visual'\n",
    "region2 = 'motor'\n",
    "data_type = 'fr'\n",
    "analysis_time_window =  np.array([0,0.5]) # time window to analizee\n",
    "\n",
    "exclude_pre = abs(analysis_time_window[0]-TRIAL_RANGE[0])\n",
    "exclude_post  = abs(analysis_time_window[1]-TRIAL_RANGE[1])\n",
    "\n",
    "A1 = {i:[] for i in range(N_SESSIONS)}\n",
    "encoder_perf = {i:[] for i in range(N_SESSIONS)}\n",
    "\n",
    "A2 = {i:[] for i in range(N_SESSIONS)}\n",
    "transition_perf = {i:[] for i in range(N_SESSIONS)}\n",
    "\n",
    "A3 = {i:[] for i in range(N_SESSIONS)}\n",
    "decoder_perf = {i:[] for i in range(N_SESSIONS)}\n",
    "\n",
    "full_model_scores = {i:[] for i in range(N_SESSIONS)}\n",
    "full_model_val_scores = {i:[] for i in range(N_SESSIONS)}\n",
    "\n",
    "for session in range(N_SESSIONS):\n",
    "    # get session data\n",
    "    data_set = utils.filter_no_go_choice(data[session])\n",
    "    # obtain firing rate for given analyses window\n",
    "    data_set['fr'] = utils.spikes_to_fr(data_set['spks'], \n",
    "                                        samp_rate=SAMP_RATE, \n",
    "                                        downsampling_factor=DOWNSAMPLING_FACTOR, \n",
    "                                        exclude_pre=exclude_pre, \n",
    "                                        exclude_post=exclude_post,\n",
    "                                       )\n",
    "    \n",
    "    # split data into training and validation sets.\n",
    "    train_set, val_set = utils.split_validation_set(data_set)    \n",
    "    \n",
    "    # obtain key subsets of training data for creating the model\n",
    "    stim = train_set['stims']\n",
    "    region1_data = utils.get_region_data(train_set, region=region1, data_type=data_type) \n",
    "    region2_data = utils.get_region_data(train_set, region=region2, data_type=data_type) \n",
    "    output = train_set['response']>0  # change to binary\n",
    "    \n",
    "    # get models by session\n",
    "    A1[session], encoder_perf[session], encoder_output  = get_a1(stim, region1_data)\n",
    "    A2[session], transition_perf[session], transition_output  = get_a2(encoder_output, region2_data)  ## input is encoder output\n",
    "    A3[session], decoder_perf[session], decoder_output  = get_a3(region2_data, output)\n",
    "    # transition output and decoder output are not unused.\n",
    "    \n",
    "    ## up to above is correct\n",
    "    ## change full model ouput to give subjective performance (subject choice == model output) \n",
    "    ## objective performance (correct output / contrast == model output)\n",
    "    ## store subject performance (correct output / contrast == subject choice)\n",
    "    ## test on no go trials.\n",
    "    ## what to do with contrast left == contrast right\n",
    "    \n",
    "    ## full model score should store the above.\n",
    "    full_model_output = get_full_model_output(stim, A1[session], A2[session], A3[session], output_type='prob')\n",
    "    \n",
    "    # obtain correct response\n",
    "    correct_output = stim[:,1]-stim[:,2]\n",
    "    \n",
    "    # \n",
    "    \n",
    "    ## validation set\n",
    "    stim_val = val_set['stims']\n",
    "    output_val = val_set['response']>0\n",
    "    \n",
    "    val_full_model_output = get_full_model_output(stim_val, A1[session], A2[session], A3[session], output_type='prob')\n",
    "\n",
    "    break\n",
    "        "
   ]
  },
  {
   "cell_type": "code",
   "execution_count": 175,
   "metadata": {},
   "outputs": [
    {
     "data": {
      "text/plain": [
       "array([[1.        , 0.86560852],\n",
       "       [0.86560852, 1.        ]])"
      ]
     },
     "execution_count": 175,
     "metadata": {},
     "output_type": "execute_result"
    }
   ],
   "source": [
    "np.corrcoef(full_model_output,correct_output,)"
   ]
  },
  {
   "cell_type": "code",
   "execution_count": 176,
   "metadata": {},
   "outputs": [
    {
     "data": {
      "text/plain": [
       "<matplotlib.collections.PathCollection at 0x7f280a51a280>"
      ]
     },
     "execution_count": 176,
     "metadata": {},
     "output_type": "execute_result"
    },
    {
     "data": {
      "image/png": "[encoded data removed]",
      "text/plain": [
       "<Figure size 432x288 with 1 Axes>"
      ]
     },
     "metadata": {
      "needs_background": "light"
     },
     "output_type": "display_data"
    }
   ],
   "source": [
    "plt.scatter(correct_output, full_model_output)"
   ]
  },
  {
   "cell_type": "code",
   "execution_count": 159,
   "metadata": {},
   "outputs": [
    {
     "data": {
      "text/plain": [
       "2"
      ]
     },
     "execution_count": 159,
     "metadata": {},
     "output_type": "execute_result"
    }
   ],
   "source": [
    "utils.sigmoid(stim @ A1[session] @ A2[session]).flat"
   ]
  },
  {
   "cell_type": "code",
   "execution_count": 135,
   "metadata": {},
   "outputs": [
    {
     "data": {
      "text/plain": [
       "array([ 1.  , -0.5 ,  0.5 , -0.5 ,  0.  ,  0.  ,  0.  ,  0.5 ,  0.5 ,\n",
       "        0.25,  1.  ,  0.5 , -1.  ,  0.  ,  0.  ,  0.  ,  0.  ,  0.5 ,\n",
       "        0.  ,  0.25, -0.75,  0.5 ,  0.5 ,  0.  , -0.25, -0.5 ,  0.25,\n",
       "        0.75, -0.5 , -1.  ,  0.  , -0.5 , -1.  ,  0.5 ,  0.  ,  0.5 ,\n",
       "       -1.  ,  0.  ,  0.75,  0.  ,  0.  , -0.25, -1.  , -0.5 ,  0.  ,\n",
       "       -0.75, -1.  , -0.5 ,  1.  , -0.5 ,  0.  , -1.  ,  1.  , -0.25,\n",
       "        0.75, -0.5 , -1.  ,  1.  ,  0.  , -0.25, -0.5 , -0.75, -0.75,\n",
       "       -1.  ,  0.75,  0.5 , -0.5 ,  0.5 , -0.25,  0.5 ,  1.  , -1.  ,\n",
       "       -0.75, -0.75,  1.  , -1.  , -1.  , -1.  , -1.  , -0.75,  0.25,\n",
       "        0.5 ,  0.5 , -1.  ,  0.5 , -0.25, -0.5 , -0.75,  1.  , -0.25,\n",
       "       -0.5 , -0.5 ,  0.25, -0.5 , -0.5 , -0.25,  0.5 ,  0.  ,  1.  ,\n",
       "        1.  ,  0.  ,  0.  ,  0.5 , -0.5 ,  1.  , -1.  ,  0.25,  1.  ,\n",
       "        0.75, -0.75,  0.25,  1.  , -0.5 ,  1.  , -0.5 , -0.75,  0.25,\n",
       "        1.  ,  0.5 ,  0.75,  0.25, -0.75, -0.75, -0.75, -0.75, -0.75])"
      ]
     },
     "execution_count": 135,
     "metadata": {},
     "output_type": "execute_result"
    }
   ],
   "source": [
    "stim[:,1]-stim[:,2]"
   ]
  },
  {
   "cell_type": "code",
   "execution_count": 92,
   "metadata": {},
   "outputs": [
    {
     "data": {
      "text/plain": [
       "((126, 113), (126,))"
      ]
     },
     "execution_count": 92,
     "metadata": {},
     "output_type": "execute_result"
    }
   ],
   "source": [
    "region2_data.squeeze().T.shape, output.shape"
   ]
  },
  {
   "cell_type": "code",
   "execution_count": 131,
   "metadata": {},
   "outputs": [
    {
     "data": {
      "text/plain": [
       "array([ 1., -1.,  1.,  1.,  1., -1., -1.,  1.,  1.,  1.,  1.,  1., -1.,\n",
       "       -1., -1.,  1.,  1.,  1.,  1.,  1., -1., -1.,  1., -1., -1., -1.,\n",
       "        1.,  1., -1., -1., -1., -1., -1.,  1., -1.,  1., -1., -1.,  1.,\n",
       "        1., -1., -1., -1., -1., -1., -1., -1., -1.,  1., -1., -1., -1.,\n",
       "        1., -1.,  1., -1., -1.,  1., -1., -1., -1.,  1., -1., -1.,  1.,\n",
       "        1., -1.,  1.,  1.,  1.,  1., -1.,  1., -1.,  1., -1., -1., -1.,\n",
       "       -1., -1.,  1.,  1.,  1., -1.,  1., -1., -1., -1.,  1., -1., -1.,\n",
       "       -1.,  1., -1., -1.,  1.,  1.,  1.,  1.,  1., -1., -1.,  1., -1.,\n",
       "        1., -1.,  1.,  1.,  1., -1.,  1.,  1.,  1.,  1., -1., -1.,  1.,\n",
       "        1.,  1.,  1.,  1.,  1.,  1.,  1.,  1.,  1.])"
      ]
     },
     "execution_count": 131,
     "metadata": {},
     "output_type": "execute_result"
    }
   ],
   "source": [
    "train_set['response']"
   ]
  },
  {
   "cell_type": "code",
   "execution_count": 133,
   "metadata": {},
   "outputs": [
    {
     "data": {
      "text/plain": [
       "(3, 178)"
      ]
     },
     "execution_count": 133,
     "metadata": {},
     "output_type": "execute_result"
    }
   ],
   "source": [
    "A1[0].shape"
   ]
  },
  {
   "cell_type": "code",
   "execution_count": 47,
   "metadata": {},
   "outputs": [
    {
     "ename": "IndexError",
     "evalue": "index 113 is out of bounds for axis 1 with size 113",
     "output_type": "error",
     "traceback": [
      "\u001b[0;31m---------------------------------------------------------------------------\u001b[0m",
      "\u001b[0;31mIndexError\u001b[0m                                Traceback (most recent call last)",
      "\u001b[0;32m<ipython-input-47-c2d2b64e1299>\u001b[0m in \u001b[0;36m<module>\u001b[0;34m\u001b[0m\n\u001b[1;32m      2\u001b[0m \u001b[0mtransition_model\u001b[0m \u001b[0;34m=\u001b[0m  \u001b[0mLinearRegression\u001b[0m\u001b[0;34m(\u001b[0m\u001b[0mfit_intercept\u001b[0m\u001b[0;34m=\u001b[0m\u001b[0;32mFalse\u001b[0m\u001b[0;34m)\u001b[0m\u001b[0;34m\u001b[0m\u001b[0;34m\u001b[0m\u001b[0m\n\u001b[1;32m      3\u001b[0m \u001b[0;34m\u001b[0m\u001b[0m\n\u001b[0;32m----> 4\u001b[0;31m \u001b[0mget_xval_perf\u001b[0m\u001b[0;34m(\u001b[0m\u001b[0mmodel\u001b[0m\u001b[0;34m=\u001b[0m\u001b[0mtransition_model\u001b[0m\u001b[0;34m,\u001b[0m \u001b[0minput_data\u001b[0m\u001b[0;34m=\u001b[0m\u001b[0mencoder_output\u001b[0m\u001b[0;34m,\u001b[0m \u001b[0moutput_data\u001b[0m\u001b[0;34m=\u001b[0m\u001b[0mregion2_data\u001b[0m\u001b[0;34m.\u001b[0m\u001b[0msqueeze\u001b[0m\u001b[0;34m(\u001b[0m\u001b[0;34m)\u001b[0m\u001b[0;34m.\u001b[0m\u001b[0mT\u001b[0m\u001b[0;34m,\u001b[0m \u001b[0mscoring\u001b[0m\u001b[0;34m=\u001b[0m\u001b[0;34m'explained_variance'\u001b[0m\u001b[0;34m)\u001b[0m\u001b[0;34m\u001b[0m\u001b[0;34m\u001b[0m\u001b[0m\n\u001b[0m",
      "\u001b[0;32m<ipython-input-42-7f3b6f3ecb7c>\u001b[0m in \u001b[0;36mget_xval_perf\u001b[0;34m(model, input_data, output_data, n_xval, scoring)\u001b[0m\n\u001b[1;32m      4\u001b[0m     \u001b[0mperf\u001b[0m \u001b[0;34m=\u001b[0m \u001b[0mnp\u001b[0m\u001b[0;34m.\u001b[0m\u001b[0mzeros\u001b[0m\u001b[0;34m(\u001b[0m\u001b[0;34m(\u001b[0m\u001b[0mn_neurons\u001b[0m\u001b[0;34m,\u001b[0m \u001b[0mn_xval\u001b[0m\u001b[0;34m)\u001b[0m\u001b[0;34m)\u001b[0m\u001b[0;34m\u001b[0m\u001b[0;34m\u001b[0m\u001b[0m\n\u001b[1;32m      5\u001b[0m     \u001b[0;32mfor\u001b[0m \u001b[0mneuron\u001b[0m \u001b[0;32min\u001b[0m \u001b[0mrange\u001b[0m\u001b[0;34m(\u001b[0m\u001b[0mn_neurons\u001b[0m\u001b[0;34m)\u001b[0m\u001b[0;34m:\u001b[0m\u001b[0;34m\u001b[0m\u001b[0;34m\u001b[0m\u001b[0m\n\u001b[0;32m----> 6\u001b[0;31m         \u001b[0mperf\u001b[0m\u001b[0;34m[\u001b[0m\u001b[0mneuron\u001b[0m\u001b[0;34m]\u001b[0m \u001b[0;34m=\u001b[0m \u001b[0mcross_val_score\u001b[0m\u001b[0;34m(\u001b[0m\u001b[0mmodel\u001b[0m\u001b[0;34m,\u001b[0m \u001b[0minput_data\u001b[0m\u001b[0;34m,\u001b[0m \u001b[0moutput_data\u001b[0m\u001b[0;34m[\u001b[0m\u001b[0;34m:\u001b[0m\u001b[0;34m,\u001b[0m \u001b[0mneuron\u001b[0m\u001b[0;34m]\u001b[0m\u001b[0;34m.\u001b[0m\u001b[0mflatten\u001b[0m\u001b[0;34m(\u001b[0m\u001b[0;34m)\u001b[0m\u001b[0;34m,\u001b[0m \u001b[0mcv\u001b[0m\u001b[0;34m=\u001b[0m\u001b[0mn_xval\u001b[0m\u001b[0;34m,\u001b[0m \u001b[0mscoring\u001b[0m\u001b[0;34m=\u001b[0m\u001b[0mscoring\u001b[0m\u001b[0;34m)\u001b[0m\u001b[0;34m\u001b[0m\u001b[0;34m\u001b[0m\u001b[0m\n\u001b[0m\u001b[1;32m      7\u001b[0m \u001b[0;34m\u001b[0m\u001b[0m\n\u001b[1;32m      8\u001b[0m     \u001b[0;32mreturn\u001b[0m \u001b[0mperf\u001b[0m\u001b[0;34m\u001b[0m\u001b[0;34m\u001b[0m\u001b[0m\n",
      "\u001b[0;31mIndexError\u001b[0m: index 113 is out of bounds for axis 1 with size 113"
     ]
    }
   ],
   "source": [
    "from sklearn.linear_model import LinearRegression\n",
    "transition_model =  LinearRegression(fit_intercept=False)\n",
    "\n",
    "get_xval_perf(model=transition_model, input_data=encoder_output, output_data=region2_data.squeeze().T, scoring='explained_variance')"
   ]
  },
  {
   "cell_type": "code",
   "execution_count": 100,
   "metadata": {},
   "outputs": [],
   "source": [
    "models = reload(models)\n",
    "decoder, decoder_coefs, decoder_model = models.train_logistic_decoder(region2_data.squeeze().T, output)\n",
    "\n",
    "input_data = region2_data.squeeze().T\n",
    "output_data = output\n",
    "\n",
    "n_xval=10\n",
    "scoring = 'balanced_accuracy'\n",
    "model = decoder_model\n",
    "\n",
    "if output_data.ndim==1:\n",
    "    output_data = output_data[:, np.newaxis]\n",
    "       \n",
    "n_outputs = output_data.shape[1]\n",
    "\n",
    "perf = np.zeros((n_outputs, n_xval))\n",
    "for output_idx in range(n_outputs):\n",
    "    perf[output_idx] = cross_val_score(model, input_data, output_data[:, output_idx], cv=n_xval, scoring=scoring)\n"
   ]
  },
  {
   "cell_type": "code",
   "execution_count": 101,
   "metadata": {},
   "outputs": [
    {
     "data": {
      "text/plain": [
       "array([[0.92857143, 1.        , 0.91666667, 0.92857143, 0.91666667,\n",
       "        1.        , 0.91666667, 0.91666667, 1.        , 0.91666667]])"
      ]
     },
     "execution_count": 101,
     "metadata": {},
     "output_type": "execute_result"
    }
   ],
   "source": [
    "perf"
   ]
  },
  {
   "cell_type": "code",
   "execution_count": 52,
   "metadata": {},
   "outputs": [
    {
     "data": {
      "text/plain": [
       "(126, 113)"
      ]
     },
     "execution_count": 52,
     "metadata": {},
     "output_type": "execute_result"
    }
   ],
   "source": [
    "output_data.shape"
   ]
  },
  {
   "cell_type": "code",
   "execution_count": 14,
   "metadata": {},
   "outputs": [],
   "source": [
    "data_set = [None] * N_SESSIONS\n",
    "\n",
    "session=0\n",
    "data_set[session] = utils.filter_no_go_choice(data[session])\n",
    "data_set[session]['fr'] = utils.spikes_to_fr(data_set[session]['spks'], \n",
    "                                samp_rate=SAMP_RATE, \n",
    "                                downsampling_factor=DOWNSAMPLING_FACTOR, \n",
    "                                exclude_pre=EXCLUDE_PRE, \n",
    "                                exclude_post=EXCLUDE_POST,\n",
    "                               )\n",
    "\n",
    "train_set, val_set = utils.split_validation_set(data_set[session])    "
   ]
  },
  {
   "cell_type": "code",
   "execution_count": 17,
   "metadata": {},
   "outputs": [
    {
     "data": {
      "text/plain": [
       "array([ 1., -1.,  1.,  1.,  1., -1., -1.,  1.,  1.,  1.,  1.,  1., -1.,\n",
       "       -1., -1.,  1.,  1.,  1.,  1.,  1., -1., -1.,  1., -1., -1., -1.,\n",
       "        1.,  1., -1., -1., -1., -1., -1.,  1., -1.,  1., -1., -1.,  1.,\n",
       "        1., -1., -1., -1., -1., -1., -1., -1., -1.,  1., -1., -1., -1.,\n",
       "        1., -1.,  1., -1., -1.,  1., -1., -1., -1.,  1., -1., -1.,  1.,\n",
       "        1., -1.,  1.,  1.,  1.,  1., -1.,  1., -1.,  1., -1., -1., -1.,\n",
       "       -1., -1.,  1.,  1.,  1., -1.,  1., -1., -1., -1.,  1., -1., -1.,\n",
       "       -1.,  1., -1., -1.,  1.,  1.,  1.,  1.,  1., -1., -1.,  1., -1.,\n",
       "        1., -1.,  1.,  1.,  1., -1.,  1.,  1.,  1.,  1., -1., -1.,  1.,\n",
       "        1.,  1.,  1.,  1.,  1.,  1.,  1.,  1.,  1.])"
      ]
     },
     "execution_count": 17,
     "metadata": {},
     "output_type": "execute_result"
    }
   ],
   "source": [
    "train_set['response']"
   ]
  }
 ],
 "metadata": {
  "file_extension": ".py",
  "kernelspec": {
   "display_name": "Python 3",
   "language": "python",
   "name": "python3"
  },
  "language_info": {
   "codemirror_mode": {
    "name": "ipython",
    "version": 3
   },
   "file_extension": ".py",
   "mimetype": "text/x-python",
   "name": "python",
   "nbconvert_exporter": "python",
   "pygments_lexer": "ipython3",
   "version": "3.8.5"
  },
  "mimetype": "text/x-python",
  "name": "python",
  "npconvert_exporter": "python",
  "pygments_lexer": "ipython3",
  "version": 3,
  "widgets": {
   "application/vnd.jupyter.widget-state+json": {
    "state": {},
    "version_major": 2,
    "version_minor": 0
   }
  }
 },
 "nbformat": 4,
 "nbformat_minor": 4
}
