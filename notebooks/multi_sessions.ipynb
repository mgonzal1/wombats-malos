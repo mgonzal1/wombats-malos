{
 "cells": [
  {
   "cell_type": "markdown",
   "metadata": {},
   "source": [
    "# Notebook for multiple sessions"
   ]
  },
  {
   "cell_type": "code",
   "execution_count": 38,
   "metadata": {},
   "outputs": [],
   "source": [
    "import numpy as np\n",
    "import pandas as pd\n",
    "\n",
    "from pathlib import Path\n",
    "from matplotlib import pyplot as plt\n",
    "import seaborn as sns\n",
    "import ipywidgets as widgets\n",
    "from ipywidgets import interact, interactive, fixed, interact_manual\n",
    "from sklearn.model_selection import cross_val_score"
   ]
  },
  {
   "cell_type": "code",
   "execution_count": 2,
   "metadata": {},
   "outputs": [],
   "source": [
    "from importlib import reload\n",
    "\n",
    "from wombats import utils\n",
    "from wombats import metrics\n",
    "from wombats import models\n",
    "import random\n",
    "# if changes to the files run this to reload the moduls\n",
    "utils = reload(utils)\n",
    "metrics = reload(metrics)\n",
    "models = reload(models)"
   ]
  },
  {
   "cell_type": "code",
   "execution_count": 3,
   "metadata": {},
   "outputs": [],
   "source": [
    "data_file = Path('../data/steinmetz/steinmetz_all.npy')\n",
    "data_folder = Path('../data/steinmetz/')\n",
    "if not data_file.exists():\n",
    "    data = utils.load_steinmentz()\n",
    "    data_folder.mkdir(parents=True)\n",
    "    data_file.touch()\n",
    "    np.save(data_file, data)\n",
    "else:\n",
    "    data = np.load(data_file, allow_pickle=True)"
   ]
  },
  {
   "cell_type": "code",
   "execution_count": 4,
   "metadata": {},
   "outputs": [],
   "source": [
    "n_sessions = len(data)"
   ]
  },
  {
   "cell_type": "code",
   "execution_count": 5,
   "metadata": {},
   "outputs": [],
   "source": [
    "#@title Representative session\n",
    "#@markdown Let's see which session has more neurons in the areas that we are going to use and how many neurons it has.\n",
    "\n",
    "brain_groups = [[\"VISa\", \"VISam\", \"VISl\", \"VISp\", \"VISpm\", \"VISrl\"], # visual cortex\n",
    "                  [\"MOp\", \"MOs\"],\n",
    "                  ]\n",
    "regions = [\"visual\", \"motor\"]\n",
    "\n",
    "def count_neurons_per_brain_area():\n",
    "    neurons_in_session = []\n",
    "    for i in range (0,n_sessions):\n",
    "        session = data[i]\n",
    "        brain_areas = session['brain_area']\n",
    "\n",
    "        neurons_in_area = []\n",
    "        for group in brain_groups:\n",
    "            count = 0\n",
    "            for area in group:\n",
    "                count += np.count_nonzero(brain_areas == area)\n",
    "            neurons_in_area.append(count)\n",
    "        neurons_in_session.append(neurons_in_area)\n",
    "    return neurons_in_session\n",
    "\n",
    "def plot_areas_sessions(sessions, neurons_in_session):\n",
    "    fig, ax = plt.subplots(figsize=(18, 5))\n",
    "    neurons_in_session = np.asarray(neurons_in_session).T\n",
    "    im = ax.imshow(neurons_in_session)\n",
    "    ax.set_xticks(np.arange(len(sessions)))\n",
    "    ax.set_yticks(np.arange(len(regions)))\n",
    "    ax.set_yticklabels(regions)\n",
    "    ax.set_xticklabels(sessions)\n",
    "    \n",
    "    for i in range(len(regions)):\n",
    "        for j in range(len(sessions)):\n",
    "            text = ax.text(j, i, str(neurons_in_session[i,j]),\n",
    "                           ha=\"center\", va=\"center\", color=\"w\")\n",
    "    ax.set_title(\"Number of neurons per brain area\")\n",
    "    fig.tight_layout()\n",
    "    plt.show()\n",
    "    \n",
    "    \n",
    "def get_representative_sessions(min_visual=1, min_motor=1):\n",
    "    representative_sessions = []\n",
    "    new_neurons = []\n",
    "    neurons_in_session = count_neurons_per_brain_area()\n",
    "    \n",
    "    for session, n_neurons in enumerate(neurons_in_session):\n",
    "        if(n_neurons[0] > min_visual and n_neurons[1] > min_motor):\n",
    "            representative_sessions.append(session)\n",
    "            new_neurons.append(n_neurons)\n",
    "    plot_areas_sessions(representative_sessions, new_neurons)\n",
    "    \n",
    "    return representative_sessions\n"
   ]
  },
  {
   "cell_type": "code",
   "execution_count": 6,
   "metadata": {},
   "outputs": [
    {
     "data": {
      "image/png": "[encoded data removed]",
      "text/plain": [
       "<Figure size 1296x360 with 1 Axes>"
      ]
     },
     "metadata": {
      "needs_background": "light"
     },
     "output_type": "display_data"
    }
   ],
   "source": [
    "idx_session  = get_representative_sessions(20, 20)\n",
    "# Get subset of selected sessions:\n",
    "data = data[idx_session]"
   ]
  },
  {
   "cell_type": "code",
   "execution_count": 7,
   "metadata": {},
   "outputs": [],
   "source": [
    "# DEFAULTS\n",
    "N_XVAL = 10 # cross validation\n",
    "DOWNSAMPLING_FACTOR  = 'all'  # 'all'-> implies that the analisis time window is compressed to 1\n",
    "TRIAL_RANGE = np.array([-0.5, 2])\n",
    "SAMP_RATE = 0.01\n",
    "\n",
    "N_SESSIONS = len(data)\n"
   ]
  },
  {
   "cell_type": "code",
   "execution_count": 8,
   "metadata": {},
   "outputs": [
    {
     "name": "stdout",
     "output_type": "stream",
     "text": [
      "14\n"
     ]
    }
   ],
   "source": [
    "print(N_SESSIONS)"
   ]
  },
  {
   "cell_type": "markdown",
   "metadata": {},
   "source": [
    "## Functions to get coefficients"
   ]
  },
  {
   "cell_type": "code",
   "execution_count": 14,
   "metadata": {},
   "outputs": [],
   "source": [
    "## TODO: alternatives for these functions.\n",
    "# take out obtaining performance and the prediction?\n",
    "\n",
    "def get_a1(stim, region_dat):\n",
    "    \n",
    "    n_region_neurons = region_dat.shape[0]\n",
    "    n_analysis_time_bins = region_dat.shape[2]\n",
    "    \n",
    "    if n_analysis_time_bins==1:\n",
    "        region_dat = region_dat.squeeze().T  # reshapes from neurons x trial x 1 bin, to trials x neurons\n",
    "        \n",
    "        # Model Linear Regression\n",
    "        encoder, encoder_coefs, encoder_model = models.train_linear_encoder(stim, region_dat)\n",
    "        A1 = encoder_coefs\n",
    "        \n",
    "        # get training data prediction\n",
    "        region_dat_hat = encoder(stim)  \n",
    "    \n",
    "        # get performance\n",
    "        encoder_perf = get_xval_perf(model=encoder_model, input_data=stim, output_data=region_dat, scoring='explained_variance')\n",
    "    else:\n",
    "        # need to implement a method for time window iteration\n",
    "        raise NotImplementedError\n",
    "    \n",
    "    return A1, encoder_perf, region_dat_hat\n",
    "\n",
    "\n",
    "def get_a2(region1_dat, region2_dat):\n",
    "    \"\"\"\n",
    "    :param region1_dat: generated output from a1\n",
    "    \"\"\"\n",
    "    \n",
    "    # Get data\n",
    "    #region2_dat = utils.get_region_data(train_set, region=region2, data_type='fr') \n",
    "    n_region2_neurons = region2_dat.shape[0]\n",
    "    n_analysis_time_bins = region2_dat.shape[2]\n",
    "    \n",
    "    if n_analysis_time_bins==1:\n",
    "        region2_dat = region2_dat.squeeze().T  # reshapes from neurons x trial x 1 bin, to trials x neurons\n",
    "        \n",
    "        # Model Linear Regression\n",
    "        transition, transition_coefs, transition_model = models.train_linear_transition(region1_dat, region2_dat)\n",
    "        A2 = transition_coefs\n",
    "        \n",
    "        # get training data prediction\n",
    "        region2_dat_hat = transition(region1_dat)\n",
    "\n",
    "        # get performance\n",
    "        transition_perf = get_xval_perf(model=transition_model, input_data=region1_dat, output_data=region2_dat, scoring='explained_variance')  \n",
    "\n",
    "    else:\n",
    "        # need to implement a method for time window iteration\n",
    "        raise NotImplementedError\n",
    "    \n",
    "    return A2, transition_perf, region2_dat_hat\n",
    "\n",
    "\n",
    "def get_a3(region_dat, output_dat):\n",
    "    n_region_neurons = region_dat.shape[0]\n",
    "    n_analysis_time_bins = region_dat.shape[2]\n",
    "    \n",
    "    if n_analysis_time_bins==1:\n",
    "        region_dat = region_dat.squeeze().T  # reshapes from neurons x trial x 1 bin, to trials x neurons\n",
    "        \n",
    "        # Model Linear Regression\n",
    "        decoder, decoder_coefs, decoder_model = models.train_logistic_decoder(region_dat, output_dat)\n",
    "        A3 = decoder_coefs\n",
    "        \n",
    "        # get prediction\n",
    "        region_dat_hat = decoder(region_dat)\n",
    "    \n",
    "        # get performance\n",
    "        decoder_perf = get_xval_perf(model=decoder_model, input_data=region_dat, output_data=output_dat, scoring='balanced_accuracy')\n",
    "    else:\n",
    "        # need to implement a method for time window iteration\n",
    "        raise NotImplementedError\n",
    "    \n",
    "    return A3, decoder_perf, region_dat_hat\n",
    "\n",
    "def get_ae(A1, A2, A3):\n",
    "    return A1@A2@A3\n",
    "\n",
    "def get_model_output(stim, AE=None, A1=None, A2=None, A3=None, output_type='bool'):\n",
    "    \n",
    "    if AE is None:\n",
    "        linear_output = stim @ A1 @ A2 @ A3\n",
    "    else:\n",
    "        linear_output = stim @ AE\n",
    "        \n",
    "    if output_type=='prob':\n",
    "        output = utils.sigmoid(linear_output).flatten()\n",
    "    elif output_type == 'bool':\n",
    "        output = (linear_output>0).flatten()\n",
    "        \n",
    "    return output"
   ]
  },
  {
   "cell_type": "code",
   "execution_count": 10,
   "metadata": {},
   "outputs": [],
   "source": [
    "def get_xval_perf(model, input_data, output_data, n_xval=N_XVAL, scoring='explained_variance'):\n",
    "    \n",
    "    if output_data.ndim==1:\n",
    "        output_data = output_data[:, np.newaxis]\n",
    "\n",
    "    n_outputs = output_data.shape[1]\n",
    "    \n",
    "    perf = np.zeros((n_outputs, n_xval))\n",
    "    for output_idx in range(n_outputs):\n",
    "        perf[output_idx] = cross_val_score(model, input_data, output_data[:, output_idx], cv=n_xval, scoring=scoring)\n",
    "        \n",
    "    return perf\n",
    "\n",
    "def regression_performance_by_neuron(data, data_hat, xval_perf):\n",
    "    #MSE and R2 per unit\n",
    "    scores = pd.DataFrame(columns = ['r2', 'xval_r2', 'mse', 'nrmse'])\n",
    "    scores['r2'] = metrics.r2(data.T, data_hat.T)\n",
    "    scores['mse'] = metrics.mse(data.T, data_hat.T)\n",
    "    scores['nrmse'] = metrics.nrmse(data.T, data_hat.T)\n",
    "    scores['xval_r2'] = np.median(xval_perf,axis=1)\n",
    "\n",
    "    return scores.mean()\n",
    "\n",
    "\n",
    "# TODO: full model metrics\n",
    "# (1) against animal choice \n",
    "# (2) against correct choice\n",
    "\n"
   ]
  },
  {
   "cell_type": "code",
   "execution_count": 15,
   "metadata": {},
   "outputs": [
    {
     "name": "stdout",
     "output_type": "stream",
     "text": [
      "..............CPU times: user 5min 20s, sys: 5.57 s, total: 5min 26s\n",
      "Wall time: 34.8 s\n"
     ]
    }
   ],
   "source": [
    "%%time \n",
    "\n",
    "region1 = 'visual'\n",
    "region2 = 'motor'\n",
    "data_type = 'fr'\n",
    "analysis_time_window =  np.array([0,0.5]) # time window to analizee\n",
    "\n",
    "\n",
    "exclude_pre = abs(analysis_time_window[0]-TRIAL_RANGE[0])\n",
    "exclude_post  = abs(analysis_time_window[1]-TRIAL_RANGE[1])\n",
    "\n",
    "A1 = {i:[] for i in range(N_SESSIONS)}\n",
    "encoder_perf = {i:[] for i in range(N_SESSIONS)}\n",
    "\n",
    "A2 = {i:[] for i in range(N_SESSIONS)}\n",
    "transition_perf = {i:[] for i in range(N_SESSIONS)}\n",
    "\n",
    "A3 = {i:[] for i in range(N_SESSIONS)}\n",
    "decoder_perf = {i:[] for i in range(N_SESSIONS)}\n",
    "\n",
    "## the below score tables assume binary outputs from the model. \n",
    "# 1) a more flexible (perhaps accurate) output would consider the probability of a response being left or right.\n",
    "# 2) a second alternative, is to consider probability values of less than some threshold to be no responses,\n",
    "# - for example, if |prob-0.5|<thr -> consider that a no response from model \n",
    "# 3) make model \n",
    "\n",
    "model_binary_scores = {session_i: pd.DataFrame(columns = [\"correct_v_subject\", \"correct_v_model\", \"subject_v_model\"], \n",
    "                                        index = [\"train\", \"val\", \"nogo\", \"noresp\", \"nono\"]) for session_i in range(N_SESSIONS)}\n",
    "\n",
    "for session_i in range(N_SESSIONS):\n",
    "    session_data = data[session_i]\n",
    "\n",
    "    session_data['fr'] = utils.spikes_to_fr(session_data['spks'], \n",
    "                                    samp_rate=SAMP_RATE, \n",
    "                                    downsampling_factor=DOWNSAMPLING_FACTOR, \n",
    "                                    exclude_pre=exclude_pre, \n",
    "                                    exclude_post=exclude_post,\n",
    "                                   )\n",
    "\n",
    "    train_set, val_set, nogo_set, noresp_set, nono_set = utils.split_validation_set(session_data)    \n",
    "\n",
    "    data_splits = {\"train\": train_set, \"val\": val_set, 'nogo': nogo_set, 'noresp': noresp_set, \"nono\": nono_set}\n",
    "\n",
    "    # get train data\n",
    "    stim = train_set['stims']\n",
    "    region1_data = utils.get_region_data(train_set, region=region1, data_type=data_type) \n",
    "    region2_data = utils.get_region_data(train_set, region=region2, data_type=data_type) \n",
    "    subject_resp = train_set['response']>0\n",
    "\n",
    "    # train the model\n",
    "    A1[session_i], encoder_perf[session_i], encoder_output  = get_a1(stim, region1_data)\n",
    "    A2[session_i], transition_perf[session_i], transition_output  = get_a2(encoder_output, region2_data)  ## input is encoder output\n",
    "    A3[session_i], decoder_perf[session_i], decoder_output  = get_a3(region2_data, subject_resp)\n",
    "\n",
    "    # A's pertbation or not\n",
    "\n",
    "    AE = get_ae(A1[session_i], A2[session_i], A3[session_i])\n",
    "\n",
    "    for data_div in [\"train\", \"val\", \"nogo\", \"noresp\", \"nono\"]:\n",
    "        stim = data_splits[data_div][\"stims\"]\n",
    "\n",
    "        subject_resp = data_splits[data_div][\"response\"] > 0\n",
    "        correct_resp = data_splits[data_div][\"delta_contrast\"] > 0\n",
    "\n",
    "        model_resp = get_model_output(stim, AE=AE)\n",
    "\n",
    "        if data_div == \"nogo\":  # subject responds\n",
    "            model_binary_scores[session_i].loc[data_div, \"correct_v_subject\"] = 0\n",
    "            model_binary_scores[session_i].loc[data_div, \"correct_v_model\"] = 0  ## or  np.mean ( np.abs(model_resp-0.5) < thr) \n",
    "            model_binary_scores[session_i].loc[data_div, \"subject_v_model\"] = metrics.binarry_acc(subject_resp, model_resp)     \n",
    "        elif data_div == \"noresp\":  # there is a contrast \n",
    "            model_binary_scores[session_i].loc[data_div, \"correct_v_subject\"] = 0 \n",
    "            model_binary_scores[session_i].loc[data_div, \"correct_v_model\"] = metrics.binarry_acc(correct_resp, model_resp)\n",
    "            model_binary_scores[session_i].loc[data_div, \"subject_v_model\"] = 0  ## or  np.mean ( np.abs(model_resp-0.5) < thr)\n",
    "        elif data_div == \"nono\":\n",
    "            model_binary_scores[session_i].loc[data_div, \"correct_v_subject\"] = 1     \n",
    "            model_binary_scores[session_i].loc[data_div, \"correct_v_model\"] = 0  ## or  np.mean ( np.abs(model_resp-0.5) < thr)       \n",
    "            model_binary_scores[session_i].loc[data_div, \"subject_v_model\"] = 0  ## or  np.mean ( np.abs(model_resp-0.5) < thr) \n",
    "        else:\n",
    "            model_binary_scores[session_i].loc[data_div, \"correct_v_subject\"] = metrics.binarry_acc(correct_resp, subject_resp)     \n",
    "            model_binary_scores[session_i].loc[data_div, \"correct_v_model\"] = metrics.binarry_acc(correct_resp, model_resp)        \n",
    "            model_binary_scores[session_i].loc[data_div, \"subject_v_model\"] = metrics.binarry_acc(subject_resp, model_resp)\n",
    "\n",
    "    print(\".\", end=\"\")\n",
    "        "
   ]
  },
  {
   "cell_type": "code",
   "execution_count": 58,
   "metadata": {},
   "outputs": [
    {
     "data": {
      "text/html": [
       "<div>\n",
       "<style scoped>\n",
       "    .dataframe tbody tr th:only-of-type {\n",
       "        vertical-align: middle;\n",
       "    }\n",
       "\n",
       "    .dataframe tbody tr th {\n",
       "        vertical-align: top;\n",
       "    }\n",
       "\n",
       "    .dataframe thead th {\n",
       "        text-align: right;\n",
       "    }\n",
       "</style>\n",
       "<table border=\"1\" class=\"dataframe\">\n",
       "  <thead>\n",
       "    <tr style=\"text-align: right;\">\n",
       "      <th></th>\n",
       "      <th>correct_v_subject</th>\n",
       "      <th>correct_v_model</th>\n",
       "      <th>subject_v_model</th>\n",
       "    </tr>\n",
       "  </thead>\n",
       "  <tbody>\n",
       "    <tr>\n",
       "      <th>train</th>\n",
       "      <td>0.926316</td>\n",
       "      <td>1</td>\n",
       "      <td>0.926316</td>\n",
       "    </tr>\n",
       "    <tr>\n",
       "      <th>val</th>\n",
       "      <td>1</td>\n",
       "      <td>1</td>\n",
       "      <td>1</td>\n",
       "    </tr>\n",
       "    <tr>\n",
       "      <th>nogo</th>\n",
       "      <td>0</td>\n",
       "      <td>0</td>\n",
       "      <td>0.411765</td>\n",
       "    </tr>\n",
       "    <tr>\n",
       "      <th>noresp</th>\n",
       "      <td>0</td>\n",
       "      <td>1</td>\n",
       "      <td>0</td>\n",
       "    </tr>\n",
       "    <tr>\n",
       "      <th>nono</th>\n",
       "      <td>1</td>\n",
       "      <td>0</td>\n",
       "      <td>0</td>\n",
       "    </tr>\n",
       "  </tbody>\n",
       "</table>\n",
       "</div>"
      ],
      "text/plain": [
       "       correct_v_subject correct_v_model subject_v_model\n",
       "train           0.926316               1        0.926316\n",
       "val                    1               1               1\n",
       "nogo                   0               0        0.411765\n",
       "noresp                 0               1               0\n",
       "nono                   1               0               0"
      ]
     },
     "execution_count": 58,
     "metadata": {},
     "output_type": "execute_result"
    }
   ],
   "source": [
    "model_binary_scores[1]"
   ]
  },
  {
   "cell_type": "code",
   "execution_count": 73,
   "metadata": {},
   "outputs": [],
   "source": [
    "all_scores = pd.DataFrame()\n",
    "for session_i in range(N_SESSIONS):\n",
    "    model_binary_scores[session_i][\"trial_set\"] = list(model_binary_scores[session_i].index)\n",
    "    a = pd.melt(model_binary_scores[session_i], id_vars='trial_set', value_vars=[\"correct_v_subject\", \"correct_v_model\", \"subject_v_model\"], value_name=\"score\", var_name=\"comp\")\n",
    "    a[\"session_num\"] = session_i\n",
    "    #a[\"trial_set\"] = list(model_binary_scores[session_i].index)\n",
    "    \n",
    "    all_scores = pd.concat( (all_scores, a) )\n",
    "    \n",
    "all_scores = all_scores.reset_index(drop=True)"
   ]
  },
  {
   "cell_type": "code",
   "execution_count": 74,
   "metadata": {},
   "outputs": [
    {
     "data": {
      "text/html": [
       "<div>\n",
       "<style scoped>\n",
       "    .dataframe tbody tr th:only-of-type {\n",
       "        vertical-align: middle;\n",
       "    }\n",
       "\n",
       "    .dataframe tbody tr th {\n",
       "        vertical-align: top;\n",
       "    }\n",
       "\n",
       "    .dataframe thead th {\n",
       "        text-align: right;\n",
       "    }\n",
       "</style>\n",
       "<table border=\"1\" class=\"dataframe\">\n",
       "  <thead>\n",
       "    <tr style=\"text-align: right;\">\n",
       "      <th></th>\n",
       "      <th>trial_set</th>\n",
       "      <th>comp</th>\n",
       "      <th>score</th>\n",
       "      <th>session_num</th>\n",
       "    </tr>\n",
       "  </thead>\n",
       "  <tbody>\n",
       "    <tr>\n",
       "      <th>0</th>\n",
       "      <td>train</td>\n",
       "      <td>correct_v_subject</td>\n",
       "      <td>0.877358</td>\n",
       "      <td>0</td>\n",
       "    </tr>\n",
       "    <tr>\n",
       "      <th>1</th>\n",
       "      <td>val</td>\n",
       "      <td>correct_v_subject</td>\n",
       "      <td>0.833333</td>\n",
       "      <td>0</td>\n",
       "    </tr>\n",
       "    <tr>\n",
       "      <th>2</th>\n",
       "      <td>nogo</td>\n",
       "      <td>correct_v_subject</td>\n",
       "      <td>0</td>\n",
       "      <td>0</td>\n",
       "    </tr>\n",
       "    <tr>\n",
       "      <th>3</th>\n",
       "      <td>noresp</td>\n",
       "      <td>correct_v_subject</td>\n",
       "      <td>0</td>\n",
       "      <td>0</td>\n",
       "    </tr>\n",
       "    <tr>\n",
       "      <th>4</th>\n",
       "      <td>nono</td>\n",
       "      <td>correct_v_subject</td>\n",
       "      <td>1</td>\n",
       "      <td>0</td>\n",
       "    </tr>\n",
       "    <tr>\n",
       "      <th>...</th>\n",
       "      <td>...</td>\n",
       "      <td>...</td>\n",
       "      <td>...</td>\n",
       "      <td>...</td>\n",
       "    </tr>\n",
       "    <tr>\n",
       "      <th>205</th>\n",
       "      <td>train</td>\n",
       "      <td>subject_v_model</td>\n",
       "      <td>0.929487</td>\n",
       "      <td>13</td>\n",
       "    </tr>\n",
       "    <tr>\n",
       "      <th>206</th>\n",
       "      <td>val</td>\n",
       "      <td>subject_v_model</td>\n",
       "      <td>0.833333</td>\n",
       "      <td>13</td>\n",
       "    </tr>\n",
       "    <tr>\n",
       "      <th>207</th>\n",
       "      <td>nogo</td>\n",
       "      <td>subject_v_model</td>\n",
       "      <td>0.677966</td>\n",
       "      <td>13</td>\n",
       "    </tr>\n",
       "    <tr>\n",
       "      <th>208</th>\n",
       "      <td>noresp</td>\n",
       "      <td>subject_v_model</td>\n",
       "      <td>0</td>\n",
       "      <td>13</td>\n",
       "    </tr>\n",
       "    <tr>\n",
       "      <th>209</th>\n",
       "      <td>nono</td>\n",
       "      <td>subject_v_model</td>\n",
       "      <td>0</td>\n",
       "      <td>13</td>\n",
       "    </tr>\n",
       "  </tbody>\n",
       "</table>\n",
       "<p>210 rows × 4 columns</p>\n",
       "</div>"
      ],
      "text/plain": [
       "    trial_set               comp     score  session_num\n",
       "0       train  correct_v_subject  0.877358            0\n",
       "1         val  correct_v_subject  0.833333            0\n",
       "2        nogo  correct_v_subject         0            0\n",
       "3      noresp  correct_v_subject         0            0\n",
       "4        nono  correct_v_subject         1            0\n",
       "..        ...                ...       ...          ...\n",
       "205     train    subject_v_model  0.929487           13\n",
       "206       val    subject_v_model  0.833333           13\n",
       "207      nogo    subject_v_model  0.677966           13\n",
       "208    noresp    subject_v_model         0           13\n",
       "209      nono    subject_v_model         0           13\n",
       "\n",
       "[210 rows x 4 columns]"
      ]
     },
     "execution_count": 74,
     "metadata": {},
     "output_type": "execute_result"
    }
   ],
   "source": [
    "all_scores"
   ]
  },
  {
   "cell_type": "code",
   "execution_count": 92,
   "metadata": {},
   "outputs": [],
   "source": [
    "all_scores.to_csv(\"../data/single_val_results.csv\")"
   ]
  },
  {
   "cell_type": "code",
   "execution_count": 91,
   "metadata": {},
   "outputs": [
    {
     "data": {
      "text/plain": [
       "<matplotlib.legend.Legend at 0x7f42bf6a46a0>"
      ]
     },
     "execution_count": 91,
     "metadata": {},
     "output_type": "execute_result"
    },
    {
     "data": {
      "image/png": "[encoded data removed]",
      "text/plain": [
       "<Figure size 432x288 with 1 Axes>"
      ]
     },
     "metadata": {},
     "output_type": "display_data"
    }
   ],
   "source": [
    "sns.set_context(\"notebook\", font_scale=1.5, rc={\"lines.linewidth\": 2.5})\n",
    "f,ax =plt.subplots()\n",
    "\n",
    "sns.boxplot(data=all_scores[all_scores.trial_set.isin([\"train\",\"val\"])], y = \"score\", x=\"trial_set\", hue='comp', color='white', whis=100, ax=ax)\n",
    "sns.stripplot(data=all_scores[all_scores.trial_set.isin([\"train\",\"val\"])], y = \"score\", x=\"trial_set\", hue='comp', alpha=0.5, dodge=True, size=10, ax=ax)\n",
    "handles, labels = ax.get_legend_handles_labels()  \n",
    "ax.legend(handles[3:], ['CvS','CvM','SvM'], title='Comp', bbox_to_anchor=(1.02, 1), frameon=False)"
   ]
  },
  {
   "cell_type": "code",
   "execution_count": 67,
   "metadata": {},
   "outputs": [],
   "source": [
    "utils=reload(utils)\n",
    "train_set, val_set, nogo_set, noresp_set, nono_set = utils.split_validation_set(session_data)    \n",
    "data_splits = {\"train\": train_set, \"val\": val_set, 'nogo': nogo_set, 'noresp': noresp_set, \"nono\": nono_set}\n"
   ]
  },
  {
   "cell_type": "code",
   "execution_count": 70,
   "metadata": {},
   "outputs": [
    {
     "data": {
      "text/plain": [
       "(343, 156)"
      ]
     },
     "execution_count": 70,
     "metadata": {},
     "output_type": "execute_result"
    }
   ],
   "source": [
    "len(session_data['response']), len(train_set['response']), "
   ]
  },
  {
   "cell_type": "code",
   "execution_count": 96,
   "metadata": {},
   "outputs": [
    {
     "name": "stdout",
     "output_type": "stream",
     "text": [
      "214\n"
     ]
    }
   ],
   "source": [
    "cnt=0\n",
    "for k,v in data_splits.items():\n",
    "    cnt+=len(v['response'])\n",
    "print(cnt)"
   ]
  },
  {
   "cell_type": "code",
   "execution_count": null,
   "metadata": {},
   "outputs": [],
   "source": []
  },
  {
   "cell_type": "code",
   "execution_count": 63,
   "metadata": {},
   "outputs": [],
   "source": [
    "data_div = \"noresp\"\n",
    "\n",
    "stim = data_splits[data_div][\"stims\"]\n",
    "subject_resp = data_splits[data_div][\"response\"] > 0\n",
    "correct_resp = data_splits[data_div][\"delta_contrast\"] > 0\n",
    "model_resp = get_model_output(stim, AE=AE, output_type='prob')"
   ]
  },
  {
   "cell_type": "code",
   "execution_count": 55,
   "metadata": {},
   "outputs": [
    {
     "data": {
      "text/plain": [
       "array([0., 0., 0., 0., 0., 0., 0., 0., 0., 0., 0., 0., 0., 0., 0., 0., 0.,\n",
       "       0., 0., 0., 0., 0., 0., 0., 0., 0., 0., 0., 0., 0., 0., 0., 0., 0.,\n",
       "       0., 0., 0., 0., 0., 0., 0., 0., 0., 0., 0., 0., 0., 0., 0., 0., 0.,\n",
       "       0., 0., 0., 0., 0., 0., 0., 0., 0., 0., 0., 0., 0., 0., 0., 0., 0.,\n",
       "       0., 0., 0., 0., 0., 0.])"
      ]
     },
     "execution_count": 55,
     "metadata": {},
     "output_type": "execute_result"
    }
   ],
   "source": [
    "data_splits[data_div][\"response\"]"
   ]
  },
  {
   "cell_type": "code",
   "execution_count": 84,
   "metadata": {},
   "outputs": [
    {
     "data": {
      "text/plain": [
       "array([ 0.  ,  0.  ,  0.  ,  0.  ,  0.  ,  0.  ,  0.  ,  0.  ,  0.  ,\n",
       "        0.  ,  0.  ,  0.  ,  0.  ,  0.  , -0.5 ,  0.  , -0.75,  0.5 ,\n",
       "        0.  ,  0.5 , -0.75, -0.75, -1.  ,  0.  , -1.  ,  0.  ,  0.  ,\n",
       "       -0.75, -0.75, -0.75,  0.  ,  0.  , -0.25,  0.  ,  0.  , -0.25,\n",
       "        0.  ,  0.  ,  0.  , -0.25,  0.  ,  0.  ,  0.  ,  0.  ,  0.25,\n",
       "       -0.5 , -1.  , -0.75, -0.75, -0.75, -0.75, -0.75, -0.75,  0.5 ,\n",
       "        1.  ,  0.  ,  0.5 ,  0.  ,  0.  ,  0.  ,  0.25,  0.  , -0.5 ,\n",
       "        0.5 ,  0.75, -0.25,  0.  , -0.5 , -0.25, -0.5 , -0.5 , -0.75,\n",
       "       -0.75, -0.75])"
      ]
     },
     "execution_count": 84,
     "metadata": {},
     "output_type": "execute_result"
    }
   ],
   "source": [
    "data_splits[data_div][\"delta_contrast\"]"
   ]
  },
  {
   "cell_type": "code",
   "execution_count": 80,
   "metadata": {},
   "outputs": [
    {
     "data": {
      "text/plain": [
       "array([0.01, 0.01, 0.01, 0.01, 0.01, 0.01, 0.01, 0.01, 0.01, 0.01, 0.01,\n",
       "       0.01, 0.01, 0.01, 0.  , 0.01, 0.  , 1.  , 0.01, 1.  , 0.  , 0.  ,\n",
       "       0.  , 0.01, 0.  , 0.01, 0.99, 0.  , 0.  , 0.  , 0.01, 0.01, 0.  ,\n",
       "       0.01, 0.01, 0.08, 0.01, 0.01, 0.01, 0.08, 0.01, 0.01, 0.01, 0.01,\n",
       "       1.  , 0.  , 0.  , 0.  , 0.  , 0.  , 0.  , 0.  , 0.  , 1.  , 1.  ,\n",
       "       0.01, 1.  , 0.01, 0.01, 0.01, 1.  , 1.  , 0.51, 1.  , 1.  , 0.08,\n",
       "       0.01, 0.  , 0.  , 0.  , 0.  , 0.  , 0.  , 0.  ])"
      ]
     },
     "execution_count": 80,
     "metadata": {},
     "output_type": "execute_result"
    }
   ],
   "source": [
    "np.around(model_resp, 2)"
   ]
  },
  {
   "cell_type": "code",
   "execution_count": 81,
   "metadata": {},
   "outputs": [
    {
     "data": {
      "text/plain": [
       "array([0.00814823, 0.00814823, 0.00814823, 0.00814823, 0.00814823,\n",
       "       0.00814823, 0.00814823, 0.00814823, 0.00814823, 0.00814823,\n",
       "       0.00814823, 0.00814823, 0.00814823, 0.00814823, 0.00814823,\n",
       "       0.00814823, 0.00814823, 0.00814823, 0.98618193, 0.00814823,\n",
       "       0.00814823, 0.00814823, 0.00814823, 0.00814823, 0.00814823,\n",
       "       0.00814823, 0.00814823, 0.00814823, 0.00814823, 0.00814823,\n",
       "       0.00814823, 0.00814823, 0.00814823, 0.00814823, 0.99999839,\n",
       "       0.00814823])"
      ]
     },
     "execution_count": 81,
     "metadata": {},
     "output_type": "execute_result"
    }
   ],
   "source": [
    "model_resp[data_splits[data_div][\"delta_contrast\"]==0]"
   ]
  },
  {
   "cell_type": "code",
   "execution_count": 61,
   "metadata": {},
   "outputs": [
    {
     "data": {
      "text/plain": [
       "0.4864864864864865"
      ]
     },
     "execution_count": 61,
     "metadata": {},
     "output_type": "execute_result"
    }
   ],
   "source": [
    "metrics.binarry_acc(data_splits[data_div][\"delta_contrast\"], data_splits[data_div][\"response\"])"
   ]
  },
  {
   "cell_type": "code",
   "execution_count": 74,
   "metadata": {},
   "outputs": [
    {
     "data": {
      "text/plain": [
       "<matplotlib.collections.PathCollection at 0x7f94d86beca0>"
      ]
     },
     "execution_count": 74,
     "metadata": {},
     "output_type": "execute_result"
    },
    {
     "data": {
      "image/png": "[encoded data removed]",
      "text/plain": [
       "<Figure size 432x288 with 1 Axes>"
      ]
     },
     "metadata": {
      "needs_background": "light"
     },
     "output_type": "display_data"
    }
   ],
   "source": [
    "plt.scatter(data_splits[data_div][\"delta_contrast\"], model_resp, alpha=0.3)"
   ]
  },
  {
   "cell_type": "code",
   "execution_count": 75,
   "metadata": {},
   "outputs": [],
   "source": [
    "import scipy.stats as ss\n",
    "\n"
   ]
  },
  {
   "cell_type": "code",
   "execution_count": 76,
   "metadata": {},
   "outputs": [
    {
     "data": {
      "text/plain": [
       "(0.5920109487079006, 2.770492420510131e-08)"
      ]
     },
     "execution_count": 76,
     "metadata": {},
     "output_type": "execute_result"
    }
   ],
   "source": [
    "ss.pearsonr(data_splits[data_div][\"delta_contrast\"], model_resp)"
   ]
  },
  {
   "cell_type": "code",
   "execution_count": 77,
   "metadata": {},
   "outputs": [
    {
     "data": {
      "text/plain": [
       "SpearmanrResult(correlation=0.8612174177568852, pvalue=7.436808158099207e-23)"
      ]
     },
     "execution_count": 77,
     "metadata": {},
     "output_type": "execute_result"
    }
   ],
   "source": [
    "ss.spearmanr(data_splits[data_div][\"delta_contrast\"], model_resp)"
   ]
  },
  {
   "cell_type": "code",
   "execution_count": 65,
   "metadata": {},
   "outputs": [],
   "source": [
    "stims = utils.get_stimulus(session_data)\n",
    "delta_contrast = session_data['contrast_left']-session_data['contrast_right']\n",
    "response = utils.get_response(session_data)\n",
    "spks = session_data['spks']\n",
    "\n",
    "n_trials = len(session_data['response'])\n",
    "all_trials = np.arange(n_trials)\n",
    "\n",
    "no_resp_trials = np.where(session_data['response']==0)[0]\n",
    "no_go_trials = np.where(delta_contrast==0)[0]\n",
    "\n",
    "valid_trials = np.setdiff1d(all_trials, no_resp_trials)\n",
    "valid_trials = np.setdiff1d(valid_trials, no_go_trials)\n",
    "n_valid_trials = len(valid_trials)"
   ]
  },
  {
   "cell_type": "code",
   "execution_count": 68,
   "metadata": {},
   "outputs": [
    {
     "data": {
      "text/plain": [
       "((74,), (58,))"
      ]
     },
     "execution_count": 68,
     "metadata": {},
     "output_type": "execute_result"
    }
   ],
   "source": [
    "no_resp_trials.shape, no_go_trials.shape, "
   ]
  },
  {
   "cell_type": "code",
   "execution_count": 69,
   "metadata": {},
   "outputs": [
    {
     "data": {
      "text/plain": [
       "214"
      ]
     },
     "execution_count": 69,
     "metadata": {},
     "output_type": "execute_result"
    }
   ],
   "source": [
    "mn_trials"
   ]
  },
  {
   "cell_type": "code",
   "execution_count": 24,
   "metadata": {},
   "outputs": [
    {
     "data": {
      "text/plain": [
       "array([0, 1, 5])"
      ]
     },
     "execution_count": 24,
     "metadata": {},
     "output_type": "execute_result"
    }
   ],
   "source": [
    "np.sort(np.random.permutation(np.arange(10))[:3])"
   ]
  },
  {
   "cell_type": "code",
   "execution_count": 46,
   "metadata": {},
   "outputs": [
    {
     "data": {
      "image/png": "[encoded data removed]",
      "text/plain": [
       "<Figure size 432x288 with 1 Axes>"
      ]
     },
     "metadata": {
      "needs_background": "light"
     },
     "output_type": "display_data"
    }
   ],
   "source": [
    "plt.scatter(stim[:,1]-stim[:,2],full_model_output)\n",
    "plt.grid()"
   ]
  },
  {
   "cell_type": "code",
   "execution_count": 57,
   "metadata": {},
   "outputs": [
    {
     "data": {
      "text/plain": [
       "0.9999901395960847"
      ]
     },
     "execution_count": 57,
     "metadata": {},
     "output_type": "execute_result"
    }
   ],
   "source": [
    "full_model_output[np.sign(stim[:,1]-stim[:,2])==0].mean()"
   ]
  },
  {
   "cell_type": "code",
   "execution_count": 58,
   "metadata": {},
   "outputs": [
    {
     "data": {
      "text/plain": [
       "0.3"
      ]
     },
     "execution_count": 58,
     "metadata": {},
     "output_type": "execute_result"
    }
   ],
   "source": [
    "output[np.sign(stim[:,1]-stim[:,2])==0].mean()"
   ]
  },
  {
   "cell_type": "code",
   "execution_count": 60,
   "metadata": {},
   "outputs": [
    {
     "data": {
      "text/plain": [
       "0.5079365079365079"
      ]
     },
     "execution_count": 60,
     "metadata": {},
     "output_type": "execute_result"
    }
   ],
   "source": [
    "output.mean()"
   ]
  },
  {
   "cell_type": "markdown",
   "metadata": {},
   "source": [
    "We noted a model bias in session 0 for the model to output left(1) when the difference in contrast is zero. However, the subject responds left at a 30% when input is zero."
   ]
  },
  {
   "cell_type": "code",
   "execution_count": 53,
   "metadata": {},
   "outputs": [
    {
     "data": {
      "text/plain": [
       "dict_keys(['spks', 'wheel', 'pupil', 'response', 'response_time', 'bin_size', 'stim_onset', 'contrast_right', 'contrast_left', 'brain_area', 'feedback_time', 'feedback_type', 'gocue', 'mouse_name', 'date_exp', 'trough_to_peak', 'active_trials', 'contrast_left_passive', 'contrast_right_passive', 'spks_passive', 'pupil_passive', 'wheel_passive', 'prev_reward', 'ccf', 'ccf_axes', 'cellid_orig', 'reaction_time', 'face', 'face_passive', 'licks', 'licks_passive'])"
      ]
     },
     "execution_count": 53,
     "metadata": {},
     "output_type": "execute_result"
    }
   ],
   "source": [
    "data[2].keys()"
   ]
  },
  {
   "cell_type": "code",
   "execution_count": 75,
   "metadata": {},
   "outputs": [],
   "source": [
    "new_encoder_output, pert_neu = A1_pert(encoder_output, 10)"
   ]
  },
  {
   "cell_type": "code",
   "execution_count": 76,
   "metadata": {},
   "outputs": [
    {
     "name": "stdout",
     "output_type": "stream",
     "text": [
      "[60, 62, 165, 73, 18, 162, 21, 36, 105, 108]\n"
     ]
    }
   ],
   "source": [
    "print(pert_neu)"
   ]
  },
  {
   "cell_type": "code",
   "execution_count": 77,
   "metadata": {},
   "outputs": [
    {
     "data": {
      "text/plain": [
       "array([0., 0., 0., 0., 0., 0., 0., 0., 0., 0., 0., 0., 0., 0., 0., 0., 0.,\n",
       "       0., 0., 0., 0., 0., 0., 0., 0., 0., 0., 0., 0., 0., 0., 0., 0., 0.,\n",
       "       0., 0., 0., 0., 0., 0., 0., 0., 0., 0., 0., 0., 0., 0., 0., 0., 0.,\n",
       "       0., 0., 0., 0., 0., 0., 0., 0., 0., 0., 0., 0., 0., 0., 0., 0., 0.,\n",
       "       0., 0., 0., 0., 0., 0., 0., 0., 0., 0., 0., 0., 0., 0., 0., 0., 0.,\n",
       "       0., 0., 0., 0., 0., 0., 0., 0., 0., 0., 0., 0., 0., 0., 0., 0., 0.,\n",
       "       0., 0., 0., 0., 0., 0., 0., 0., 0., 0., 0., 0., 0., 0., 0., 0., 0.,\n",
       "       0., 0., 0., 0., 0., 0., 0.])"
      ]
     },
     "execution_count": 77,
     "metadata": {},
     "output_type": "execute_result"
    }
   ],
   "source": [
    "new_encoder_output[:,60]"
   ]
  },
  {
   "cell_type": "code",
   "execution_count": 31,
   "metadata": {
    "collapsed": true,
    "jupyter": {
     "outputs_hidden": true
    }
   },
   "outputs": [
    {
     "data": {
      "text/plain": [
       "array([[1.  , 1.  , 0.  ],\n",
       "       [1.  , 0.  , 0.5 ],\n",
       "       [1.  , 1.  , 0.5 ],\n",
       "       [1.  , 0.5 , 1.  ],\n",
       "       [1.  , 0.  , 0.  ],\n",
       "       [1.  , 0.  , 0.  ],\n",
       "       [1.  , 0.  , 0.  ],\n",
       "       [1.  , 1.  , 0.5 ],\n",
       "       [1.  , 0.5 , 0.  ],\n",
       "       [1.  , 0.5 , 0.25],\n",
       "       [1.  , 1.  , 0.  ],\n",
       "       [1.  , 0.5 , 0.  ],\n",
       "       [1.  , 0.  , 1.  ],\n",
       "       [1.  , 1.  , 1.  ],\n",
       "       [1.  , 0.  , 0.  ],\n",
       "       [1.  , 0.  , 0.  ],\n",
       "       [1.  , 0.  , 0.  ],\n",
       "       [1.  , 0.5 , 0.  ],\n",
       "       [1.  , 0.  , 0.  ],\n",
       "       [1.  , 0.5 , 0.25],\n",
       "       [1.  , 0.25, 1.  ],\n",
       "       [1.  , 1.  , 0.5 ],\n",
       "       [1.  , 0.5 , 0.  ],\n",
       "       [1.  , 0.  , 0.  ],\n",
       "       [1.  , 0.  , 0.25],\n",
       "       [1.  , 0.5 , 1.  ],\n",
       "       [1.  , 0.25, 0.  ],\n",
       "       [1.  , 1.  , 0.25],\n",
       "       [1.  , 0.  , 0.5 ],\n",
       "       [1.  , 0.  , 1.  ],\n",
       "       [1.  , 0.  , 0.  ],\n",
       "       [1.  , 0.  , 0.5 ],\n",
       "       [1.  , 0.  , 1.  ],\n",
       "       [1.  , 0.5 , 0.  ],\n",
       "       [1.  , 0.25, 0.25],\n",
       "       [1.  , 0.5 , 0.  ],\n",
       "       [1.  , 0.  , 1.  ],\n",
       "       [1.  , 0.  , 0.  ],\n",
       "       [1.  , 1.  , 0.25],\n",
       "       [1.  , 0.5 , 0.5 ],\n",
       "       [1.  , 0.5 , 0.5 ],\n",
       "       [1.  , 0.  , 0.25],\n",
       "       [1.  , 0.  , 1.  ],\n",
       "       [1.  , 0.  , 0.5 ],\n",
       "       [1.  , 0.5 , 0.5 ],\n",
       "       [1.  , 0.25, 1.  ],\n",
       "       [1.  , 0.  , 1.  ],\n",
       "       [1.  , 0.  , 0.5 ],\n",
       "       [1.  , 1.  , 0.  ],\n",
       "       [1.  , 0.  , 0.5 ],\n",
       "       [1.  , 0.25, 0.25],\n",
       "       [1.  , 0.  , 1.  ],\n",
       "       [1.  , 1.  , 0.  ],\n",
       "       [1.  , 0.  , 0.25],\n",
       "       [1.  , 1.  , 0.25],\n",
       "       [1.  , 0.5 , 1.  ],\n",
       "       [1.  , 0.  , 1.  ],\n",
       "       [1.  , 1.  , 0.  ],\n",
       "       [1.  , 1.  , 1.  ],\n",
       "       [1.  , 0.  , 0.25],\n",
       "       [1.  , 0.  , 0.5 ],\n",
       "       [1.  , 0.25, 1.  ],\n",
       "       [1.  , 0.25, 1.  ],\n",
       "       [1.  , 0.  , 1.  ],\n",
       "       [1.  , 1.  , 0.25],\n",
       "       [1.  , 0.5 , 0.  ],\n",
       "       [1.  , 0.  , 0.5 ],\n",
       "       [1.  , 0.5 , 0.  ],\n",
       "       [1.  , 0.25, 0.5 ],\n",
       "       [1.  , 0.5 , 0.  ],\n",
       "       [1.  , 1.  , 0.  ],\n",
       "       [1.  , 0.  , 1.  ],\n",
       "       [1.  , 0.25, 1.  ],\n",
       "       [1.  , 0.25, 1.  ],\n",
       "       [1.  , 1.  , 0.  ],\n",
       "       [1.  , 0.  , 1.  ],\n",
       "       [1.  , 0.  , 1.  ],\n",
       "       [1.  , 0.  , 1.  ],\n",
       "       [1.  , 0.  , 1.  ],\n",
       "       [1.  , 0.25, 1.  ],\n",
       "       [1.  , 0.5 , 0.25],\n",
       "       [1.  , 0.5 , 0.  ],\n",
       "       [1.  , 0.5 , 0.  ],\n",
       "       [1.  , 0.  , 1.  ],\n",
       "       [1.  , 1.  , 0.5 ],\n",
       "       [1.  , 0.25, 0.5 ],\n",
       "       [1.  , 0.  , 0.5 ],\n",
       "       [1.  , 0.25, 1.  ],\n",
       "       [1.  , 1.  , 0.  ],\n",
       "       [1.  , 0.  , 0.25],\n",
       "       [1.  , 0.  , 0.5 ],\n",
       "       [1.  , 0.  , 0.5 ],\n",
       "       [1.  , 0.5 , 0.25],\n",
       "       [1.  , 0.  , 0.5 ],\n",
       "       [1.  , 0.  , 0.5 ],\n",
       "       [1.  , 0.25, 0.5 ],\n",
       "       [1.  , 0.5 , 0.  ],\n",
       "       [1.  , 0.5 , 0.5 ],\n",
       "       [1.  , 1.  , 0.  ],\n",
       "       [1.  , 1.  , 0.  ],\n",
       "       [1.  , 0.  , 0.  ],\n",
       "       [1.  , 1.  , 1.  ],\n",
       "       [1.  , 0.5 , 0.  ],\n",
       "       [1.  , 0.  , 0.5 ],\n",
       "       [1.  , 1.  , 0.  ],\n",
       "       [1.  , 0.  , 1.  ],\n",
       "       [1.  , 0.5 , 0.25],\n",
       "       [1.  , 1.  , 0.  ],\n",
       "       [1.  , 1.  , 0.25],\n",
       "       [1.  , 0.25, 1.  ],\n",
       "       [1.  , 0.5 , 0.25],\n",
       "       [1.  , 1.  , 0.  ],\n",
       "       [1.  , 0.  , 0.5 ],\n",
       "       [1.  , 1.  , 0.  ],\n",
       "       [1.  , 0.  , 0.5 ],\n",
       "       [1.  , 0.25, 1.  ],\n",
       "       [1.  , 0.5 , 0.25],\n",
       "       [1.  , 1.  , 0.  ],\n",
       "       [1.  , 1.  , 0.5 ],\n",
       "       [1.  , 1.  , 0.25],\n",
       "       [1.  , 0.25, 0.  ],\n",
       "       [1.  , 0.25, 1.  ],\n",
       "       [1.  , 0.25, 1.  ],\n",
       "       [1.  , 0.25, 1.  ],\n",
       "       [1.  , 0.25, 1.  ],\n",
       "       [1.  , 0.25, 1.  ]])"
      ]
     },
     "execution_count": 31,
     "metadata": {},
     "output_type": "execute_result"
    }
   ],
   "source": [
    "stim # columna 1 no importa. Columna 2 y 3 contraste,"
   ]
  },
  {
   "cell_type": "code",
   "execution_count": 21,
   "metadata": {},
   "outputs": [
    {
     "data": {
      "text/plain": [
       "array([[-0.02364648, -0.34645026, -0.19626273, ...,  0.08014788,\n",
       "        -0.01459022, -0.02657762],\n",
       "       [ 0.02129328,  0.05625523,  0.02480889, ..., -0.00446165,\n",
       "         0.        , -0.05538559],\n",
       "       [-0.1595742 ,  0.38423209,  0.31343135, ..., -0.74435528,\n",
       "        -0.2324751 ,  0.09542615],\n",
       "       ...,\n",
       "       [ 0.        ,  0.        ,  0.        , ...,  0.        ,\n",
       "         0.        ,  0.        ],\n",
       "       [ 0.03840297,  0.        ,  0.05387747, ..., -0.09689126,\n",
       "        -0.01677844,  0.01414237],\n",
       "       [ 0.00636282,  0.06527715,  0.00889748, ..., -0.28528214,\n",
       "         0.        ,  0.07493322]])"
      ]
     },
     "execution_count": 21,
     "metadata": {},
     "output_type": "execute_result"
    }
   ],
   "source": [
    "from sklearn.linear_model import LinearRegression\n",
    "transition_model =  LinearRegression(fit_intercept=False)\n",
    "\n",
    "get_xval_perf(model=transition_model, input_data=encoder_output, output_data=region2_data.squeeze().T, scoring='explained_variance')"
   ]
  },
  {
   "cell_type": "code",
   "execution_count": 22,
   "metadata": {},
   "outputs": [],
   "source": [
    "models = reload(models)\n",
    "decoder, decoder_coefs, decoder_model = models.train_logistic_decoder(region2_data.squeeze().T, output)\n",
    "\n",
    "input_data = region2_data.squeeze().T\n",
    "output_data = output\n",
    "\n",
    "n_xval=10\n",
    "scoring = 'balanced_accuracy'\n",
    "model = decoder_model\n",
    "\n",
    "if output_data.ndim==1:\n",
    "    output_data = output_data[:, np.newaxis]\n",
    "       \n",
    "n_outputs = output_data.shape[1]\n",
    "\n",
    "perf = np.zeros((n_outputs, n_xval))\n",
    "for output_idx in range(n_outputs):\n",
    "    perf[output_idx] = cross_val_score(model, input_data, output_data[:, output_idx], cv=n_xval, scoring=scoring)\n"
   ]
  },
  {
   "cell_type": "code",
   "execution_count": 101,
   "metadata": {},
   "outputs": [
    {
     "data": {
      "text/plain": [
       "array([[0.92857143, 1.        , 0.91666667, 0.92857143, 0.91666667,\n",
       "        1.        , 0.91666667, 0.91666667, 1.        , 0.91666667]])"
      ]
     },
     "execution_count": 101,
     "metadata": {},
     "output_type": "execute_result"
    }
   ],
   "source": [
    "perf"
   ]
  },
  {
   "cell_type": "code",
   "execution_count": 52,
   "metadata": {},
   "outputs": [
    {
     "data": {
      "text/plain": [
       "(126, 113)"
      ]
     },
     "execution_count": 52,
     "metadata": {},
     "output_type": "execute_result"
    }
   ],
   "source": [
    "output_data.shape"
   ]
  },
  {
   "cell_type": "code",
   "execution_count": 14,
   "metadata": {},
   "outputs": [],
   "source": [
    "data_set = [None] * N_SESSIONS\n",
    "\n",
    "session=0\n",
    "data_set[session] = utils.filter_no_go_choice(data[session])\n",
    "data_set[session]['fr'] = utils.spikes_to_fr(data_set[session]['spks'], \n",
    "                                samp_rate=SAMP_RATE, \n",
    "                                downsampling_factor=DOWNSAMPLING_FACTOR, \n",
    "                                exclude_pre=EXCLUDE_PRE, \n",
    "                                exclude_post=EXCLUDE_POST,\n",
    "                               )\n",
    "\n",
    "train_set, val_set = utils.split_validation_set(data_set[session])    "
   ]
  },
  {
   "cell_type": "code",
   "execution_count": 17,
   "metadata": {},
   "outputs": [
    {
     "data": {
      "text/plain": [
       "array([ 1., -1.,  1.,  1.,  1., -1., -1.,  1.,  1.,  1.,  1.,  1., -1.,\n",
       "       -1., -1.,  1.,  1.,  1.,  1.,  1., -1., -1.,  1., -1., -1., -1.,\n",
       "        1.,  1., -1., -1., -1., -1., -1.,  1., -1.,  1., -1., -1.,  1.,\n",
       "        1., -1., -1., -1., -1., -1., -1., -1., -1.,  1., -1., -1., -1.,\n",
       "        1., -1.,  1., -1., -1.,  1., -1., -1., -1.,  1., -1., -1.,  1.,\n",
       "        1., -1.,  1.,  1.,  1.,  1., -1.,  1., -1.,  1., -1., -1., -1.,\n",
       "       -1., -1.,  1.,  1.,  1., -1.,  1., -1., -1., -1.,  1., -1., -1.,\n",
       "       -1.,  1., -1., -1.,  1.,  1.,  1.,  1.,  1., -1., -1.,  1., -1.,\n",
       "        1., -1.,  1.,  1.,  1., -1.,  1.,  1.,  1.,  1., -1., -1.,  1.,\n",
       "        1.,  1.,  1.,  1.,  1.,  1.,  1.,  1.,  1.])"
      ]
     },
     "execution_count": 17,
     "metadata": {},
     "output_type": "execute_result"
    }
   ],
   "source": [
    "train_set['response']"
   ]
  },
  {
   "cell_type": "code",
   "execution_count": null,
   "metadata": {},
   "outputs": [],
   "source": [
    "## perturbaciones en A1: encoder to 0. to afectar la performance de A2"
   ]
  }
 ],
 "metadata": {
  "file_extension": ".py",
  "kernelspec": {
   "display_name": "Python 3",
   "language": "python",
   "name": "python3"
  },
  "language_info": {
   "codemirror_mode": {
    "name": "ipython",
    "version": 3
   },
   "file_extension": ".py",
   "mimetype": "text/x-python",
   "name": "python",
   "nbconvert_exporter": "python",
   "pygments_lexer": "ipython3",
   "version": "3.8.5"
  },
  "mimetype": "text/x-python",
  "name": "python",
  "npconvert_exporter": "python",
  "pygments_lexer": "ipython3",
  "version": 3,
  "widgets": {
   "application/vnd.jupyter.widget-state+json": {
    "state": {
     "05138219838c462f8155b9f6321fa60b": {
      "model_module": "@jupyter-widgets/base",
      "model_module_version": "1.2.0",
      "model_name": "LayoutModel",
      "state": {}
     },
     "0ac41c3dc6db4547a56351377a05d01f": {
      "model_module": "@jupyter-widgets/base",
      "model_module_version": "1.2.0",
      "model_name": "LayoutModel",
      "state": {}
     },
     "122e109eddef40d6ac92c3a7f9d4e10b": {
      "model_module": "@jupyter-widgets/controls",
      "model_module_version": "1.5.0",
      "model_name": "DropdownModel",
      "state": {
       "_options_labels": [
        "train",
        "val",
        "nogo",
        "noresp",
        "nono"
       ],
       "description": "trial_set",
       "index": 0,
       "layout": "IPY_MODEL_b1900c8ffe7c45bdb8b05b6f43945a1c",
       "style": "IPY_MODEL_ddfdfa09186b485b93d9697b6085c61b"
      }
     },
     "12b0d8f013ef405781b42722b8140db6": {
      "model_module": "@jupyter-widgets/output",
      "model_module_version": "1.0.0",
      "model_name": "OutputModel",
      "state": {
       "layout": "IPY_MODEL_8c825e86ea2a453baac14302e5847ecb",
       "outputs": [
        {
         "ename": "NameError",
         "evalue": "name 'sns' is not defined",
         "output_type": "error",
         "traceback": [
          "\u001b[0;31m---------------------------------------------------------------------------\u001b[0m",
          "\u001b[0;31mNameError\u001b[0m                                 Traceback (most recent call last)",
          "\u001b[0;32m~/anaconda3/envs/wombats/lib/python3.8/site-packages/ipywidgets/widgets/interaction.py\u001b[0m in \u001b[0;36mupdate\u001b[0;34m(self, *args)\u001b[0m\n\u001b[1;32m    254\u001b[0m                     \u001b[0mvalue\u001b[0m \u001b[0;34m=\u001b[0m \u001b[0mwidget\u001b[0m\u001b[0;34m.\u001b[0m\u001b[0mget_interact_value\u001b[0m\u001b[0;34m(\u001b[0m\u001b[0;34m)\u001b[0m\u001b[0;34m\u001b[0m\u001b[0;34m\u001b[0m\u001b[0m\n\u001b[1;32m    255\u001b[0m                     \u001b[0mself\u001b[0m\u001b[0;34m.\u001b[0m\u001b[0mkwargs\u001b[0m\u001b[0;34m[\u001b[0m\u001b[0mwidget\u001b[0m\u001b[0;34m.\u001b[0m\u001b[0m_kwarg\u001b[0m\u001b[0;34m]\u001b[0m \u001b[0;34m=\u001b[0m \u001b[0mvalue\u001b[0m\u001b[0;34m\u001b[0m\u001b[0;34m\u001b[0m\u001b[0m\n\u001b[0;32m--> 256\u001b[0;31m                 \u001b[0mself\u001b[0m\u001b[0;34m.\u001b[0m\u001b[0mresult\u001b[0m \u001b[0;34m=\u001b[0m \u001b[0mself\u001b[0m\u001b[0;34m.\u001b[0m\u001b[0mf\u001b[0m\u001b[0;34m(\u001b[0m\u001b[0;34m**\u001b[0m\u001b[0mself\u001b[0m\u001b[0;34m.\u001b[0m\u001b[0mkwargs\u001b[0m\u001b[0;34m)\u001b[0m\u001b[0;34m\u001b[0m\u001b[0;34m\u001b[0m\u001b[0m\n\u001b[0m\u001b[1;32m    257\u001b[0m                 \u001b[0mshow_inline_matplotlib_plots\u001b[0m\u001b[0;34m(\u001b[0m\u001b[0;34m)\u001b[0m\u001b[0;34m\u001b[0m\u001b[0;34m\u001b[0m\u001b[0m\n\u001b[1;32m    258\u001b[0m                 \u001b[0;32mif\u001b[0m \u001b[0mself\u001b[0m\u001b[0;34m.\u001b[0m\u001b[0mauto_display\u001b[0m \u001b[0;32mand\u001b[0m \u001b[0mself\u001b[0m\u001b[0;34m.\u001b[0m\u001b[0mresult\u001b[0m \u001b[0;32mis\u001b[0m \u001b[0;32mnot\u001b[0m \u001b[0;32mNone\u001b[0m\u001b[0;34m:\u001b[0m\u001b[0;34m\u001b[0m\u001b[0;34m\u001b[0m\u001b[0m\n",
          "\u001b[0;32m<ipython-input-37-99512fe00d43>\u001b[0m in \u001b[0;36mplot_perf\u001b[0;34m(trial_set)\u001b[0m\n\u001b[1;32m      9\u001b[0m \u001b[0;34m\u001b[0m\u001b[0m\n\u001b[1;32m     10\u001b[0m     \u001b[0mf\u001b[0m\u001b[0;34m,\u001b[0m \u001b[0max\u001b[0m \u001b[0;34m=\u001b[0m \u001b[0mplt\u001b[0m\u001b[0;34m.\u001b[0m\u001b[0msubplots\u001b[0m\u001b[0;34m(\u001b[0m\u001b[0;34m)\u001b[0m\u001b[0;34m\u001b[0m\u001b[0;34m\u001b[0m\u001b[0m\n\u001b[0;32m---> 11\u001b[0;31m     \u001b[0msns\u001b[0m\u001b[0;34m.\u001b[0m\u001b[0mboxplot\u001b[0m\u001b[0;34m(\u001b[0m\u001b[0mscores\u001b[0m\u001b[0;34m)\u001b[0m\u001b[0;34m\u001b[0m\u001b[0;34m\u001b[0m\u001b[0m\n\u001b[0m\u001b[1;32m     12\u001b[0m \u001b[0;31m#     for i, col in enumerate(columns):\u001b[0m\u001b[0;34m\u001b[0m\u001b[0;34m\u001b[0m\u001b[0;34m\u001b[0m\u001b[0m\n\u001b[1;32m     13\u001b[0m \u001b[0;31m#         ax.plot(scores[col], linewidth=2, label=columns_short[i])\u001b[0m\u001b[0;34m\u001b[0m\u001b[0;34m\u001b[0m\u001b[0;34m\u001b[0m\u001b[0m\n",
          "\u001b[0;31mNameError\u001b[0m: name 'sns' is not defined"
         ]
        }
       ]
      }
     },
     "15af824431024a67a439ce546b14464e": {
      "model_module": "@jupyter-widgets/base",
      "model_module_version": "1.2.0",
      "model_name": "LayoutModel",
      "state": {}
     },
     "1b3d5f0937db4805a487118d4fd3e818": {
      "model_module": "@jupyter-widgets/base",
      "model_module_version": "1.2.0",
      "model_name": "LayoutModel",
      "state": {}
     },
     "2241b51d6c4f45bf95dc767a18a58071": {
      "model_module": "@jupyter-widgets/output",
      "model_module_version": "1.0.0",
      "model_name": "OutputModel",
      "state": {
       "layout": "IPY_MODEL_bc23775a3979431888009dd00df91d9f",
       "outputs": [
        {
         "data": {
          "image/png": "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\n",
          "text/plain": "<Figure size 432x288 with 1 Axes>"
         },
         "metadata": {
          "needs_background": "light"
         },
         "output_type": "display_data"
        }
       ]
      }
     },
     "251daf0be8624a3e8fb502fd3d363e05": {
      "model_module": "@jupyter-widgets/base",
      "model_module_version": "1.2.0",
      "model_name": "LayoutModel",
      "state": {}
     },
     "292a40b0ce75439dbe133e1dba9aebc6": {
      "model_module": "@jupyter-widgets/controls",
      "model_module_version": "1.5.0",
      "model_name": "DescriptionStyleModel",
      "state": {
       "description_width": ""
      }
     },
     "2aca164e191c43859a4ecb69e5af9b0c": {
      "model_module": "@jupyter-widgets/output",
      "model_module_version": "1.0.0",
      "model_name": "OutputModel",
      "state": {
       "layout": "IPY_MODEL_4c4f1d7717164f4484fd9460cbd57098",
       "outputs": [
        {
         "data": {
          "image/png": "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\n",
          "text/plain": "<Figure size 432x288 with 1 Axes>"
         },
         "metadata": {},
         "output_type": "display_data"
        }
       ]
      }
     },
     "2dbe737eded64f73b35bdb9869c9b1cd": {
      "model_module": "@jupyter-widgets/base",
      "model_module_version": "1.2.0",
      "model_name": "LayoutModel",
      "state": {}
     },
     "3ecb070bd32e436aac59fe9953c65d61": {
      "model_module": "@jupyter-widgets/base",
      "model_module_version": "1.2.0",
      "model_name": "LayoutModel",
      "state": {}
     },
     "449f3683a0634ef6bc33ea7101885a6d": {
      "model_module": "@jupyter-widgets/base",
      "model_module_version": "1.2.0",
      "model_name": "LayoutModel",
      "state": {}
     },
     "4c4f1d7717164f4484fd9460cbd57098": {
      "model_module": "@jupyter-widgets/base",
      "model_module_version": "1.2.0",
      "model_name": "LayoutModel",
      "state": {}
     },
     "4e9d188c389e4fb8af3d2c385931ba53": {
      "model_module": "@jupyter-widgets/controls",
      "model_module_version": "1.5.0",
      "model_name": "VBoxModel",
      "state": {
       "_dom_classes": [
        "widget-interact"
       ],
       "children": [
        "IPY_MODEL_96c71bc0d2874a93998c993279fe49cd",
        "IPY_MODEL_d81668bdaefb4fe1aba3da6162db9971"
       ],
       "layout": "IPY_MODEL_449f3683a0634ef6bc33ea7101885a6d"
      }
     },
     "55e98b99ce824db98dd6e76fed14e7a9": {
      "model_module": "@jupyter-widgets/controls",
      "model_module_version": "1.5.0",
      "model_name": "DropdownModel",
      "state": {
       "_options_labels": [
        "train",
        "val",
        "nogo",
        "noresp",
        "nono"
       ],
       "description": "trial_set",
       "index": 0,
       "layout": "IPY_MODEL_d48ae909ad614ca1a671e57ad177c091",
       "style": "IPY_MODEL_efb7594dced4457da0eb42e841b2864a"
      }
     },
     "5adf5d55575c4696b5a2de8737c37d53": {
      "model_module": "@jupyter-widgets/output",
      "model_module_version": "1.0.0",
      "model_name": "OutputModel",
      "state": {
       "layout": "IPY_MODEL_be821185a30746399db9dba7862a0794",
       "outputs": [
        {
         "data": {
          "image/png": "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\n",
          "text/plain": "<Figure size 432x288 with 1 Axes>"
         },
         "metadata": {
          "needs_background": "light"
         },
         "output_type": "display_data"
        }
       ]
      }
     },
     "6ad222de5fb64e668636d6187d37b429": {
      "model_module": "@jupyter-widgets/base",
      "model_module_version": "1.2.0",
      "model_name": "LayoutModel",
      "state": {}
     },
     "6cac0c9cfbdb4c6885e8b70d21b03406": {
      "model_module": "@jupyter-widgets/base",
      "model_module_version": "1.2.0",
      "model_name": "LayoutModel",
      "state": {}
     },
     "6cf46c8ff13c480fb3187286391fdf2b": {
      "model_module": "@jupyter-widgets/output",
      "model_module_version": "1.0.0",
      "model_name": "OutputModel",
      "state": {
       "layout": "IPY_MODEL_ff37fde5b51a4ea7ae00bad373006bf7",
       "outputs": [
        {
         "data": {
          "image/png": "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\n",
          "text/plain": "<Figure size 432x288 with 1 Axes>"
         },
         "metadata": {
          "needs_background": "light"
         },
         "output_type": "display_data"
        }
       ]
      }
     },
     "732f6b612d944306981fe23f8cc01416": {
      "model_module": "@jupyter-widgets/controls",
      "model_module_version": "1.5.0",
      "model_name": "DescriptionStyleModel",
      "state": {
       "description_width": ""
      }
     },
     "7483141afbd74422a724d89dee56ef9f": {
      "model_module": "@jupyter-widgets/output",
      "model_module_version": "1.0.0",
      "model_name": "OutputModel",
      "state": {
       "layout": "IPY_MODEL_2dbe737eded64f73b35bdb9869c9b1cd",
       "outputs": [
        {
         "name": "stderr",
         "output_type": "stream",
         "text": "/home/alexgonzalez/anaconda3/envs/wombats/lib/python3.8/site-packages/seaborn/_decorators.py:36: FutureWarning: Pass the following variable as a keyword arg: x. From version 0.12, the only valid positional argument will be `data`, and passing other arguments without an explicit keyword will result in an error or misinterpretation.\n  warnings.warn(\n"
        },
        {
         "ename": "ValueError",
         "evalue": "The truth value of a Series is ambiguous. Use a.empty, a.bool(), a.item(), a.any() or a.all().",
         "output_type": "error",
         "traceback": [
          "\u001b[0;31m---------------------------------------------------------------------------\u001b[0m",
          "\u001b[0;31mValueError\u001b[0m                                Traceback (most recent call last)",
          "\u001b[0;32m~/anaconda3/envs/wombats/lib/python3.8/site-packages/ipywidgets/widgets/interaction.py\u001b[0m in \u001b[0;36mupdate\u001b[0;34m(self, *args)\u001b[0m\n\u001b[1;32m    254\u001b[0m                     \u001b[0mvalue\u001b[0m \u001b[0;34m=\u001b[0m \u001b[0mwidget\u001b[0m\u001b[0;34m.\u001b[0m\u001b[0mget_interact_value\u001b[0m\u001b[0;34m(\u001b[0m\u001b[0;34m)\u001b[0m\u001b[0;34m\u001b[0m\u001b[0;34m\u001b[0m\u001b[0m\n\u001b[1;32m    255\u001b[0m                     \u001b[0mself\u001b[0m\u001b[0;34m.\u001b[0m\u001b[0mkwargs\u001b[0m\u001b[0;34m[\u001b[0m\u001b[0mwidget\u001b[0m\u001b[0;34m.\u001b[0m\u001b[0m_kwarg\u001b[0m\u001b[0;34m]\u001b[0m \u001b[0;34m=\u001b[0m \u001b[0mvalue\u001b[0m\u001b[0;34m\u001b[0m\u001b[0;34m\u001b[0m\u001b[0m\n\u001b[0;32m--> 256\u001b[0;31m                 \u001b[0mself\u001b[0m\u001b[0;34m.\u001b[0m\u001b[0mresult\u001b[0m \u001b[0;34m=\u001b[0m \u001b[0mself\u001b[0m\u001b[0;34m.\u001b[0m\u001b[0mf\u001b[0m\u001b[0;34m(\u001b[0m\u001b[0;34m**\u001b[0m\u001b[0mself\u001b[0m\u001b[0;34m.\u001b[0m\u001b[0mkwargs\u001b[0m\u001b[0;34m)\u001b[0m\u001b[0;34m\u001b[0m\u001b[0;34m\u001b[0m\u001b[0m\n\u001b[0m\u001b[1;32m    257\u001b[0m                 \u001b[0mshow_inline_matplotlib_plots\u001b[0m\u001b[0;34m(\u001b[0m\u001b[0;34m)\u001b[0m\u001b[0;34m\u001b[0m\u001b[0;34m\u001b[0m\u001b[0m\n\u001b[1;32m    258\u001b[0m                 \u001b[0;32mif\u001b[0m \u001b[0mself\u001b[0m\u001b[0;34m.\u001b[0m\u001b[0mauto_display\u001b[0m \u001b[0;32mand\u001b[0m \u001b[0mself\u001b[0m\u001b[0;34m.\u001b[0m\u001b[0mresult\u001b[0m \u001b[0;32mis\u001b[0m \u001b[0;32mnot\u001b[0m \u001b[0;32mNone\u001b[0m\u001b[0;34m:\u001b[0m\u001b[0;34m\u001b[0m\u001b[0;34m\u001b[0m\u001b[0m\n",
          "\u001b[0;32m<ipython-input-39-99512fe00d43>\u001b[0m in \u001b[0;36mplot_perf\u001b[0;34m(trial_set)\u001b[0m\n\u001b[1;32m      9\u001b[0m \u001b[0;34m\u001b[0m\u001b[0m\n\u001b[1;32m     10\u001b[0m     \u001b[0mf\u001b[0m\u001b[0;34m,\u001b[0m \u001b[0max\u001b[0m \u001b[0;34m=\u001b[0m \u001b[0mplt\u001b[0m\u001b[0;34m.\u001b[0m\u001b[0msubplots\u001b[0m\u001b[0;34m(\u001b[0m\u001b[0;34m)\u001b[0m\u001b[0;34m\u001b[0m\u001b[0;34m\u001b[0m\u001b[0m\n\u001b[0;32m---> 11\u001b[0;31m     \u001b[0msns\u001b[0m\u001b[0;34m.\u001b[0m\u001b[0mboxplot\u001b[0m\u001b[0;34m(\u001b[0m\u001b[0mscores\u001b[0m\u001b[0;34m)\u001b[0m\u001b[0;34m\u001b[0m\u001b[0;34m\u001b[0m\u001b[0m\n\u001b[0m\u001b[1;32m     12\u001b[0m \u001b[0;31m#     for i, col in enumerate(columns):\u001b[0m\u001b[0;34m\u001b[0m\u001b[0;34m\u001b[0m\u001b[0;34m\u001b[0m\u001b[0m\n\u001b[1;32m     13\u001b[0m \u001b[0;31m#         ax.plot(scores[col], linewidth=2, label=columns_short[i])\u001b[0m\u001b[0;34m\u001b[0m\u001b[0;34m\u001b[0m\u001b[0;34m\u001b[0m\u001b[0m\n",
          "\u001b[0;32m~/anaconda3/envs/wombats/lib/python3.8/site-packages/seaborn/_decorators.py\u001b[0m in \u001b[0;36minner_f\u001b[0;34m(*args, **kwargs)\u001b[0m\n\u001b[1;32m     44\u001b[0m             )\n\u001b[1;32m     45\u001b[0m         \u001b[0mkwargs\u001b[0m\u001b[0;34m.\u001b[0m\u001b[0mupdate\u001b[0m\u001b[0;34m(\u001b[0m\u001b[0;34m{\u001b[0m\u001b[0mk\u001b[0m\u001b[0;34m:\u001b[0m \u001b[0marg\u001b[0m \u001b[0;32mfor\u001b[0m \u001b[0mk\u001b[0m\u001b[0;34m,\u001b[0m \u001b[0marg\u001b[0m \u001b[0;32min\u001b[0m \u001b[0mzip\u001b[0m\u001b[0;34m(\u001b[0m\u001b[0msig\u001b[0m\u001b[0;34m.\u001b[0m\u001b[0mparameters\u001b[0m\u001b[0;34m,\u001b[0m \u001b[0margs\u001b[0m\u001b[0;34m)\u001b[0m\u001b[0;34m}\u001b[0m\u001b[0;34m)\u001b[0m\u001b[0;34m\u001b[0m\u001b[0;34m\u001b[0m\u001b[0m\n\u001b[0;32m---> 46\u001b[0;31m         \u001b[0;32mreturn\u001b[0m \u001b[0mf\u001b[0m\u001b[0;34m(\u001b[0m\u001b[0;34m**\u001b[0m\u001b[0mkwargs\u001b[0m\u001b[0;34m)\u001b[0m\u001b[0;34m\u001b[0m\u001b[0;34m\u001b[0m\u001b[0m\n\u001b[0m\u001b[1;32m     47\u001b[0m     \u001b[0;32mreturn\u001b[0m \u001b[0minner_f\u001b[0m\u001b[0;34m\u001b[0m\u001b[0;34m\u001b[0m\u001b[0m\n\u001b[1;32m     48\u001b[0m \u001b[0;34m\u001b[0m\u001b[0m\n",
          "\u001b[0;32m~/anaconda3/envs/wombats/lib/python3.8/site-packages/seaborn/categorical.py\u001b[0m in \u001b[0;36mboxplot\u001b[0;34m(x, y, hue, data, order, hue_order, orient, color, palette, saturation, width, dodge, fliersize, linewidth, whis, ax, **kwargs)\u001b[0m\n\u001b[1;32m   2228\u001b[0m ):\n\u001b[1;32m   2229\u001b[0m \u001b[0;34m\u001b[0m\u001b[0m\n\u001b[0;32m-> 2230\u001b[0;31m     plotter = _BoxPlotter(x, y, hue, data, order, hue_order,\n\u001b[0m\u001b[1;32m   2231\u001b[0m                           \u001b[0morient\u001b[0m\u001b[0;34m,\u001b[0m \u001b[0mcolor\u001b[0m\u001b[0;34m,\u001b[0m \u001b[0mpalette\u001b[0m\u001b[0;34m,\u001b[0m \u001b[0msaturation\u001b[0m\u001b[0;34m,\u001b[0m\u001b[0;34m\u001b[0m\u001b[0;34m\u001b[0m\u001b[0m\n\u001b[1;32m   2232\u001b[0m                           width, dodge, fliersize, linewidth)\n",
          "\u001b[0;32m~/anaconda3/envs/wombats/lib/python3.8/site-packages/seaborn/categorical.py\u001b[0m in \u001b[0;36m__init__\u001b[0;34m(self, x, y, hue, data, order, hue_order, orient, color, palette, saturation, width, dodge, fliersize, linewidth)\u001b[0m\n\u001b[1;32m    404\u001b[0m                  width, dodge, fliersize, linewidth):\n\u001b[1;32m    405\u001b[0m \u001b[0;34m\u001b[0m\u001b[0m\n\u001b[0;32m--> 406\u001b[0;31m         \u001b[0mself\u001b[0m\u001b[0;34m.\u001b[0m\u001b[0mestablish_variables\u001b[0m\u001b[0;34m(\u001b[0m\u001b[0mx\u001b[0m\u001b[0;34m,\u001b[0m \u001b[0my\u001b[0m\u001b[0;34m,\u001b[0m \u001b[0mhue\u001b[0m\u001b[0;34m,\u001b[0m \u001b[0mdata\u001b[0m\u001b[0;34m,\u001b[0m \u001b[0morient\u001b[0m\u001b[0;34m,\u001b[0m \u001b[0morder\u001b[0m\u001b[0;34m,\u001b[0m \u001b[0mhue_order\u001b[0m\u001b[0;34m)\u001b[0m\u001b[0;34m\u001b[0m\u001b[0;34m\u001b[0m\u001b[0m\n\u001b[0m\u001b[1;32m    407\u001b[0m         \u001b[0mself\u001b[0m\u001b[0;34m.\u001b[0m\u001b[0mestablish_colors\u001b[0m\u001b[0;34m(\u001b[0m\u001b[0mcolor\u001b[0m\u001b[0;34m,\u001b[0m \u001b[0mpalette\u001b[0m\u001b[0;34m,\u001b[0m \u001b[0msaturation\u001b[0m\u001b[0;34m)\u001b[0m\u001b[0;34m\u001b[0m\u001b[0;34m\u001b[0m\u001b[0m\n\u001b[1;32m    408\u001b[0m \u001b[0;34m\u001b[0m\u001b[0m\n",
          "\u001b[0;32m~/anaconda3/envs/wombats/lib/python3.8/site-packages/seaborn/categorical.py\u001b[0m in \u001b[0;36mestablish_variables\u001b[0;34m(self, x, y, hue, data, orient, order, hue_order, units)\u001b[0m\n\u001b[1;32m    154\u001b[0m \u001b[0;34m\u001b[0m\u001b[0m\n\u001b[1;32m    155\u001b[0m             \u001b[0;31m# Figure out the plotting orientation\u001b[0m\u001b[0;34m\u001b[0m\u001b[0;34m\u001b[0m\u001b[0;34m\u001b[0m\u001b[0m\n\u001b[0;32m--> 156\u001b[0;31m             orient = infer_orient(\n\u001b[0m\u001b[1;32m    157\u001b[0m                 \u001b[0mx\u001b[0m\u001b[0;34m,\u001b[0m \u001b[0my\u001b[0m\u001b[0;34m,\u001b[0m \u001b[0morient\u001b[0m\u001b[0;34m,\u001b[0m \u001b[0mrequire_numeric\u001b[0m\u001b[0;34m=\u001b[0m\u001b[0mself\u001b[0m\u001b[0;34m.\u001b[0m\u001b[0mrequire_numeric\u001b[0m\u001b[0;34m\u001b[0m\u001b[0;34m\u001b[0m\u001b[0m\n\u001b[1;32m    158\u001b[0m             )\n",
          "\u001b[0;32m~/anaconda3/envs/wombats/lib/python3.8/site-packages/seaborn/_core.py\u001b[0m in \u001b[0;36minfer_orient\u001b[0;34m(x, y, orient, require_numeric)\u001b[0m\n\u001b[1;32m   1286\u001b[0m     \"\"\"\n\u001b[1;32m   1287\u001b[0m \u001b[0;34m\u001b[0m\u001b[0m\n\u001b[0;32m-> 1288\u001b[0;31m     \u001b[0mx_type\u001b[0m \u001b[0;34m=\u001b[0m \u001b[0;32mNone\u001b[0m \u001b[0;32mif\u001b[0m \u001b[0mx\u001b[0m \u001b[0;32mis\u001b[0m \u001b[0;32mNone\u001b[0m \u001b[0;32melse\u001b[0m \u001b[0mvariable_type\u001b[0m\u001b[0;34m(\u001b[0m\u001b[0mx\u001b[0m\u001b[0;34m)\u001b[0m\u001b[0;34m\u001b[0m\u001b[0;34m\u001b[0m\u001b[0m\n\u001b[0m\u001b[1;32m   1289\u001b[0m     \u001b[0my_type\u001b[0m \u001b[0;34m=\u001b[0m \u001b[0;32mNone\u001b[0m \u001b[0;32mif\u001b[0m \u001b[0my\u001b[0m \u001b[0;32mis\u001b[0m \u001b[0;32mNone\u001b[0m \u001b[0;32melse\u001b[0m \u001b[0mvariable_type\u001b[0m\u001b[0;34m(\u001b[0m\u001b[0my\u001b[0m\u001b[0;34m)\u001b[0m\u001b[0;34m\u001b[0m\u001b[0;34m\u001b[0m\u001b[0m\n\u001b[1;32m   1290\u001b[0m \u001b[0;34m\u001b[0m\u001b[0m\n",
          "\u001b[0;32m~/anaconda3/envs/wombats/lib/python3.8/site-packages/seaborn/_core.py\u001b[0m in \u001b[0;36mvariable_type\u001b[0;34m(vector, boolean_type)\u001b[0m\n\u001b[1;32m   1201\u001b[0m     \"\"\"\n\u001b[1;32m   1202\u001b[0m     \u001b[0;31m# Special-case all-na data, which is always \"numeric\"\u001b[0m\u001b[0;34m\u001b[0m\u001b[0;34m\u001b[0m\u001b[0;34m\u001b[0m\u001b[0m\n\u001b[0;32m-> 1203\u001b[0;31m     \u001b[0;32mif\u001b[0m \u001b[0mpd\u001b[0m\u001b[0;34m.\u001b[0m\u001b[0misna\u001b[0m\u001b[0;34m(\u001b[0m\u001b[0mvector\u001b[0m\u001b[0;34m)\u001b[0m\u001b[0;34m.\u001b[0m\u001b[0mall\u001b[0m\u001b[0;34m(\u001b[0m\u001b[0;34m)\u001b[0m\u001b[0;34m:\u001b[0m\u001b[0;34m\u001b[0m\u001b[0;34m\u001b[0m\u001b[0m\n\u001b[0m\u001b[1;32m   1204\u001b[0m         \u001b[0;32mreturn\u001b[0m \u001b[0;34m\"numeric\"\u001b[0m\u001b[0;34m\u001b[0m\u001b[0;34m\u001b[0m\u001b[0m\n\u001b[1;32m   1205\u001b[0m \u001b[0;34m\u001b[0m\u001b[0m\n",
          "\u001b[0;32m~/anaconda3/envs/wombats/lib/python3.8/site-packages/pandas/core/generic.py\u001b[0m in \u001b[0;36m__nonzero__\u001b[0;34m(self)\u001b[0m\n\u001b[1;32m   1327\u001b[0m \u001b[0;34m\u001b[0m\u001b[0m\n\u001b[1;32m   1328\u001b[0m     \u001b[0;32mdef\u001b[0m \u001b[0m__nonzero__\u001b[0m\u001b[0;34m(\u001b[0m\u001b[0mself\u001b[0m\u001b[0;34m)\u001b[0m\u001b[0;34m:\u001b[0m\u001b[0;34m\u001b[0m\u001b[0;34m\u001b[0m\u001b[0m\n\u001b[0;32m-> 1329\u001b[0;31m         raise ValueError(\n\u001b[0m\u001b[1;32m   1330\u001b[0m             \u001b[0;34mf\"The truth value of a {type(self).__name__} is ambiguous. \"\u001b[0m\u001b[0;34m\u001b[0m\u001b[0;34m\u001b[0m\u001b[0m\n\u001b[1;32m   1331\u001b[0m             \u001b[0;34m\"Use a.empty, a.bool(), a.item(), a.any() or a.all().\"\u001b[0m\u001b[0;34m\u001b[0m\u001b[0;34m\u001b[0m\u001b[0m\n",
          "\u001b[0;31mValueError\u001b[0m: The truth value of a Series is ambiguous. Use a.empty, a.bool(), a.item(), a.any() or a.all()."
         ]
        }
       ]
      }
     },
     "7c043ec194b4467383693621d24e7d59": {
      "model_module": "@jupyter-widgets/base",
      "model_module_version": "1.2.0",
      "model_name": "LayoutModel",
      "state": {}
     },
     "7ffaf0645a3841d19f22a4a0f4666f53": {
      "model_module": "@jupyter-widgets/controls",
      "model_module_version": "1.5.0",
      "model_name": "VBoxModel",
      "state": {
       "_dom_classes": [
        "widget-interact"
       ],
       "children": [
        "IPY_MODEL_dd7f49f5554046d2abc0dcbce29e2e04",
        "IPY_MODEL_7483141afbd74422a724d89dee56ef9f"
       ],
       "layout": "IPY_MODEL_251daf0be8624a3e8fb502fd3d363e05"
      }
     },
     "8196e96ba60e47b583d8f5945c2c28e1": {
      "model_module": "@jupyter-widgets/base",
      "model_module_version": "1.2.0",
      "model_name": "LayoutModel",
      "state": {}
     },
     "8c825e86ea2a453baac14302e5847ecb": {
      "model_module": "@jupyter-widgets/base",
      "model_module_version": "1.2.0",
      "model_name": "LayoutModel",
      "state": {}
     },
     "928a35915ce34adea2502634b1fcbe2f": {
      "model_module": "@jupyter-widgets/base",
      "model_module_version": "1.2.0",
      "model_name": "LayoutModel",
      "state": {}
     },
     "96c71bc0d2874a93998c993279fe49cd": {
      "model_module": "@jupyter-widgets/controls",
      "model_module_version": "1.5.0",
      "model_name": "DropdownModel",
      "state": {
       "_options_labels": [
        "train",
        "val",
        "nogo",
        "noresp",
        "nono"
       ],
       "description": "trial_set",
       "index": 0,
       "layout": "IPY_MODEL_928a35915ce34adea2502634b1fcbe2f",
       "style": "IPY_MODEL_e39a505852dc4831a17e7b214f20ef72"
      }
     },
     "977b30e91c87466eb9ce448e2a4c5ec8": {
      "model_module": "@jupyter-widgets/controls",
      "model_module_version": "1.5.0",
      "model_name": "DescriptionStyleModel",
      "state": {
       "description_width": ""
      }
     },
     "9eae36ba7ecb498e86fe86895ae6a52e": {
      "model_module": "@jupyter-widgets/base",
      "model_module_version": "1.2.0",
      "model_name": "LayoutModel",
      "state": {}
     },
     "a55740f3fb5e41c0bbdd19f3a300b7f1": {
      "model_module": "@jupyter-widgets/controls",
      "model_module_version": "1.5.0",
      "model_name": "VBoxModel",
      "state": {
       "_dom_classes": [
        "widget-interact"
       ],
       "children": [
        "IPY_MODEL_55e98b99ce824db98dd6e76fed14e7a9",
        "IPY_MODEL_2aca164e191c43859a4ecb69e5af9b0c"
       ],
       "layout": "IPY_MODEL_dc686d99d19f4e25a4c42c96108ab5ca"
      }
     },
     "a66b98527c0e43baade7589292decede": {
      "model_module": "@jupyter-widgets/controls",
      "model_module_version": "1.5.0",
      "model_name": "DropdownModel",
      "state": {
       "_options_labels": [
        "train",
        "val",
        "nogo",
        "noresp",
        "nono"
       ],
       "description": "trial_set",
       "index": 0,
       "layout": "IPY_MODEL_6ad222de5fb64e668636d6187d37b429",
       "style": "IPY_MODEL_cffa6f95602049099235cab69ba536fe"
      }
     },
     "add5150c127a4440917a9512f5a3ccbc": {
      "model_module": "@jupyter-widgets/base",
      "model_module_version": "1.2.0",
      "model_name": "LayoutModel",
      "state": {}
     },
     "aed204b2404a4e7291e067ef77ea85b5": {
      "model_module": "@jupyter-widgets/controls",
      "model_module_version": "1.5.0",
      "model_name": "VBoxModel",
      "state": {
       "_dom_classes": [
        "widget-interact"
       ],
       "children": [
        "IPY_MODEL_ca62574ebfa542dbb4eedbb0b47c5270",
        "IPY_MODEL_d136002d69da4dc385670c0708b55272"
       ],
       "layout": "IPY_MODEL_b65cfbb0d37b4d1d9771377d49aab84a"
      }
     },
     "b1900c8ffe7c45bdb8b05b6f43945a1c": {
      "model_module": "@jupyter-widgets/base",
      "model_module_version": "1.2.0",
      "model_name": "LayoutModel",
      "state": {}
     },
     "b26f2c8ca6fc4f96a0f67238e282fe98": {
      "model_module": "@jupyter-widgets/controls",
      "model_module_version": "1.5.0",
      "model_name": "VBoxModel",
      "state": {
       "_dom_classes": [
        "widget-interact"
       ],
       "children": [
        "IPY_MODEL_122e109eddef40d6ac92c3a7f9d4e10b",
        "IPY_MODEL_eb20ed8727534f798703e320a6129821"
       ],
       "layout": "IPY_MODEL_fd71e827ecb64170b080e1c865d142cd"
      }
     },
     "b65cfbb0d37b4d1d9771377d49aab84a": {
      "model_module": "@jupyter-widgets/base",
      "model_module_version": "1.2.0",
      "model_name": "LayoutModel",
      "state": {}
     },
     "bc23775a3979431888009dd00df91d9f": {
      "model_module": "@jupyter-widgets/base",
      "model_module_version": "1.2.0",
      "model_name": "LayoutModel",
      "state": {}
     },
     "be821185a30746399db9dba7862a0794": {
      "model_module": "@jupyter-widgets/base",
      "model_module_version": "1.2.0",
      "model_name": "LayoutModel",
      "state": {}
     },
     "c756c3d17d0748fb9939a0d12e081573": {
      "model_module": "@jupyter-widgets/controls",
      "model_module_version": "1.5.0",
      "model_name": "DropdownModel",
      "state": {
       "_options_labels": [
        "train",
        "val",
        "nogo",
        "noresp",
        "nono"
       ],
       "description": "trial_set",
       "index": 1,
       "layout": "IPY_MODEL_fa5f6eb4ff2a455fa9914b53f589cd62",
       "style": "IPY_MODEL_292a40b0ce75439dbe133e1dba9aebc6"
      }
     },
     "c9c41ea7392744898f77175a246c2dbb": {
      "model_module": "@jupyter-widgets/controls",
      "model_module_version": "1.5.0",
      "model_name": "VBoxModel",
      "state": {
       "_dom_classes": [
        "widget-interact"
       ],
       "children": [
        "IPY_MODEL_a66b98527c0e43baade7589292decede",
        "IPY_MODEL_6cf46c8ff13c480fb3187286391fdf2b"
       ],
       "layout": "IPY_MODEL_ec9b1e93321a4f56942d764ff9752e26"
      }
     },
     "ca62574ebfa542dbb4eedbb0b47c5270": {
      "model_module": "@jupyter-widgets/controls",
      "model_module_version": "1.5.0",
      "model_name": "DropdownModel",
      "state": {
       "_options_labels": [
        "train",
        "val",
        "nogo",
        "noresp",
        "nono"
       ],
       "description": "trial_set",
       "index": 0,
       "layout": "IPY_MODEL_05138219838c462f8155b9f6321fa60b",
       "style": "IPY_MODEL_732f6b612d944306981fe23f8cc01416"
      }
     },
     "cb924ab317224f69ba41f01174f79e3d": {
      "model_module": "@jupyter-widgets/controls",
      "model_module_version": "1.5.0",
      "model_name": "VBoxModel",
      "state": {
       "_dom_classes": [
        "widget-interact"
       ],
       "children": [
        "IPY_MODEL_c756c3d17d0748fb9939a0d12e081573",
        "IPY_MODEL_2241b51d6c4f45bf95dc767a18a58071"
       ],
       "layout": "IPY_MODEL_6cac0c9cfbdb4c6885e8b70d21b03406"
      }
     },
     "cd055838371e463b86ced3040879da58": {
      "model_module": "@jupyter-widgets/controls",
      "model_module_version": "1.5.0",
      "model_name": "VBoxModel",
      "state": {
       "_dom_classes": [
        "widget-interact"
       ],
       "children": [
        "IPY_MODEL_ee037e6245be4310b24ad6b2a1a6ba62",
        "IPY_MODEL_5adf5d55575c4696b5a2de8737c37d53"
       ],
       "layout": "IPY_MODEL_9eae36ba7ecb498e86fe86895ae6a52e"
      }
     },
     "cffa6f95602049099235cab69ba536fe": {
      "model_module": "@jupyter-widgets/controls",
      "model_module_version": "1.5.0",
      "model_name": "DescriptionStyleModel",
      "state": {
       "description_width": ""
      }
     },
     "d136002d69da4dc385670c0708b55272": {
      "model_module": "@jupyter-widgets/output",
      "model_module_version": "1.0.0",
      "model_name": "OutputModel",
      "state": {
       "layout": "IPY_MODEL_0ac41c3dc6db4547a56351377a05d01f",
       "outputs": [
        {
         "data": {
          "image/png": "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\n",
          "text/plain": "<Figure size 432x288 with 1 Axes>"
         },
         "metadata": {
          "needs_background": "light"
         },
         "output_type": "display_data"
        }
       ]
      }
     },
     "d48ae909ad614ca1a671e57ad177c091": {
      "model_module": "@jupyter-widgets/base",
      "model_module_version": "1.2.0",
      "model_name": "LayoutModel",
      "state": {}
     },
     "d62b2a57f85b4892b2b311691a97a9ec": {
      "model_module": "@jupyter-widgets/controls",
      "model_module_version": "1.5.0",
      "model_name": "DescriptionStyleModel",
      "state": {
       "description_width": ""
      }
     },
     "d6c2b9176a88489481154bb6bad3cff2": {
      "model_module": "@jupyter-widgets/controls",
      "model_module_version": "1.5.0",
      "model_name": "DropdownModel",
      "state": {
       "_options_labels": [
        "train",
        "val",
        "nogo",
        "noresp",
        "nono"
       ],
       "description": "trial_set",
       "index": 0,
       "layout": "IPY_MODEL_add5150c127a4440917a9512f5a3ccbc",
       "style": "IPY_MODEL_977b30e91c87466eb9ce448e2a4c5ec8"
      }
     },
     "d81668bdaefb4fe1aba3da6162db9971": {
      "model_module": "@jupyter-widgets/output",
      "model_module_version": "1.0.0",
      "model_name": "OutputModel",
      "state": {
       "layout": "IPY_MODEL_15af824431024a67a439ce546b14464e",
       "outputs": [
        {
         "data": {
          "image/png": "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\n",
          "text/plain": "<Figure size 432x288 with 1 Axes>"
         },
         "metadata": {
          "needs_background": "light"
         },
         "output_type": "display_data"
        }
       ]
      }
     },
     "d86792b1da024ed0a89d31e71f336b4b": {
      "model_module": "@jupyter-widgets/controls",
      "model_module_version": "1.5.0",
      "model_name": "VBoxModel",
      "state": {
       "_dom_classes": [
        "widget-interact"
       ],
       "children": [
        "IPY_MODEL_d6c2b9176a88489481154bb6bad3cff2",
        "IPY_MODEL_12b0d8f013ef405781b42722b8140db6"
       ],
       "layout": "IPY_MODEL_7c043ec194b4467383693621d24e7d59"
      }
     },
     "dc686d99d19f4e25a4c42c96108ab5ca": {
      "model_module": "@jupyter-widgets/base",
      "model_module_version": "1.2.0",
      "model_name": "LayoutModel",
      "state": {}
     },
     "dd7f49f5554046d2abc0dcbce29e2e04": {
      "model_module": "@jupyter-widgets/controls",
      "model_module_version": "1.5.0",
      "model_name": "DropdownModel",
      "state": {
       "_options_labels": [
        "train",
        "val",
        "nogo",
        "noresp",
        "nono"
       ],
       "description": "trial_set",
       "index": 0,
       "layout": "IPY_MODEL_3ecb070bd32e436aac59fe9953c65d61",
       "style": "IPY_MODEL_fc8d8c015f0146fca7d9dae12af41c6e"
      }
     },
     "ddfdfa09186b485b93d9697b6085c61b": {
      "model_module": "@jupyter-widgets/controls",
      "model_module_version": "1.5.0",
      "model_name": "DescriptionStyleModel",
      "state": {
       "description_width": ""
      }
     },
     "e39a505852dc4831a17e7b214f20ef72": {
      "model_module": "@jupyter-widgets/controls",
      "model_module_version": "1.5.0",
      "model_name": "DescriptionStyleModel",
      "state": {
       "description_width": ""
      }
     },
     "eb20ed8727534f798703e320a6129821": {
      "model_module": "@jupyter-widgets/output",
      "model_module_version": "1.0.0",
      "model_name": "OutputModel",
      "state": {
       "layout": "IPY_MODEL_1b3d5f0937db4805a487118d4fd3e818",
       "outputs": [
        {
         "data": {
          "image/png": "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\n",
          "text/plain": "<Figure size 432x288 with 1 Axes>"
         },
         "metadata": {
          "needs_background": "light"
         },
         "output_type": "display_data"
        }
       ]
      }
     },
     "ec9b1e93321a4f56942d764ff9752e26": {
      "model_module": "@jupyter-widgets/base",
      "model_module_version": "1.2.0",
      "model_name": "LayoutModel",
      "state": {}
     },
     "ee037e6245be4310b24ad6b2a1a6ba62": {
      "model_module": "@jupyter-widgets/controls",
      "model_module_version": "1.5.0",
      "model_name": "DropdownModel",
      "state": {
       "_options_labels": [
        "train",
        "val",
        "nogo",
        "noresp",
        "nono"
       ],
       "description": "trial_set",
       "index": 0,
       "layout": "IPY_MODEL_8196e96ba60e47b583d8f5945c2c28e1",
       "style": "IPY_MODEL_d62b2a57f85b4892b2b311691a97a9ec"
      }
     },
     "efb7594dced4457da0eb42e841b2864a": {
      "model_module": "@jupyter-widgets/controls",
      "model_module_version": "1.5.0",
      "model_name": "DescriptionStyleModel",
      "state": {
       "description_width": ""
      }
     },
     "fa5f6eb4ff2a455fa9914b53f589cd62": {
      "model_module": "@jupyter-widgets/base",
      "model_module_version": "1.2.0",
      "model_name": "LayoutModel",
      "state": {}
     },
     "fc8d8c015f0146fca7d9dae12af41c6e": {
      "model_module": "@jupyter-widgets/controls",
      "model_module_version": "1.5.0",
      "model_name": "DescriptionStyleModel",
      "state": {
       "description_width": ""
      }
     },
     "fd71e827ecb64170b080e1c865d142cd": {
      "model_module": "@jupyter-widgets/base",
      "model_module_version": "1.2.0",
      "model_name": "LayoutModel",
      "state": {}
     },
     "ff37fde5b51a4ea7ae00bad373006bf7": {
      "model_module": "@jupyter-widgets/base",
      "model_module_version": "1.2.0",
      "model_name": "LayoutModel",
      "state": {}
     }
    },
    "version_major": 2,
    "version_minor": 0
   }
  }
 },
 "nbformat": 4,
 "nbformat_minor": 4
}
