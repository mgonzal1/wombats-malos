{
 "cells": [
  {
   "cell_type": "code",
   "execution_count": 1,
   "metadata": {},
   "outputs": [],
   "source": [
    "%matplotlib inline\n",
    "import numpy as np\n",
    "import pandas as pd\n",
    "\n",
    "from pathlib import Path\n",
    "from matplotlib import pyplot as plt\n",
    "import seaborn as sns\n",
    "import ipywidgets as widgets\n",
    "from ipywidgets import interact, interactive, fixed, interact_manual\n",
    "from sklearn.model_selection import cross_val_score"
   ]
  },
  {
   "cell_type": "code",
   "execution_count": 3,
   "metadata": {},
   "outputs": [],
   "source": [
    "from importlib import reload\n",
    "\n",
    "from wombats import utils\n",
    "from wombats import metrics\n",
    "from wombats import models\n",
    "from wombats import perturbation\n",
    "import random\n",
    "# if changes to the files run this to reload the moduls\n",
    "utils = reload(utils)\n",
    "metrics = reload(metrics)\n",
    "models = reload(models)"
   ]
  },
  {
   "cell_type": "code",
   "execution_count": 4,
   "metadata": {},
   "outputs": [],
   "source": [
    "data_file = Path('../data/steinmetz/steinmetz_all.npy')\n",
    "data_folder = Path('../data/steinmetz/')\n",
    "if not data_file.exists():\n",
    "    data = utils.load_steinmentz()\n",
    "    data_folder.mkdir(parents=True)\n",
    "    data_file.touch()\n",
    "    np.save(data_file, data)\n",
    "else:\n",
    "    data = np.load(data_file, allow_pickle=True)"
   ]
  },
  {
   "cell_type": "code",
   "execution_count": 72,
   "metadata": {},
   "outputs": [],
   "source": [
    "utils = reload(utils)\n",
    "\n",
    "# simulation parameters\n",
    "time_windows = { 1: [0, 0.5] }\n",
    "num_folds = 5\n",
    "region1_list = ['visual']\n",
    "region2_list = ['motor']\n",
    "fit_data_splits = ['train', 'test']\n",
    "\n",
    "data_split_types = ['train', 'test', 'nono', 'nogo', 'noresp']\n",
    "comparisons = ['TvS', 'TvM', 'SvM']\n",
    "pert_types = ['Ablation', 'WN']\n",
    "pert_pcts = [0, 0.25, 0.5, 0.75]\n",
    "matrices = ['A1', 'A2', 'A3' ]\n",
    "\n",
    "# output matrix\n",
    "perf_df_all = pd.DataFrame(columns=['region1', 'region2', 'session_num', 'time_bin', 'cross_val_fold', 'data_split', 'comparison', 'pert_type', 'pert_pct', 'pert_matrix', 'score'])\n",
    "\n",
    "fit_perf_df_all = pd.DataFrame(columns=['region1', 'region2', 'session_num', 'time_bin', 'cross_val_fold', 'data_split', 'matrix', 'score'])\n",
    "\n",
    "# specific data selection, this can be a for loop\n",
    "time_bin = 1\n",
    "region1_num = 0\n",
    "region2_num = 0\n",
    "\n",
    "region1 = region1_list[0]\n",
    "region2 = region2_list[0]\n",
    "\n",
    "\n",
    "# data\n",
    "dataset = utils.DataSet(data, region1=region1, region2=region2, analysis_time_window=time_windows[time_bin])\n",
    "\n",
    "# pre-allocate outputs\n",
    "n_sessions = dataset.n_valid_sessions\n",
    "\n",
    "n_rows = n_sessions * num_folds * len(data_split_types) * len(comparisons) * len(pert_types) * len(pert_pcts) * len(matrices)\n",
    "\n",
    "perf_df = pd.DataFrame(index=range(n_rows), columns=['region1', 'region2', 'session_num', 'time_bin', 'cross_val_fold', 'data_split', 'comparison', 'pert_type', 'pert_pct', 'pert_matrix', 'score'])\n",
    "\n",
    "n_rows = n_sessions * num_folds * len(fit_data_splits) * len(matrices)\n",
    "fit_perf_df = pd.DataFrame(index=range(n_rows), columns=['region1', 'region2', 'session_num', 'time_bin', 'cross_val_fold', 'data_split', 'matrix', 'score'])"
   ]
  },
  {
   "cell_type": "code",
   "execution_count": 134,
   "metadata": {},
   "outputs": [],
   "source": [
    "def train_models(session_data, trials):\n",
    "    stim, region1_data, region2_data, response = get_trial_data(session_data, trials)\n",
    "\n",
    "    # train the model\n",
    "    A1 = models.get_a1(stim, region1_data)\n",
    "    A2 = models.get_a2(stim@A1, region2_data)  ## input is encoder output\n",
    "    A3 = models.get_a3(region2_data, response)\n",
    "    \n",
    "    A = np.array([A1, A2, A3], dtype=object)\n",
    "    return A\n",
    "\n",
    "\n",
    "def get_fit_r2(in_data, fit_matrix, out_data):\n",
    "    out_data_hat = (in_data@fit_matrix).T\n",
    "    r2 = metrics.r2(np.squeeze(out_data), out_data_hat)\n",
    "    return r2.mean() \n",
    "\n",
    "def get_trial_data(session_data, trials):\n",
    "    stim = session_data['stim'][trials]\n",
    "    region1_data = session_data['fr']['region1'][:, trials]\n",
    "    region2_data = session_data['fr']['region2'][:, trials]\n",
    "    response = session_data['response'][trials]>0\n",
    "    \n",
    "    return stim, region1_data, region2_data, response    \n",
    "\n",
    "\n",
    "def get_fit_perfs(session_data, A, trials):\n",
    "    stim, region1_data, region2_data, response = get_trial_data(session_data, trials)\n",
    " \n",
    "    R2 = np.zeros(3)\n",
    "    R2[0] = get_fit_r2(stim, A[0], region1_data)\n",
    "    R2[1] = get_fit_r2(stim@A[0], A[1], region2_data)\n",
    "    \n",
    "    decoder_out = np.squeeze(region2_data).T@A[2]\n",
    "    R2[2] = metrics.binarry_acc(decoder_out>0, response)\n",
    "    \n",
    "    return R2\n",
    "\n",
    "\n"
   ]
  },
  {
   "cell_type": "code",
   "execution_count": 136,
   "metadata": {},
   "outputs": [
    {
     "name": "stderr",
     "output_type": "stream",
     "text": [
      "/home/alexgonzalez/Documents/wombats/wombats/metrics.py:18: RuntimeWarning: invalid value encountered in true_divide\n",
      "  return 1 - ((y - y_hat) ** 2).sum(axis=1) / ((y - y_bar) ** 2).sum(axis=1)\n",
      "/home/alexgonzalez/Documents/wombats/wombats/metrics.py:18: RuntimeWarning: divide by zero encountered in true_divide\n",
      "  return 1 - ((y - y_hat) ** 2).sum(axis=1) / ((y - y_bar) ** 2).sum(axis=1)\n",
      "/home/alexgonzalez/Documents/wombats/wombats/metrics.py:18: RuntimeWarning: invalid value encountered in true_divide\n",
      "  return 1 - ((y - y_hat) ** 2).sum(axis=1) / ((y - y_bar) ** 2).sum(axis=1)\n",
      "/home/alexgonzalez/Documents/wombats/wombats/metrics.py:18: RuntimeWarning: divide by zero encountered in true_divide\n",
      "  return 1 - ((y - y_hat) ** 2).sum(axis=1) / ((y - y_bar) ** 2).sum(axis=1)\n",
      "/home/alexgonzalez/Documents/wombats/wombats/metrics.py:18: RuntimeWarning: invalid value encountered in true_divide\n",
      "  return 1 - ((y - y_hat) ** 2).sum(axis=1) / ((y - y_bar) ** 2).sum(axis=1)\n",
      "/home/alexgonzalez/Documents/wombats/wombats/metrics.py:18: RuntimeWarning: divide by zero encountered in true_divide\n",
      "  return 1 - ((y - y_hat) ** 2).sum(axis=1) / ((y - y_bar) ** 2).sum(axis=1)\n",
      "/home/alexgonzalez/Documents/wombats/wombats/metrics.py:18: RuntimeWarning: invalid value encountered in true_divide\n",
      "  return 1 - ((y - y_hat) ** 2).sum(axis=1) / ((y - y_bar) ** 2).sum(axis=1)\n",
      "/home/alexgonzalez/Documents/wombats/wombats/metrics.py:18: RuntimeWarning: divide by zero encountered in true_divide\n",
      "  return 1 - ((y - y_hat) ** 2).sum(axis=1) / ((y - y_bar) ** 2).sum(axis=1)\n",
      "/home/alexgonzalez/Documents/wombats/wombats/metrics.py:18: RuntimeWarning: invalid value encountered in true_divide\n",
      "  return 1 - ((y - y_hat) ** 2).sum(axis=1) / ((y - y_bar) ** 2).sum(axis=1)\n",
      "/home/alexgonzalez/Documents/wombats/wombats/metrics.py:18: RuntimeWarning: divide by zero encountered in true_divide\n",
      "  return 1 - ((y - y_hat) ** 2).sum(axis=1) / ((y - y_bar) ** 2).sum(axis=1)\n"
     ]
    }
   ],
   "source": [
    "utils = reload(utils)\n",
    "metrics = reload(metrics)\n",
    "models = reload(models)\n",
    "\n",
    "session_idx = 0\n",
    "\n",
    "kf = KFold(n_splits=num_folds, shuffle=True, random_state=session_idx)   \n",
    "session_data = dataset.data[session_idx]\n",
    "   \n",
    "trials =  np.where(session_data['trial_types']=='valid')[0]\n",
    "\n",
    "kf = KFold(n_splits=5, shuffle=True, random_state=session_idx)\n",
    "fold_num =0\n",
    "for train_index, test_index in kf.split(trials):\n",
    "    \n",
    "    train_trials = trials[train_index]\n",
    "    test_trials = trials[test_index]\n",
    "    \n",
    "    A = train_models(session_data, train_trials)\n",
    "    \n",
    "    train_r2 = get_fit_perfs(session_data, A, train_trials)\n",
    "    test_r2 = get_fit_perfs(session_data, A, test_trials)\n",
    "\n",
    "    \n",
    "    fold_num+=1\n",
    "    \n",
    "# A's pertbation or not\n",
    "#---> \n",
    "\n",
    "AE = models.get_ae(A1,A2,A3)"
   ]
  },
  {
   "cell_type": "code",
   "execution_count": 138,
   "metadata": {},
   "outputs": [
    {
     "data": {
      "text/plain": [
       "(array([0.06601639,        nan, 0.51601108]),\n",
       " array([     -inf,       nan, 0.5047259]))"
      ]
     },
     "execution_count": 138,
     "metadata": {},
     "output_type": "execute_result"
    }
   ],
   "source": [
    "train_r2, test_r2"
   ]
  },
  {
   "cell_type": "code",
   "execution_count": 98,
   "metadata": {},
   "outputs": [
    {
     "name": "stderr",
     "output_type": "stream",
     "text": [
      "/home/alexgonzalez/Documents/wombats/wombats/metrics.py:18: RuntimeWarning: invalid value encountered in true_divide\n",
      "  return 1 - ((y - y_hat) ** 2).sum(axis=1) / ((y - y_bar) ** 2).sum(axis=1)\n"
     ]
    },
    {
     "ename": "ValueError",
     "evalue": "matmul: Input operand 1 has a mismatch in its core dimension 0, with gufunc signature (n?,k),(k,m?)->(n?,m?) (size 113 is different from 1)",
     "output_type": "error",
     "traceback": [
      "\u001b[0;31m---------------------------------------------------------------------------\u001b[0m",
      "\u001b[0;31mValueError\u001b[0m                                Traceback (most recent call last)",
      "\u001b[0;32m<ipython-input-98-17b0e220694f>\u001b[0m in \u001b[0;36m<module>\u001b[0;34m\u001b[0m\n\u001b[0;32m----> 1\u001b[0;31m \u001b[0mget_fit_perfs\u001b[0m\u001b[0;34m(\u001b[0m\u001b[0msession_data\u001b[0m\u001b[0;34m,\u001b[0m \u001b[0mA\u001b[0m\u001b[0;34m,\u001b[0m \u001b[0mtrain_trials\u001b[0m\u001b[0;34m)\u001b[0m\u001b[0;34m\u001b[0m\u001b[0;34m\u001b[0m\u001b[0m\n\u001b[0m",
      "\u001b[0;32m<ipython-input-95-1c1546aeb829>\u001b[0m in \u001b[0;36mget_fit_perfs\u001b[0;34m(session_data, A, trials)\u001b[0m\n\u001b[1;32m     29\u001b[0m     \u001b[0mR2\u001b[0m\u001b[0;34m[\u001b[0m\u001b[0;36m0\u001b[0m\u001b[0;34m]\u001b[0m \u001b[0;34m=\u001b[0m \u001b[0mget_fit_r2\u001b[0m\u001b[0;34m(\u001b[0m\u001b[0mstim\u001b[0m\u001b[0;34m,\u001b[0m \u001b[0mA\u001b[0m\u001b[0;34m[\u001b[0m\u001b[0;36m0\u001b[0m\u001b[0;34m]\u001b[0m\u001b[0;34m,\u001b[0m \u001b[0mregion1_data\u001b[0m\u001b[0;34m)\u001b[0m\u001b[0;34m\u001b[0m\u001b[0;34m\u001b[0m\u001b[0m\n\u001b[1;32m     30\u001b[0m     \u001b[0mR2\u001b[0m\u001b[0;34m[\u001b[0m\u001b[0;36m1\u001b[0m\u001b[0;34m]\u001b[0m \u001b[0;34m=\u001b[0m \u001b[0mget_fit_r2\u001b[0m\u001b[0;34m(\u001b[0m\u001b[0mstim\u001b[0m\u001b[0;34m@\u001b[0m\u001b[0mA\u001b[0m\u001b[0;34m[\u001b[0m\u001b[0;36m0\u001b[0m\u001b[0;34m]\u001b[0m\u001b[0;34m,\u001b[0m \u001b[0mA\u001b[0m\u001b[0;34m[\u001b[0m\u001b[0;36m1\u001b[0m\u001b[0;34m]\u001b[0m\u001b[0;34m,\u001b[0m \u001b[0mregion2_data\u001b[0m\u001b[0;34m)\u001b[0m\u001b[0;34m\u001b[0m\u001b[0;34m\u001b[0m\u001b[0m\n\u001b[0;32m---> 31\u001b[0;31m     \u001b[0mR2\u001b[0m\u001b[0;34m[\u001b[0m\u001b[0;36m2\u001b[0m\u001b[0;34m]\u001b[0m \u001b[0;34m=\u001b[0m \u001b[0mget_fit_r2\u001b[0m\u001b[0;34m(\u001b[0m\u001b[0mregion2_data\u001b[0m\u001b[0;34m,\u001b[0m \u001b[0mA\u001b[0m\u001b[0;34m[\u001b[0m\u001b[0;36m2\u001b[0m\u001b[0;34m]\u001b[0m\u001b[0;34m,\u001b[0m \u001b[0msubject_resp\u001b[0m\u001b[0;34m)\u001b[0m\u001b[0;34m\u001b[0m\u001b[0;34m\u001b[0m\u001b[0m\n\u001b[0m\u001b[1;32m     32\u001b[0m \u001b[0;34m\u001b[0m\u001b[0m\n\u001b[1;32m     33\u001b[0m     \u001b[0;32mreturn\u001b[0m \u001b[0mR2\u001b[0m\u001b[0;34m\u001b[0m\u001b[0;34m\u001b[0m\u001b[0m\n",
      "\u001b[0;32m<ipython-input-95-1c1546aeb829>\u001b[0m in \u001b[0;36mget_fit_r2\u001b[0;34m(in_data, fit_matrix, out_data)\u001b[0m\n\u001b[1;32m     15\u001b[0m \u001b[0;34m\u001b[0m\u001b[0m\n\u001b[1;32m     16\u001b[0m \u001b[0;32mdef\u001b[0m \u001b[0mget_fit_r2\u001b[0m\u001b[0;34m(\u001b[0m\u001b[0min_data\u001b[0m\u001b[0;34m,\u001b[0m \u001b[0mfit_matrix\u001b[0m\u001b[0;34m,\u001b[0m \u001b[0mout_data\u001b[0m\u001b[0;34m)\u001b[0m\u001b[0;34m:\u001b[0m\u001b[0;34m\u001b[0m\u001b[0;34m\u001b[0m\u001b[0m\n\u001b[0;32m---> 17\u001b[0;31m     \u001b[0mout_data_hat\u001b[0m \u001b[0;34m=\u001b[0m \u001b[0;34m(\u001b[0m\u001b[0min_data\u001b[0m\u001b[0;34m@\u001b[0m\u001b[0mfit_matrix\u001b[0m\u001b[0;34m)\u001b[0m\u001b[0;34m.\u001b[0m\u001b[0mT\u001b[0m\u001b[0;34m\u001b[0m\u001b[0;34m\u001b[0m\u001b[0m\n\u001b[0m\u001b[1;32m     18\u001b[0m     \u001b[0mr2\u001b[0m \u001b[0;34m=\u001b[0m \u001b[0mmetrics\u001b[0m\u001b[0;34m.\u001b[0m\u001b[0mr2\u001b[0m\u001b[0;34m(\u001b[0m\u001b[0mnp\u001b[0m\u001b[0;34m.\u001b[0m\u001b[0msqueeze\u001b[0m\u001b[0;34m(\u001b[0m\u001b[0mout_data\u001b[0m\u001b[0;34m)\u001b[0m\u001b[0;34m,\u001b[0m \u001b[0mout_data_hat\u001b[0m\u001b[0;34m)\u001b[0m\u001b[0;34m\u001b[0m\u001b[0;34m\u001b[0m\u001b[0m\n\u001b[1;32m     19\u001b[0m     \u001b[0;32mreturn\u001b[0m \u001b[0mr2\u001b[0m\u001b[0;34m.\u001b[0m\u001b[0mmean\u001b[0m\u001b[0;34m(\u001b[0m\u001b[0;34m)\u001b[0m\u001b[0;34m\u001b[0m\u001b[0;34m\u001b[0m\u001b[0m\n",
      "\u001b[0;31mValueError\u001b[0m: matmul: Input operand 1 has a mismatch in its core dimension 0, with gufunc signature (n?,k),(k,m?)->(n?,m?) (size 113 is different from 1)"
     ]
    }
   ],
   "source": [
    "get_fit_perfs(session_data, A, train_trials)"
   ]
  },
  {
   "cell_type": "code",
   "execution_count": 132,
   "metadata": {},
   "outputs": [
    {
     "data": {
      "text/plain": [
       "array([[1.15020363],\n",
       "       [1.39950287],\n",
       "       [0.94929105],\n",
       "       [2.26680167],\n",
       "       [0.81677584],\n",
       "       [1.51710695],\n",
       "       [1.13321043],\n",
       "       [1.34983104],\n",
       "       [2.09712508],\n",
       "       [1.24966756],\n",
       "       [0.85012552],\n",
       "       [2.68711772],\n",
       "       [1.11656384],\n",
       "       [1.33318552],\n",
       "       [1.16616737],\n",
       "       [0.63355482],\n",
       "       [2.25236982],\n",
       "       [2.26686564],\n",
       "       [1.0334353 ],\n",
       "       [1.50068597],\n",
       "       [2.55500321],\n",
       "       [1.11652772],\n",
       "       [1.88402217],\n",
       "       [2.45124877],\n",
       "       [1.16664193],\n",
       "       [1.20006031],\n",
       "       [2.03322566],\n",
       "       [1.28394722],\n",
       "       [1.00076718],\n",
       "       [0.65046396],\n",
       "       [1.46640514],\n",
       "       [2.06899863],\n",
       "       [1.26769545],\n",
       "       [0.96801046],\n",
       "       [1.31672231],\n",
       "       [1.9945947 ],\n",
       "       [2.04642421],\n",
       "       [1.21717001],\n",
       "       [1.15041613],\n",
       "       [1.20058137],\n",
       "       [0.58430745],\n",
       "       [1.48373157],\n",
       "       [1.08377657],\n",
       "       [1.61696393],\n",
       "       [2.0249377 ],\n",
       "       [0.63468075],\n",
       "       [1.31750766],\n",
       "       [0.85095507],\n",
       "       [0.68352361],\n",
       "       [1.21828197],\n",
       "       [1.97045611],\n",
       "       [1.11797797],\n",
       "       [2.1441927 ],\n",
       "       [1.23396189],\n",
       "       [0.63466365],\n",
       "       [1.1342873 ],\n",
       "       [1.66770751],\n",
       "       [1.55014191],\n",
       "       [0.68371489],\n",
       "       [1.30129107],\n",
       "       [1.20153896],\n",
       "       [1.15070234],\n",
       "       [2.48842292],\n",
       "       [1.45103799],\n",
       "       [0.70175933],\n",
       "       [1.53410517],\n",
       "       [1.98478822],\n",
       "       [2.43346185],\n",
       "       [1.36750195],\n",
       "       [2.14922358],\n",
       "       [0.90154979],\n",
       "       [1.03394011],\n",
       "       [0.75082235],\n",
       "       [1.38440318],\n",
       "       [1.31853061],\n",
       "       [0.66763416],\n",
       "       [0.81730739],\n",
       "       [1.01777675],\n",
       "       [0.95186767],\n",
       "       [2.01481996],\n",
       "       [2.16295917],\n",
       "       [0.951785  ],\n",
       "       [2.31831362],\n",
       "       [0.70186012],\n",
       "       [1.21846907],\n",
       "       [2.56933478],\n",
       "       [2.36544238],\n",
       "       [0.65215477],\n",
       "       [1.33471536],\n",
       "       [1.16827375],\n",
       "       [1.03429643],\n",
       "       [1.1177492 ],\n",
       "       [0.98402039],\n",
       "       [2.60262985],\n",
       "       [1.33511192],\n",
       "       [1.01833607],\n",
       "       [1.61876251],\n",
       "       [2.03657985],\n",
       "       [1.03549279],\n",
       "       [2.08261646],\n",
       "       [1.46853399],\n",
       "       [1.10169264],\n",
       "       [0.88564811],\n",
       "       [2.57525621],\n",
       "       [2.41756704],\n",
       "       [2.66758578],\n",
       "       [1.56854301],\n",
       "       [2.55340651],\n",
       "       [1.83434008],\n",
       "       [2.28840945],\n",
       "       [2.57445661],\n",
       "       [2.1653006 ],\n",
       "       [2.03332651],\n",
       "       [2.27693769],\n",
       "       [0.61774562],\n",
       "       [2.35098914],\n",
       "       [1.05186252],\n",
       "       [1.1185011 ],\n",
       "       [2.56118677],\n",
       "       [1.01803181],\n",
       "       [2.31229221],\n",
       "       [0.70242317],\n",
       "       [1.10209811],\n",
       "       [0.90252518],\n",
       "       [0.71840183],\n",
       "       [0.93584123],\n",
       "       [1.45237904],\n",
       "       [1.38516144],\n",
       "       [0.61852045],\n",
       "       [2.3861482 ],\n",
       "       [1.56961416],\n",
       "       [2.68969916],\n",
       "       [1.45256865],\n",
       "       [0.70279907],\n",
       "       [0.93506685],\n",
       "       [2.59396324],\n",
       "       [2.327756  ],\n",
       "       [1.15257383],\n",
       "       [2.06976685],\n",
       "       [1.9019081 ],\n",
       "       [0.85202689],\n",
       "       [1.1854737 ],\n",
       "       [1.185336  ],\n",
       "       [1.46938694],\n",
       "       [1.38519073],\n",
       "       [2.29048794],\n",
       "       [2.64857895],\n",
       "       [0.96907101],\n",
       "       [2.57194321],\n",
       "       [1.30267954],\n",
       "       [0.60248425],\n",
       "       [2.06512489],\n",
       "       [0.78643812],\n",
       "       [1.35222821],\n",
       "       [2.21893247],\n",
       "       [1.18600374],\n",
       "       [1.05299063],\n",
       "       [1.10255957],\n",
       "       [2.22489538],\n",
       "       [2.10339131],\n",
       "       [2.484936  ],\n",
       "       [0.83666437],\n",
       "       [1.38665617],\n",
       "       [2.40198164],\n",
       "       [1.40349786],\n",
       "       [0.80234024],\n",
       "       [0.95227579],\n",
       "       [0.93658128],\n",
       "       [2.0173672 ],\n",
       "       [2.2502767 ],\n",
       "       [2.54410835],\n",
       "       [2.05736356],\n",
       "       [1.20267983],\n",
       "       [2.25279582],\n",
       "       [2.25601015],\n",
       "       [1.63615021],\n",
       "       [1.11910924],\n",
       "       [1.22005873],\n",
       "       [0.76927693],\n",
       "       [2.28897715],\n",
       "       [2.03377454],\n",
       "       [1.20255644],\n",
       "       [2.46739445],\n",
       "       [2.47640064],\n",
       "       [2.03268765],\n",
       "       [2.1366013 ],\n",
       "       [2.40449933],\n",
       "       [1.33653057],\n",
       "       [2.4957271 ],\n",
       "       [1.31959108],\n",
       "       [1.51888291],\n",
       "       [2.09079068],\n",
       "       [2.21788565],\n",
       "       [2.6024248 ],\n",
       "       [2.53051174],\n",
       "       [2.13620147],\n",
       "       [2.15035791],\n",
       "       [1.1875331 ],\n",
       "       [2.385321  ],\n",
       "       [2.64788938],\n",
       "       [1.53622496],\n",
       "       [2.49997079],\n",
       "       [2.21305111],\n",
       "       [2.13048579],\n",
       "       [2.47970035],\n",
       "       [1.85346734],\n",
       "       [1.87038007],\n",
       "       [2.11380656],\n",
       "       [1.46960651],\n",
       "       [1.45313702],\n",
       "       [1.22035868],\n",
       "       [2.30621361],\n",
       "       [2.27786071],\n",
       "       [1.47038149]])"
      ]
     },
     "execution_count": 132,
     "metadata": {},
     "output_type": "execute_result"
    }
   ],
   "source": [
    "data[0]['response_time']"
   ]
  },
  {
   "cell_type": "code",
   "execution_count": 100,
   "metadata": {},
   "outputs": [],
   "source": [
    "stim, region1_data, region2_data, response = get_trial_data(session_data, train_trials)"
   ]
  },
  {
   "cell_type": "code",
   "execution_count": 107,
   "metadata": {},
   "outputs": [
    {
     "data": {
      "text/plain": [
       "((113, 95), (113, 1), (95,))"
      ]
     },
     "execution_count": 107,
     "metadata": {},
     "output_type": "execute_result"
    }
   ],
   "source": [
    "np.squeeze(region2_data).shape, A[2].shape, response.shape"
   ]
  },
  {
   "cell_type": "code",
   "execution_count": 119,
   "metadata": {},
   "outputs": [
    {
     "data": {
      "text/plain": [
       "((95, 178), (178, 95, 1), (178, 113), (113, 95, 1), (113, 1))"
      ]
     },
     "execution_count": 119,
     "metadata": {},
     "output_type": "execute_result"
    }
   ],
   "source": [
    "(stim@A[0]).shape, region1_data.shape ,A[1].shape, region2_data.shape, A[2].shape"
   ]
  },
  {
   "cell_type": "code",
   "execution_count": 127,
   "metadata": {},
   "outputs": [
    {
     "data": {
      "text/plain": [
       "array([False,  True, False, False, False, False, False, False, False,\n",
       "       False,  True,  True,  True,  True, False,  True,  True, False,\n",
       "       False,  True,  True,  True, False, False,  True, False,  True,\n",
       "        True,  True,  True,  True,  True, False, False, False,  True,\n",
       "        True, False,  True,  True, False, False,  True, False, False,\n",
       "       False, False,  True, False, False,  True, False,  True,  True,\n",
       "        True, False, False,  True, False,  True, False,  True,  True,\n",
       "       False,  True,  True,  True, False, False,  True, False, False,\n",
       "       False, False,  True, False, False,  True, False, False, False,\n",
       "       False,  True, False, False,  True, False, False, False, False,\n",
       "       False, False, False, False, False])"
      ]
     },
     "execution_count": 127,
     "metadata": {},
     "output_type": "execute_result"
    }
   ],
   "source": [
    "response"
   ]
  },
  {
   "cell_type": "code",
   "execution_count": 33,
   "metadata": {},
   "outputs": [
    {
     "data": {
      "text/plain": [
       "((178, 118), (178, 118, 1))"
      ]
     },
     "execution_count": 33,
     "metadata": {},
     "output_type": "execute_result"
    }
   ],
   "source": [
    "class model_fit_session_data:\n",
    "    def __init__(session_data, n_folds):\n",
    "        \n",
    "        kf = KFold(n_splits=num_folds, shuffle=True, random_state=session_idx)   \n"
   ]
  },
  {
   "cell_type": "code",
   "execution_count": 81,
   "metadata": {},
   "outputs": [
    {
     "ename": "ValueError",
     "evalue": "matmul: Input operand 1 has a mismatch in its core dimension 0, with gufunc signature (n?,k),(k,m?)->(n?,m?) (size 118 is different from 3)",
     "output_type": "error",
     "traceback": [
      "\u001b[0;31m---------------------------------------------------------------------------\u001b[0m",
      "\u001b[0;31mValueError\u001b[0m                                Traceback (most recent call last)",
      "\u001b[0;32m<ipython-input-81-66fca01b0cd6>\u001b[0m in \u001b[0;36m<module>\u001b[0;34m\u001b[0m\n\u001b[0;32m----> 1\u001b[0;31m \u001b[0;34m(\u001b[0m\u001b[0mstim\u001b[0m\u001b[0;34m@\u001b[0m\u001b[0mregion1_data\u001b[0m\u001b[0;34m)\u001b[0m\u001b[0;34m.\u001b[0m\u001b[0mshape\u001b[0m\u001b[0;34m\u001b[0m\u001b[0;34m\u001b[0m\u001b[0m\n\u001b[0m",
      "\u001b[0;31mValueError\u001b[0m: matmul: Input operand 1 has a mismatch in its core dimension 0, with gufunc signature (n?,k),(k,m?)->(n?,m?) (size 118 is different from 3)"
     ]
    }
   ],
   "source": [
    "(stim@region1_data).shape"
   ]
  },
  {
   "cell_type": "code",
   "execution_count": 89,
   "metadata": {},
   "outputs": [
    {
     "data": {
      "text/plain": [
       "(178, 3)"
      ]
     },
     "execution_count": 89,
     "metadata": {},
     "output_type": "execute_result"
    }
   ],
   "source": []
  },
  {
   "cell_type": "code",
   "execution_count": 65,
   "metadata": {
    "collapsed": true,
    "jupyter": {
     "outputs_hidden": true
    }
   },
   "outputs": [
    {
     "data": {
      "text/plain": [
       "array([[ 1.59117514e+01,  5.47553135e-01,  6.52475318e-01,\n",
       "         5.39637715e-01,  1.47129793e+01,  2.44734595e+00,\n",
       "         4.08337251e+00,  3.71630643e-01,  8.29799628e-01,\n",
       "         8.67918682e-02,  4.81104881e+00,  1.36893219e+00,\n",
       "         8.70212874e-01,  6.21631041e-03,  1.71545981e+00,\n",
       "         1.11656910e-02,  2.48102526e+00,  1.41961436e-01,\n",
       "         3.24185000e+00,  2.47655143e+00,  8.67671936e-01,\n",
       "         3.32900496e+00,  6.73394913e-02,  2.90003846e+00,\n",
       "         5.72938188e-01,  4.96996276e-01,  2.13677269e+00,\n",
       "         3.07441538e+00,  2.45024300e-01,  5.95525120e+00,\n",
       "         9.93311731e-01,  6.61057721e+00,  3.54224645e+00,\n",
       "         5.55788477e-01,  2.60263308e+00,  1.29531186e+01,\n",
       "         2.24425734e+00,  2.24182189e+01,  4.52089956e-02,\n",
       "         7.60690243e-02,  2.60720551e-02,  5.15767234e-01,\n",
       "         3.11139930e-01,  2.42646174e+00,  6.38854996e+00,\n",
       "         6.65113910e+00,  1.42974782e+01,  4.07560285e-01,\n",
       "         9.37552764e-01,  5.20414737e-01,  6.62391247e+00,\n",
       "         1.15104977e-01, -1.85437426e-01,  2.95038995e+00,\n",
       "         1.21692590e+01,  2.70055116e+00,  1.58223140e+00,\n",
       "         1.72033273e-01,  7.02896791e-01,  5.12758755e+00,\n",
       "         2.10727370e-01,  1.56508488e+00,  1.42163948e+01,\n",
       "         1.71221612e+00,  7.07174124e-01,  5.17758372e+00,\n",
       "         4.34463878e+01,  1.33789799e+00,  1.46156860e+00,\n",
       "         3.11566925e+00,  1.84026545e+01,  4.32326230e-01,\n",
       "         4.79061054e+00,  3.27296375e-01,  3.14775753e+00,\n",
       "         5.73745024e-01,  2.47051258e+00,  7.01471415e+00,\n",
       "         1.74494345e+00,  1.07758610e+01,  4.69015551e-01,\n",
       "         9.55968607e-01,  5.51938927e+00, -3.22301434e-02,\n",
       "         6.93016962e+00,  1.34315334e+00,  6.63316700e-02,\n",
       "         2.48445748e-01,  8.11049107e-01,  2.40368971e+00,\n",
       "         7.56078432e-01,  1.40774701e+00,  1.29805293e+01,\n",
       "         6.33285111e+00,  2.04185713e+00,  7.91681571e-03,\n",
       "         1.64475520e+00,  8.22227370e+00,  3.56080545e-01,\n",
       "         3.70160424e+00,  5.76718570e+00,  2.31134829e-01,\n",
       "         1.58652409e+01,  4.35744209e+00,  6.84852114e-01,\n",
       "         3.95979761e-01,  1.42502204e+00,  2.80148403e-01,\n",
       "         1.63438488e+00,  5.37355586e-01,  1.40076534e+00,\n",
       "         1.39065931e+00,  2.10663465e-02,  6.75934755e-01,\n",
       "         4.72970171e-01,  8.59923904e-01,  3.89590678e-01,\n",
       "         4.22259881e-01,  4.53159887e-01,  2.35964177e-02,\n",
       "         9.75398652e-01,  1.20947629e-01,  8.65149441e-01,\n",
       "         1.71824810e-01,  1.34780273e-02,  1.81204207e+00,\n",
       "         4.95127485e-03, -2.39867254e-02,  7.94595260e+00,\n",
       "        -1.23341217e-02,  3.32189428e-01,  3.77736580e+00,\n",
       "         1.22944960e+01,  2.23913908e+00,  3.37960728e+00,\n",
       "         4.97459860e-01,  1.77731855e+00,  2.01001740e+00,\n",
       "         2.48372472e-01,  8.81647683e+00,  1.00134845e+01,\n",
       "         6.27360938e-01,  3.59727106e-02,  6.89272112e-01,\n",
       "         5.68155499e-01,  1.04885097e-01,  6.78339778e+00,\n",
       "         4.85381733e+01,  2.49662353e+01,  3.01260170e+01,\n",
       "         1.46232073e+01,  1.99551116e+01,  7.49361092e+00,\n",
       "         2.24591070e+01,  6.66680494e+00,  5.10385086e+00,\n",
       "         6.87663186e+00,  4.52210597e+00,  1.05745999e+01,\n",
       "         9.34047601e+00,  1.56988153e+00,  7.95662440e+00,\n",
       "         1.96301158e+01,  8.97376255e+00,  8.02143672e+00,\n",
       "         7.07779884e+00,  4.01203424e+00,  2.18978016e+00,\n",
       "         4.59968369e+00,  2.05401649e+00,  2.97404937e+00,\n",
       "        -2.53154663e-02,  3.54475847e-01,  9.54892993e-02,\n",
       "         6.47809970e-01,  1.52048422e-01,  1.13832694e+00,\n",
       "        -7.30978008e-02],\n",
       "       [ 9.20285113e+00, -6.95307973e-02, -2.02355843e-01,\n",
       "         2.72603252e-01, -7.88072396e+00,  1.56940179e-01,\n",
       "         7.83047945e-01, -1.86462793e-01,  1.40932719e+00,\n",
       "         2.34222896e-01, -2.33310005e+00, -4.72532508e-01,\n",
       "         6.03889638e-01,  4.33974295e-02,  5.71853103e-04,\n",
       "        -2.19569260e-03, -1.70695400e+00,  4.97994726e-02,\n",
       "        -2.81729772e-01, -6.61007953e-01, -1.64243469e-01,\n",
       "         1.22949215e+00,  3.47669140e-01,  3.69210934e-01,\n",
       "         5.13249725e-01,  1.07009787e+00,  1.57059814e-01,\n",
       "        -1.53911312e+00,  3.16013841e-01, -1.03440410e-01,\n",
       "         2.54347021e-02, -2.55734941e+00, -8.37620038e-01,\n",
       "        -1.79771235e-01, -1.02029121e-01,  3.29644442e+00,\n",
       "         1.87414486e+00,  3.42253564e+00,  1.15387514e-02,\n",
       "         8.79002822e-02,  2.03972904e-02,  2.19248639e-01,\n",
       "         7.15797382e-02,  2.09531962e+00, -1.42547865e+00,\n",
       "         3.69707179e+00,  3.78882589e-03,  3.28671574e-01,\n",
       "         1.81109786e+00,  1.69238610e-01,  4.42948640e+00,\n",
       "        -1.73015472e-02,  6.13952099e-01, -7.66377271e-01,\n",
       "        -2.35132557e+00,  3.68962493e-01,  5.45303806e-01,\n",
       "        -8.61639863e-02,  1.77831161e-01,  3.72676308e+00,\n",
       "         3.02091172e-01,  1.39526215e+00,  1.18994496e+00,\n",
       "         5.09694984e-01,  9.27336772e-01, -5.91478751e-01,\n",
       "        -1.10058433e+00,  1.38074610e+00, -1.66886196e-01,\n",
       "        -1.10283665e+00,  2.27890919e+00, -1.89636299e-01,\n",
       "        -5.48477710e-01, -1.32362858e-01,  3.68722467e+00,\n",
       "        -4.24306628e-01,  4.57151892e-01,  3.05808975e+00,\n",
       "         1.37779870e+00,  1.09339191e-01,  4.14112170e-01,\n",
       "         8.74031209e-01,  1.86449434e+00,  9.55776295e-02,\n",
       "        -1.24364770e+00,  3.48317879e+00,  7.75291639e-02,\n",
       "         2.79768962e-01, -3.55112403e-01, -1.02430575e+00,\n",
       "         5.24427180e-01,  1.41179126e-01,  1.90798190e+00,\n",
       "         3.26903415e+00,  7.04019760e-01, -4.13935510e-04,\n",
       "        -2.34290689e-01, -6.03385977e-01,  2.79984304e-01,\n",
       "         8.63454719e-01,  3.93308960e+00,  1.18074905e-01,\n",
       "        -1.29360031e-01,  2.94621590e-01, -2.02436796e-01,\n",
       "         8.62005944e-01,  2.77689315e-01,  5.62206571e-01,\n",
       "        -5.48066566e-01,  1.19997432e-02, -2.39264295e-01,\n",
       "        -2.26848224e-01, -1.05713068e-02,  3.21442537e+00,\n",
       "         2.48283942e-01, -3.63913916e-01,  4.23302097e-01,\n",
       "         1.35849008e-02,  2.25873920e+00,  1.78853638e-03,\n",
       "         6.26396484e-01, -2.86887616e-02,  1.54639208e-01,\n",
       "        -7.68847325e-02,  3.51597939e-02, -1.02803157e-01,\n",
       "         3.72175080e-02,  5.76702290e-02,  2.60727928e-01,\n",
       "         1.55269124e+00, -2.54517699e-01,  2.24672431e+00,\n",
       "         1.55663679e-01,  5.71604263e-01,  2.07731861e+00,\n",
       "         2.84278386e-01, -9.41990009e-01, -3.78309939e-01,\n",
       "         1.00612968e+00,  1.28308762e+00, -6.63996823e-01,\n",
       "        -3.96524696e-02,  1.20216762e-02,  4.71746908e-02,\n",
       "        -1.53821705e-01, -6.99594878e-02,  4.96818200e+00,\n",
       "         5.16354999e+00,  3.25586439e+00,  2.64698120e+00,\n",
       "         5.49508162e-01, -4.94211842e+00,  2.27962819e-01,\n",
       "        -4.55340905e+00, -1.95482400e+00,  1.38210315e+00,\n",
       "        -1.15864218e+00,  1.41143634e-01,  3.54592949e+00,\n",
       "        -5.80653021e-01,  1.46201384e-01,  2.38604830e+00,\n",
       "        -7.95469599e-01,  6.15243594e+00,  2.28634926e+00,\n",
       "        -2.11312203e+00, -2.59274608e+00, -2.33370699e-01,\n",
       "         8.02683961e-02, -2.08339963e-01, -9.57414091e-01,\n",
       "         7.34556078e-02,  1.61392977e-01,  1.14891430e-01,\n",
       "         4.99470218e-02,  3.27725664e-01, -4.56042481e-01,\n",
       "         1.22900165e-01],\n",
       "       [-5.87165447e+00,  5.42696571e-01, -1.17127399e-01,\n",
       "        -1.94362262e-01,  5.02046349e-02,  1.50876343e+00,\n",
       "         6.66603659e-01,  5.12199333e-02,  4.89396990e-02,\n",
       "         1.50502645e-01,  1.92557376e+00, -5.28834118e-01,\n",
       "        -2.86618837e-01,  9.51134474e-03,  3.26961996e-01,\n",
       "        -9.47425804e-03,  1.74128592e+00, -3.06691120e-02,\n",
       "         9.71545722e-01,  7.50284032e-02,  2.66237498e-01,\n",
       "        -3.39095332e-01, -6.41863236e-02, -6.86575848e-01,\n",
       "         4.52679554e-01, -2.97968566e-01,  1.23127989e+00,\n",
       "         1.21111828e+00,  2.91292559e-01, -2.20199853e+00,\n",
       "         1.08295977e-01,  2.55330417e+00,  9.04920050e-01,\n",
       "        -1.80470698e-01,  1.02239838e+00, -4.13665215e+00,\n",
       "         1.28065147e+00, -8.24931559e+00,  3.67122514e-02,\n",
       "         1.50747497e-02, -1.22414050e-02, -2.28918300e-01,\n",
       "         5.60463895e-02, -1.01575188e+00,  4.00874409e+00,\n",
       "        -2.58910919e+00,  3.58762851e-01,  1.68164292e-01,\n",
       "         2.15776047e-01,  1.83455181e-01, -2.97110945e+00,\n",
       "         1.83003361e-01,  8.80907005e-01, -9.68566025e-01,\n",
       "        -1.30547204e-01,  1.07188720e+00,  6.11444160e-02,\n",
       "         9.99363145e-02,  3.69217714e-01,  3.16632232e+00,\n",
       "        -1.00542064e-01, -1.37268951e+00, -1.32339649e+00,\n",
       "        -2.44581652e-01,  1.85918456e-01, -6.06190609e-01,\n",
       "        -3.84423344e+00,  3.84609096e-02, -5.64151031e-01,\n",
       "         5.62078961e-01, -1.91385316e+00,  4.60822280e-01,\n",
       "         9.80493987e-01,  1.43720164e-01,  1.61056126e+00,\n",
       "         1.21441421e-01, -1.13917884e+00, -2.42824260e+00,\n",
       "        -5.83047307e-01,  2.45798774e+00, -8.50326423e-02,\n",
       "        -2.55739168e-01,  5.53212845e-01,  5.69197216e-02,\n",
       "         1.05631756e+00,  6.22402684e-02,  4.34564492e-02,\n",
       "         8.30762188e-02, -3.16157004e-01, -4.02371236e-01,\n",
       "        -2.19274560e-01,  1.36481476e-01,  4.38924214e+00,\n",
       "        -3.80499211e+00,  4.46682674e-01,  5.34263931e-02,\n",
       "         6.28960252e-01, -6.41586880e-01,  1.16939174e-01,\n",
       "        -6.21218302e-02, -1.89956242e+00, -2.57193924e-01,\n",
       "         9.12216561e-01,  1.23349432e+00,  1.86192021e-01,\n",
       "         1.24870545e-01,  1.51109590e-01, -8.58026899e-02,\n",
       "         1.79866544e-02,  6.96978869e-02,  7.15987202e-01,\n",
       "        -3.93290975e-01, -2.28513936e-02, -8.61512252e-02,\n",
       "        -1.07507586e-01,  1.83072749e-02, -2.26157135e-02,\n",
       "        -2.73625728e-01,  5.04502845e-01, -1.50456386e-02,\n",
       "         2.30402167e-01, -2.74102671e-02,  3.56808023e-01,\n",
       "        -8.03900246e-02, -2.16745885e-02,  1.13771690e+00,\n",
       "         5.60846725e-03,  1.40355243e-01, -1.25976367e-01,\n",
       "         1.25986895e+00,  9.51389695e-02, -2.21449157e+00,\n",
       "         6.56179503e-01,  1.35249560e+00,  1.09182749e+00,\n",
       "        -3.13981250e-01, -2.10313534e-02,  5.19938093e-01,\n",
       "        -2.62207010e-02, -7.20983938e-01,  1.18527004e+00,\n",
       "         5.39884361e-01, -2.56185405e-02,  3.06531607e-02,\n",
       "        -3.07233463e-02, -1.85429550e-02, -1.44047683e+00,\n",
       "        -3.48886900e+00, -1.47567610e-01, -2.83878568e+00,\n",
       "         5.05003316e-01, -3.17208791e+00,  4.51918041e+00,\n",
       "        -3.26163436e+00,  1.79536711e+00,  1.21976147e+00,\n",
       "        -3.12208665e-01, -2.27897618e+00,  1.39657215e+00,\n",
       "         1.51099023e+00,  2.74388996e-01, -5.12943062e-01,\n",
       "        -4.04215403e+00, -1.64398117e+00, -1.81055472e+00,\n",
       "         3.69375233e-01, -6.62270496e-01,  1.18844514e+00,\n",
       "        -7.88806354e-02,  1.54926610e+00,  5.36219158e-01,\n",
       "         2.91771098e-01,  1.94159282e-01, -4.66901709e-02,\n",
       "         7.82656740e-01,  6.91023063e-01,  1.48203667e-01,\n",
       "         1.06525386e-01]])"
      ]
     },
     "execution_count": 65,
     "metadata": {},
     "output_type": "execute_result"
    }
   ],
   "source": [
    "A1, A2, A3 = train_models(session_data, trials)"
   ]
  },
  {
   "cell_type": "code",
   "execution_count": 66,
   "metadata": {},
   "outputs": [
    {
     "data": {
      "text/plain": [
       "((3, 178), (178, 113), (113, 1))"
      ]
     },
     "execution_count": 66,
     "metadata": {},
     "output_type": "execute_result"
    }
   ],
   "source": [
    "A1.shape, A2.shape, A3.shape"
   ]
  },
  {
   "cell_type": "code",
   "execution_count": 70,
   "metadata": {},
   "outputs": [],
   "source": [
    "from sklearn.model_selection import KFold\n"
   ]
  },
  {
   "cell_type": "code",
   "execution_count": 71,
   "metadata": {},
   "outputs": [
    {
     "name": "stdout",
     "output_type": "stream",
     "text": [
      "[  2  13  14  24  33  42  46  57  61  75  78  88 102 117 124 126 140 142\n",
      " 143 150 162 177 197 213]\n",
      "[  4  12  27  29  38  49  50  83  87  91  94 100 101 104 122 125 127 152\n",
      " 164 167 172 193 205 206]\n",
      "[  0   1   9  10  32  37  45  53  63  64  70  72  73  74  89  90  92  98\n",
      " 114 130 157 166 187 190]\n",
      "[ 30  39  40  47  56  58  60  84  95 119 123 128 132 133 137 156 161 165\n",
      " 175 176 200 209 210]\n",
      "[ 15  28  41  65  68  71  77  81  82  96 106 108 116 121 134 139 144 147\n",
      " 178 181 185 189 208]\n"
     ]
    }
   ],
   "source": []
  },
  {
   "cell_type": "code",
   "execution_count": 56,
   "metadata": {},
   "outputs": [
    {
     "data": {
      "text/plain": [
       "<module 'sklearn.model_selection' from '/home/alexgonzalez/anaconda3/envs/wombats/lib/python3.8/site-packages/sklearn/model_selection/__init__.py'>"
      ]
     },
     "execution_count": 56,
     "metadata": {},
     "output_type": "execute_result"
    }
   ],
   "source": [
    "ms.KFo"
   ]
  },
  {
   "cell_type": "code",
   "execution_count": 8,
   "metadata": {},
   "outputs": [
    {
     "data": {
      "text/plain": [
       "<matplotlib.collections.PathCollection at 0x7ff85c30d160>"
      ]
     },
     "execution_count": 8,
     "metadata": {},
     "output_type": "execute_result"
    },
    {
     "data": {
      "image/png": "[encoded data removed]",
      "text/plain": [
       "<Figure size 432x288 with 1 Axes>"
      ]
     },
     "metadata": {
      "needs_background": "light"
     },
     "output_type": "display_data"
    }
   ],
   "source": [
    "plt.scatter(session_data['delta_contrast'][train_trials], utils.sigmoid(stim@AE))"
   ]
  },
  {
   "cell_type": "code",
   "execution_count": 20,
   "metadata": {},
   "outputs": [
    {
     "data": {
      "text/plain": [
       "<matplotlib.collections.PathCollection at 0x7fadad4eb8b0>"
      ]
     },
     "execution_count": 20,
     "metadata": {},
     "output_type": "execute_result"
    },
    {
     "data": {
      "image/png": "[encoded data removed]",
      "text/plain": [
       "<Figure size 432x288 with 1 Axes>"
      ]
     },
     "metadata": {
      "needs_background": "light"
     },
     "output_type": "display_data"
    }
   ],
   "source": [
    "plt.scatter(stim@AE, utils.sigmoid(stim@AE))"
   ]
  },
  {
   "cell_type": "code",
   "execution_count": null,
   "metadata": {},
   "outputs": [],
   "source": []
  }
 ],
 "metadata": {
  "kernelspec": {
   "display_name": "Python 3",
   "language": "python",
   "name": "python3"
  },
  "language_info": {
   "codemirror_mode": {
    "name": "ipython",
    "version": 3
   },
   "file_extension": ".py",
   "mimetype": "text/x-python",
   "name": "python",
   "nbconvert_exporter": "python",
   "pygments_lexer": "ipython3",
   "version": "3.8.5"
  },
  "widgets": {
   "application/vnd.jupyter.widget-state+json": {
    "state": {},
    "version_major": 2,
    "version_minor": 0
   }
  }
 },
 "nbformat": 4,
 "nbformat_minor": 4
}
